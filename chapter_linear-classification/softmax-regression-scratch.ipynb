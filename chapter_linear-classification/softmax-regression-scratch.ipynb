{
  "cells": [
    {
      "cell_type": "markdown",
      "id": "840562b8",
      "metadata": {
        "id": "840562b8"
      },
      "source": [
        "The following additional libraries are needed to run this\n",
        "notebook. Note that running on Colab is experimental, please report a Github\n",
        "issue if you have any problem."
      ]
    },
    {
      "cell_type": "code",
      "execution_count": 1,
      "id": "7f9183ee",
      "metadata": {
        "colab": {
          "base_uri": "https://localhost:8080/"
        },
        "id": "7f9183ee",
        "outputId": "33c4045a-e1dd-4800-83a4-f612aa1570d7"
      },
      "outputs": [
        {
          "output_type": "stream",
          "name": "stdout",
          "text": [
            "Requirement already satisfied: d2l==1.0.3 in /usr/local/lib/python3.11/dist-packages (1.0.3)\n",
            "Requirement already satisfied: jupyter==1.0.0 in /usr/local/lib/python3.11/dist-packages (from d2l==1.0.3) (1.0.0)\n",
            "Requirement already satisfied: numpy==1.23.5 in /usr/local/lib/python3.11/dist-packages (from d2l==1.0.3) (1.23.5)\n",
            "Requirement already satisfied: matplotlib==3.7.2 in /usr/local/lib/python3.11/dist-packages (from d2l==1.0.3) (3.7.2)\n",
            "Requirement already satisfied: matplotlib-inline==0.1.6 in /usr/local/lib/python3.11/dist-packages (from d2l==1.0.3) (0.1.6)\n",
            "Requirement already satisfied: requests==2.31.0 in /usr/local/lib/python3.11/dist-packages (from d2l==1.0.3) (2.31.0)\n",
            "Requirement already satisfied: pandas==2.0.3 in /usr/local/lib/python3.11/dist-packages (from d2l==1.0.3) (2.0.3)\n",
            "Requirement already satisfied: scipy==1.10.1 in /usr/local/lib/python3.11/dist-packages (from d2l==1.0.3) (1.10.1)\n",
            "Requirement already satisfied: notebook in /usr/local/lib/python3.11/dist-packages (from jupyter==1.0.0->d2l==1.0.3) (6.5.7)\n",
            "Requirement already satisfied: qtconsole in /usr/local/lib/python3.11/dist-packages (from jupyter==1.0.0->d2l==1.0.3) (5.6.1)\n",
            "Requirement already satisfied: jupyter-console in /usr/local/lib/python3.11/dist-packages (from jupyter==1.0.0->d2l==1.0.3) (6.1.0)\n",
            "Requirement already satisfied: nbconvert in /usr/local/lib/python3.11/dist-packages (from jupyter==1.0.0->d2l==1.0.3) (7.16.6)\n",
            "Requirement already satisfied: ipykernel in /usr/local/lib/python3.11/dist-packages (from jupyter==1.0.0->d2l==1.0.3) (6.17.1)\n",
            "Requirement already satisfied: ipywidgets in /usr/local/lib/python3.11/dist-packages (from jupyter==1.0.0->d2l==1.0.3) (7.7.1)\n",
            "Requirement already satisfied: contourpy>=1.0.1 in /usr/local/lib/python3.11/dist-packages (from matplotlib==3.7.2->d2l==1.0.3) (1.3.2)\n",
            "Requirement already satisfied: cycler>=0.10 in /usr/local/lib/python3.11/dist-packages (from matplotlib==3.7.2->d2l==1.0.3) (0.12.1)\n",
            "Requirement already satisfied: fonttools>=4.22.0 in /usr/local/lib/python3.11/dist-packages (from matplotlib==3.7.2->d2l==1.0.3) (4.58.5)\n",
            "Requirement already satisfied: kiwisolver>=1.0.1 in /usr/local/lib/python3.11/dist-packages (from matplotlib==3.7.2->d2l==1.0.3) (1.4.8)\n",
            "Requirement already satisfied: packaging>=20.0 in /usr/local/lib/python3.11/dist-packages (from matplotlib==3.7.2->d2l==1.0.3) (25.0)\n",
            "Requirement already satisfied: pillow>=6.2.0 in /usr/local/lib/python3.11/dist-packages (from matplotlib==3.7.2->d2l==1.0.3) (11.2.1)\n",
            "Requirement already satisfied: pyparsing<3.1,>=2.3.1 in /usr/local/lib/python3.11/dist-packages (from matplotlib==3.7.2->d2l==1.0.3) (3.0.9)\n",
            "Requirement already satisfied: python-dateutil>=2.7 in /usr/local/lib/python3.11/dist-packages (from matplotlib==3.7.2->d2l==1.0.3) (2.9.0.post0)\n",
            "Requirement already satisfied: traitlets in /usr/local/lib/python3.11/dist-packages (from matplotlib-inline==0.1.6->d2l==1.0.3) (5.7.1)\n",
            "Requirement already satisfied: pytz>=2020.1 in /usr/local/lib/python3.11/dist-packages (from pandas==2.0.3->d2l==1.0.3) (2025.2)\n",
            "Requirement already satisfied: tzdata>=2022.1 in /usr/local/lib/python3.11/dist-packages (from pandas==2.0.3->d2l==1.0.3) (2025.2)\n",
            "Requirement already satisfied: charset-normalizer<4,>=2 in /usr/local/lib/python3.11/dist-packages (from requests==2.31.0->d2l==1.0.3) (3.4.2)\n",
            "Requirement already satisfied: idna<4,>=2.5 in /usr/local/lib/python3.11/dist-packages (from requests==2.31.0->d2l==1.0.3) (3.10)\n",
            "Requirement already satisfied: urllib3<3,>=1.21.1 in /usr/local/lib/python3.11/dist-packages (from requests==2.31.0->d2l==1.0.3) (2.4.0)\n",
            "Requirement already satisfied: certifi>=2017.4.17 in /usr/local/lib/python3.11/dist-packages (from requests==2.31.0->d2l==1.0.3) (2025.7.14)\n",
            "Requirement already satisfied: six>=1.5 in /usr/local/lib/python3.11/dist-packages (from python-dateutil>=2.7->matplotlib==3.7.2->d2l==1.0.3) (1.17.0)\n",
            "Requirement already satisfied: debugpy>=1.0 in /usr/local/lib/python3.11/dist-packages (from ipykernel->jupyter==1.0.0->d2l==1.0.3) (1.8.0)\n",
            "Requirement already satisfied: ipython>=7.23.1 in /usr/local/lib/python3.11/dist-packages (from ipykernel->jupyter==1.0.0->d2l==1.0.3) (7.34.0)\n",
            "Requirement already satisfied: jupyter-client>=6.1.12 in /usr/local/lib/python3.11/dist-packages (from ipykernel->jupyter==1.0.0->d2l==1.0.3) (6.1.12)\n",
            "Requirement already satisfied: nest-asyncio in /usr/local/lib/python3.11/dist-packages (from ipykernel->jupyter==1.0.0->d2l==1.0.3) (1.6.0)\n",
            "Requirement already satisfied: psutil in /usr/local/lib/python3.11/dist-packages (from ipykernel->jupyter==1.0.0->d2l==1.0.3) (5.9.5)\n",
            "Requirement already satisfied: pyzmq>=17 in /usr/local/lib/python3.11/dist-packages (from ipykernel->jupyter==1.0.0->d2l==1.0.3) (24.0.1)\n",
            "Requirement already satisfied: tornado>=6.1 in /usr/local/lib/python3.11/dist-packages (from ipykernel->jupyter==1.0.0->d2l==1.0.3) (6.4.2)\n",
            "Requirement already satisfied: ipython-genutils~=0.2.0 in /usr/local/lib/python3.11/dist-packages (from ipywidgets->jupyter==1.0.0->d2l==1.0.3) (0.2.0)\n",
            "Requirement already satisfied: widgetsnbextension~=3.6.0 in /usr/local/lib/python3.11/dist-packages (from ipywidgets->jupyter==1.0.0->d2l==1.0.3) (3.6.10)\n",
            "Requirement already satisfied: jupyterlab-widgets>=1.0.0 in /usr/local/lib/python3.11/dist-packages (from ipywidgets->jupyter==1.0.0->d2l==1.0.3) (3.0.15)\n",
            "Requirement already satisfied: prompt-toolkit!=3.0.0,!=3.0.1,<3.1.0,>=2.0.0 in /usr/local/lib/python3.11/dist-packages (from jupyter-console->jupyter==1.0.0->d2l==1.0.3) (3.0.51)\n",
            "Requirement already satisfied: pygments in /usr/local/lib/python3.11/dist-packages (from jupyter-console->jupyter==1.0.0->d2l==1.0.3) (2.19.2)\n",
            "Requirement already satisfied: beautifulsoup4 in /usr/local/lib/python3.11/dist-packages (from nbconvert->jupyter==1.0.0->d2l==1.0.3) (4.13.4)\n",
            "Requirement already satisfied: bleach!=5.0.0 in /usr/local/lib/python3.11/dist-packages (from bleach[css]!=5.0.0->nbconvert->jupyter==1.0.0->d2l==1.0.3) (6.2.0)\n",
            "Requirement already satisfied: defusedxml in /usr/local/lib/python3.11/dist-packages (from nbconvert->jupyter==1.0.0->d2l==1.0.3) (0.7.1)\n",
            "Requirement already satisfied: jinja2>=3.0 in /usr/local/lib/python3.11/dist-packages (from nbconvert->jupyter==1.0.0->d2l==1.0.3) (3.1.6)\n",
            "Requirement already satisfied: jupyter-core>=4.7 in /usr/local/lib/python3.11/dist-packages (from nbconvert->jupyter==1.0.0->d2l==1.0.3) (5.8.1)\n",
            "Requirement already satisfied: jupyterlab-pygments in /usr/local/lib/python3.11/dist-packages (from nbconvert->jupyter==1.0.0->d2l==1.0.3) (0.3.0)\n",
            "Requirement already satisfied: markupsafe>=2.0 in /usr/local/lib/python3.11/dist-packages (from nbconvert->jupyter==1.0.0->d2l==1.0.3) (3.0.2)\n",
            "Requirement already satisfied: mistune<4,>=2.0.3 in /usr/local/lib/python3.11/dist-packages (from nbconvert->jupyter==1.0.0->d2l==1.0.3) (3.1.3)\n",
            "Requirement already satisfied: nbclient>=0.5.0 in /usr/local/lib/python3.11/dist-packages (from nbconvert->jupyter==1.0.0->d2l==1.0.3) (0.10.2)\n",
            "Requirement already satisfied: nbformat>=5.7 in /usr/local/lib/python3.11/dist-packages (from nbconvert->jupyter==1.0.0->d2l==1.0.3) (5.10.4)\n",
            "Requirement already satisfied: pandocfilters>=1.4.1 in /usr/local/lib/python3.11/dist-packages (from nbconvert->jupyter==1.0.0->d2l==1.0.3) (1.5.1)\n",
            "Requirement already satisfied: argon2-cffi in /usr/local/lib/python3.11/dist-packages (from notebook->jupyter==1.0.0->d2l==1.0.3) (25.1.0)\n",
            "Requirement already satisfied: Send2Trash>=1.8.0 in /usr/local/lib/python3.11/dist-packages (from notebook->jupyter==1.0.0->d2l==1.0.3) (1.8.3)\n",
            "Requirement already satisfied: terminado>=0.8.3 in /usr/local/lib/python3.11/dist-packages (from notebook->jupyter==1.0.0->d2l==1.0.3) (0.18.1)\n",
            "Requirement already satisfied: prometheus-client in /usr/local/lib/python3.11/dist-packages (from notebook->jupyter==1.0.0->d2l==1.0.3) (0.22.1)\n",
            "Requirement already satisfied: nbclassic>=0.4.7 in /usr/local/lib/python3.11/dist-packages (from notebook->jupyter==1.0.0->d2l==1.0.3) (1.3.1)\n",
            "Requirement already satisfied: qtpy>=2.4.0 in /usr/local/lib/python3.11/dist-packages (from qtconsole->jupyter==1.0.0->d2l==1.0.3) (2.4.3)\n",
            "Requirement already satisfied: webencodings in /usr/local/lib/python3.11/dist-packages (from bleach!=5.0.0->bleach[css]!=5.0.0->nbconvert->jupyter==1.0.0->d2l==1.0.3) (0.5.1)\n",
            "Requirement already satisfied: tinycss2<1.5,>=1.1.0 in /usr/local/lib/python3.11/dist-packages (from bleach[css]!=5.0.0->nbconvert->jupyter==1.0.0->d2l==1.0.3) (1.4.0)\n",
            "Requirement already satisfied: setuptools>=18.5 in /usr/local/lib/python3.11/dist-packages (from ipython>=7.23.1->ipykernel->jupyter==1.0.0->d2l==1.0.3) (75.2.0)\n",
            "Requirement already satisfied: jedi>=0.16 in /usr/local/lib/python3.11/dist-packages (from ipython>=7.23.1->ipykernel->jupyter==1.0.0->d2l==1.0.3) (0.19.2)\n",
            "Requirement already satisfied: decorator in /usr/local/lib/python3.11/dist-packages (from ipython>=7.23.1->ipykernel->jupyter==1.0.0->d2l==1.0.3) (4.4.2)\n",
            "Requirement already satisfied: pickleshare in /usr/local/lib/python3.11/dist-packages (from ipython>=7.23.1->ipykernel->jupyter==1.0.0->d2l==1.0.3) (0.7.5)\n",
            "Requirement already satisfied: backcall in /usr/local/lib/python3.11/dist-packages (from ipython>=7.23.1->ipykernel->jupyter==1.0.0->d2l==1.0.3) (0.2.0)\n",
            "Requirement already satisfied: pexpect>4.3 in /usr/local/lib/python3.11/dist-packages (from ipython>=7.23.1->ipykernel->jupyter==1.0.0->d2l==1.0.3) (4.9.0)\n",
            "Requirement already satisfied: platformdirs>=2.5 in /usr/local/lib/python3.11/dist-packages (from jupyter-core>=4.7->nbconvert->jupyter==1.0.0->d2l==1.0.3) (4.3.8)\n",
            "Requirement already satisfied: notebook-shim>=0.2.3 in /usr/local/lib/python3.11/dist-packages (from nbclassic>=0.4.7->notebook->jupyter==1.0.0->d2l==1.0.3) (0.2.4)\n",
            "Requirement already satisfied: fastjsonschema>=2.15 in /usr/local/lib/python3.11/dist-packages (from nbformat>=5.7->nbconvert->jupyter==1.0.0->d2l==1.0.3) (2.21.1)\n",
            "Requirement already satisfied: jsonschema>=2.6 in /usr/local/lib/python3.11/dist-packages (from nbformat>=5.7->nbconvert->jupyter==1.0.0->d2l==1.0.3) (4.24.0)\n",
            "Requirement already satisfied: wcwidth in /usr/local/lib/python3.11/dist-packages (from prompt-toolkit!=3.0.0,!=3.0.1,<3.1.0,>=2.0.0->jupyter-console->jupyter==1.0.0->d2l==1.0.3) (0.2.13)\n",
            "Requirement already satisfied: ptyprocess in /usr/local/lib/python3.11/dist-packages (from terminado>=0.8.3->notebook->jupyter==1.0.0->d2l==1.0.3) (0.7.0)\n",
            "Requirement already satisfied: argon2-cffi-bindings in /usr/local/lib/python3.11/dist-packages (from argon2-cffi->notebook->jupyter==1.0.0->d2l==1.0.3) (21.2.0)\n",
            "Requirement already satisfied: soupsieve>1.2 in /usr/local/lib/python3.11/dist-packages (from beautifulsoup4->nbconvert->jupyter==1.0.0->d2l==1.0.3) (2.7)\n",
            "Requirement already satisfied: typing-extensions>=4.0.0 in /usr/local/lib/python3.11/dist-packages (from beautifulsoup4->nbconvert->jupyter==1.0.0->d2l==1.0.3) (4.14.1)\n",
            "Requirement already satisfied: parso<0.9.0,>=0.8.4 in /usr/local/lib/python3.11/dist-packages (from jedi>=0.16->ipython>=7.23.1->ipykernel->jupyter==1.0.0->d2l==1.0.3) (0.8.4)\n",
            "Requirement already satisfied: attrs>=22.2.0 in /usr/local/lib/python3.11/dist-packages (from jsonschema>=2.6->nbformat>=5.7->nbconvert->jupyter==1.0.0->d2l==1.0.3) (25.3.0)\n",
            "Requirement already satisfied: jsonschema-specifications>=2023.03.6 in /usr/local/lib/python3.11/dist-packages (from jsonschema>=2.6->nbformat>=5.7->nbconvert->jupyter==1.0.0->d2l==1.0.3) (2025.4.1)\n",
            "Requirement already satisfied: referencing>=0.28.4 in /usr/local/lib/python3.11/dist-packages (from jsonschema>=2.6->nbformat>=5.7->nbconvert->jupyter==1.0.0->d2l==1.0.3) (0.36.2)\n",
            "Requirement already satisfied: rpds-py>=0.7.1 in /usr/local/lib/python3.11/dist-packages (from jsonschema>=2.6->nbformat>=5.7->nbconvert->jupyter==1.0.0->d2l==1.0.3) (0.26.0)\n",
            "Requirement already satisfied: jupyter-server<3,>=1.8 in /usr/local/lib/python3.11/dist-packages (from notebook-shim>=0.2.3->nbclassic>=0.4.7->notebook->jupyter==1.0.0->d2l==1.0.3) (1.16.0)\n",
            "Requirement already satisfied: cffi>=1.0.1 in /usr/local/lib/python3.11/dist-packages (from argon2-cffi-bindings->argon2-cffi->notebook->jupyter==1.0.0->d2l==1.0.3) (1.17.1)\n",
            "Requirement already satisfied: pycparser in /usr/local/lib/python3.11/dist-packages (from cffi>=1.0.1->argon2-cffi-bindings->argon2-cffi->notebook->jupyter==1.0.0->d2l==1.0.3) (2.22)\n",
            "Requirement already satisfied: anyio>=3.1.0 in /usr/local/lib/python3.11/dist-packages (from jupyter-server<3,>=1.8->notebook-shim>=0.2.3->nbclassic>=0.4.7->notebook->jupyter==1.0.0->d2l==1.0.3) (4.9.0)\n",
            "Requirement already satisfied: websocket-client in /usr/local/lib/python3.11/dist-packages (from jupyter-server<3,>=1.8->notebook-shim>=0.2.3->nbclassic>=0.4.7->notebook->jupyter==1.0.0->d2l==1.0.3) (1.8.0)\n",
            "Requirement already satisfied: sniffio>=1.1 in /usr/local/lib/python3.11/dist-packages (from anyio>=3.1.0->jupyter-server<3,>=1.8->notebook-shim>=0.2.3->nbclassic>=0.4.7->notebook->jupyter==1.0.0->d2l==1.0.3) (1.3.1)\n"
          ]
        }
      ],
      "source": [
        "!pip install d2l==1.0.3\n"
      ]
    },
    {
      "cell_type": "markdown",
      "id": "0337f854",
      "metadata": {
        "origin_pos": 1,
        "id": "0337f854"
      },
      "source": [
        "# Softmax Regression Implementation from Scratch\n",
        ":label:`sec_softmax_scratch`\n",
        "\n",
        "Because softmax regression is so fundamental,\n",
        "we believe that you ought to know\n",
        "how to implement it yourself.\n",
        "Here, we limit ourselves to defining the\n",
        "softmax-specific aspects of the model\n",
        "and reuse the other components\n",
        "from our linear regression section,\n",
        "including the training loop.\n"
      ]
    },
    {
      "cell_type": "code",
      "execution_count": 2,
      "id": "27f90605",
      "metadata": {
        "execution": {
          "iopub.execute_input": "2023-08-18T19:40:38.020091Z",
          "iopub.status.busy": "2023-08-18T19:40:38.019758Z",
          "iopub.status.idle": "2023-08-18T19:40:41.731894Z",
          "shell.execute_reply": "2023-08-18T19:40:41.728859Z"
        },
        "origin_pos": 3,
        "tab": [
          "pytorch"
        ],
        "id": "27f90605"
      },
      "outputs": [],
      "source": [
        "import torch\n",
        "from d2l import torch as d2l"
      ]
    },
    {
      "cell_type": "markdown",
      "id": "7f7c0f8d",
      "metadata": {
        "origin_pos": 6,
        "id": "7f7c0f8d"
      },
      "source": [
        "## The Softmax\n",
        "\n",
        "Let's begin with the most important part:\n",
        "the mapping from scalars to probabilities.\n",
        "For a refresher, recall the operation of the sum operator\n",
        "along specific dimensions in a tensor,\n",
        "as discussed in :numref:`subsec_lin-alg-reduction`\n",
        "and :numref:`subsec_lin-alg-non-reduction`.\n",
        "[**Given a matrix `X` we can sum over all elements (by default) or only\n",
        "over elements in the same axis.**]\n",
        "The `axis` variable lets us compute row and column sums:\n"
      ]
    },
    {
      "cell_type": "code",
      "execution_count": 3,
      "id": "4721b51f",
      "metadata": {
        "execution": {
          "iopub.execute_input": "2023-08-18T19:40:41.736669Z",
          "iopub.status.busy": "2023-08-18T19:40:41.735590Z",
          "iopub.status.idle": "2023-08-18T19:40:41.768196Z",
          "shell.execute_reply": "2023-08-18T19:40:41.766964Z"
        },
        "origin_pos": 7,
        "tab": [
          "pytorch"
        ],
        "colab": {
          "base_uri": "https://localhost:8080/"
        },
        "id": "4721b51f",
        "outputId": "ac6dcc68-1be7-4deb-84bf-99621fc2b741"
      },
      "outputs": [
        {
          "output_type": "execute_result",
          "data": {
            "text/plain": [
              "(tensor([[5., 7., 9.]]),\n",
              " tensor([[ 6.],\n",
              "         [15.]]))"
            ]
          },
          "metadata": {},
          "execution_count": 3
        }
      ],
      "source": [
        "X = torch.tensor([[1.0, 2.0, 3.0], [4.0, 5.0, 6.0]])\n",
        "X.sum(0, keepdims=True), X.sum(1, keepdims=True)"
      ]
    },
    {
      "cell_type": "code",
      "source": [
        "# Testing\n",
        "import time\n",
        "test1 = torch.rand(20, 500)\n",
        "test1 *= 32\n",
        "test1.sum(0, keepdims=True), test1.sum(1, keepdims=True)"
      ],
      "metadata": {
        "colab": {
          "base_uri": "https://localhost:8080/"
        },
        "id": "KOHYGS0QI0hj",
        "outputId": "ad34bce6-b4fd-457e-948c-a8d32acf86e6"
      },
      "id": "KOHYGS0QI0hj",
      "execution_count": 4,
      "outputs": [
        {
          "output_type": "execute_result",
          "data": {
            "text/plain": [
              "(tensor([[301.7871, 375.4119, 300.7739, 296.4152, 332.2306, 340.3048, 323.0245,\n",
              "          302.2380, 364.3810, 257.2242, 271.3541, 370.7757, 342.1058, 353.7587,\n",
              "          341.9388, 287.0809, 292.5823, 314.6967, 316.2196, 279.4128, 375.2801,\n",
              "          306.0309, 270.0435, 353.5085, 259.8061, 258.8352, 293.8320, 312.8132,\n",
              "          309.7886, 325.2498, 308.9695, 331.9055, 207.3215, 274.3171, 364.3621,\n",
              "          322.4642, 287.2700, 387.5707, 329.4793, 242.2712, 323.8468, 305.6369,\n",
              "          312.0054, 317.0487, 346.1542, 334.5101, 293.9353, 300.3771, 280.9047,\n",
              "          335.4640, 288.9056, 285.2281, 330.0281, 292.0199, 310.6461, 277.9869,\n",
              "          315.6418, 329.3320, 354.7622, 344.5796, 303.1617, 326.8216, 347.5973,\n",
              "          348.8695, 394.8348, 299.5376, 371.8587, 332.6358, 343.6275, 340.0424,\n",
              "          360.0380, 367.3025, 285.9659, 308.7340, 292.6151, 331.7879, 309.2408,\n",
              "          297.4194, 332.2722, 361.6707, 286.7144, 309.1178, 385.6579, 325.1921,\n",
              "          219.7262, 277.1188, 325.5338, 398.2109, 374.4810, 293.9505, 353.2140,\n",
              "          314.5865, 285.5337, 265.8244, 306.5561, 345.5562, 302.8693, 298.1332,\n",
              "          279.4621, 308.9541, 257.6645, 302.8803, 313.9109, 259.6276, 298.1777,\n",
              "          336.8024, 366.1418, 316.0317, 338.6361, 312.8510, 325.7637, 308.3040,\n",
              "          322.3847, 287.5139, 377.3948, 310.4683, 367.6888, 251.0555, 317.7683,\n",
              "          283.8521, 311.0774, 352.9886, 251.2911, 323.7170, 337.1565, 311.0424,\n",
              "          358.5826, 349.0453, 298.0416, 251.8414, 288.8991, 289.4163, 294.6556,\n",
              "          268.7539, 284.5572, 297.4450, 301.3446, 346.8459, 333.9956, 337.5956,\n",
              "          347.5067, 312.7561, 342.8951, 277.6650, 331.8797, 208.6684, 309.7185,\n",
              "          313.1301, 366.2631, 285.4726, 405.8807, 313.1186, 367.7336, 278.8931,\n",
              "          333.6890, 320.1862, 418.0759, 295.5542, 366.6646, 360.0601, 414.9948,\n",
              "          360.5167, 344.2916, 266.2565, 381.4214, 294.8723, 418.1080, 330.4024,\n",
              "          327.9933, 306.2536, 336.2840, 311.1209, 349.4155, 241.7471, 383.2891,\n",
              "          299.5443, 367.2608, 301.9503, 329.8224, 249.7204, 339.3651, 296.2522,\n",
              "          268.7291, 256.7309, 310.1101, 281.8294, 305.8538, 289.3787, 289.8416,\n",
              "          428.9433, 417.8573, 312.3348, 284.9602, 316.7012, 361.7185, 388.4608,\n",
              "          317.6837, 298.6857, 281.7905, 338.4661, 264.9578, 271.1076, 304.1377,\n",
              "          301.9429, 353.2409, 317.7266, 327.5016, 322.0222, 351.6794, 313.1750,\n",
              "          352.9442, 304.0801, 393.2380, 320.6451, 341.4947, 286.8999, 322.1893,\n",
              "          239.0514, 268.5363, 368.7704, 303.9194, 232.0405, 342.0463, 294.8809,\n",
              "          255.8856, 230.6141, 385.5298, 226.3350, 417.2119, 252.3798, 346.8005,\n",
              "          280.3793, 312.2623, 374.1948, 247.0666, 358.6526, 290.3217, 335.6304,\n",
              "          334.1141, 269.0106, 261.9295, 254.9399, 345.4861, 295.8553, 285.2589,\n",
              "          325.0193, 287.9805, 350.6202, 344.9589, 344.3052, 404.9870, 297.6996,\n",
              "          316.7266, 281.3417, 317.8978, 356.1489, 322.0790, 280.6959, 292.5840,\n",
              "          364.4003, 317.1473, 308.8431, 310.4354, 445.9995, 325.6018, 347.4214,\n",
              "          328.7152, 306.4640, 270.6425, 281.6048, 340.0217, 329.8856, 328.4189,\n",
              "          301.0865, 320.5773, 389.2400, 362.0709, 374.0977, 269.5320, 338.9573,\n",
              "          328.6190, 226.0989, 307.4435, 394.2414, 291.5927, 271.3806, 287.8312,\n",
              "          303.6219, 276.1552, 293.8572, 401.5733, 334.8204, 255.4615, 423.2603,\n",
              "          347.4126, 343.2793, 333.6755, 307.0094, 323.0667, 370.5598, 306.5796,\n",
              "          305.2878, 239.5222, 243.9247, 294.7028, 313.1107, 250.3053, 325.8820,\n",
              "          302.1225, 300.5458, 380.3304, 356.5109, 308.4786, 341.6197, 339.0696,\n",
              "          310.7123, 383.9876, 293.9333, 371.5744, 278.1774, 328.6321, 325.9623,\n",
              "          306.4210, 346.8401, 304.4178, 268.3263, 314.1042, 362.1808, 339.3059,\n",
              "          340.7253, 303.9517, 275.9680, 355.1268, 337.9950, 317.6582, 316.0871,\n",
              "          311.9065, 260.1817, 341.4593, 256.5118, 276.0292, 333.4642, 335.4441,\n",
              "          362.8081, 263.4906, 412.4425, 229.6415, 329.6646, 382.7395, 317.0239,\n",
              "          226.7907, 242.2166, 301.7396, 385.3924, 311.0949, 333.8677, 322.8560,\n",
              "          346.3999, 310.3743, 351.7888, 280.8876, 352.5388, 239.5188, 298.5457,\n",
              "          304.5338, 252.9722, 299.1943, 303.5016, 333.9396, 364.0391, 336.2574,\n",
              "          372.3932, 351.5339, 379.8348, 306.2363, 266.9050, 390.9716, 370.9328,\n",
              "          336.9386, 274.9108, 372.8736, 323.3773, 337.2927, 319.5796, 268.2717,\n",
              "          334.0934, 329.5591, 259.3787, 344.2753, 323.2770, 308.3931, 285.4383,\n",
              "          311.3532, 404.5112, 271.2120, 287.4740, 335.1862, 208.2575, 375.0678,\n",
              "          301.8950, 231.3812, 366.3536, 324.2015, 349.3860, 388.8531, 296.9331,\n",
              "          382.6060, 308.1606, 331.4578, 338.9952, 300.1053, 386.4089, 312.5434,\n",
              "          258.4013, 333.5188, 331.3183, 231.7012, 320.8662, 352.4500, 319.7257,\n",
              "          274.3853, 269.7350, 415.0462, 325.9832, 361.8578, 345.7529, 348.3731,\n",
              "          340.3187, 355.7979, 309.3876, 287.1992, 286.9642, 319.4893, 370.2913,\n",
              "          368.3734, 348.6777, 188.8535, 378.2575, 256.6608, 324.4804, 314.6998,\n",
              "          308.6338, 295.5344, 318.2596, 414.8896, 376.7489, 291.7525, 263.7111,\n",
              "          390.1008, 307.8976, 279.3454, 298.1830, 323.1556, 234.3127, 334.6927,\n",
              "          291.5419, 392.8703, 273.8242, 363.4290, 347.8677, 284.5756, 325.7513,\n",
              "          287.5428, 328.1960, 263.3492, 390.8120, 335.2108, 214.2439, 253.2300,\n",
              "          360.8213, 354.8651, 257.3740, 289.5259, 359.0901, 322.5600, 351.8031,\n",
              "          291.7908, 361.3937, 315.6418, 385.7331, 279.8008, 365.6180, 264.4552,\n",
              "          274.2395, 310.3577, 334.7798, 382.5881, 263.4084, 386.0213, 343.7288,\n",
              "          369.8228, 285.4142, 299.2322, 279.7443, 353.8759, 306.4225, 339.4856,\n",
              "          371.1822, 343.8376, 252.6090]]),\n",
              " tensor([[8069.6191],\n",
              "         [7983.3721],\n",
              "         [7826.2202],\n",
              "         [8110.2427],\n",
              "         [8073.0903],\n",
              "         [7874.9497],\n",
              "         [7897.6753],\n",
              "         [8100.6533],\n",
              "         [8212.6377],\n",
              "         [7751.7388],\n",
              "         [8150.4814],\n",
              "         [7969.7271],\n",
              "         [8059.1396],\n",
              "         [8088.1885],\n",
              "         [7995.1963],\n",
              "         [7946.8462],\n",
              "         [7669.9961],\n",
              "         [7875.6631],\n",
              "         [7822.7671],\n",
              "         [7716.9072]]))"
            ]
          },
          "metadata": {},
          "execution_count": 4
        }
      ]
    },
    {
      "cell_type": "markdown",
      "id": "e183bcdc",
      "metadata": {
        "origin_pos": 8,
        "id": "e183bcdc"
      },
      "source": [
        "Computing the softmax requires three steps:\n",
        "(i) exponentiation of each term;\n",
        "(ii) a sum over each row to compute the normalization constant for each example;\n",
        "(iii) division of each row by its normalization constant,\n",
        "ensuring that the result sums to 1:\n",
        "\n",
        "(**\n",
        "$$\\mathrm{softmax}(\\mathbf{X})_{ij} = \\frac{\\exp(\\mathbf{X}_{ij})}{\\sum_k \\exp(\\mathbf{X}_{ik})}.$$\n",
        "**)\n",
        "\n",
        "The (logarithm of the) denominator\n",
        "is called the (log) *partition function*.\n",
        "It was introduced in [statistical physics](https://en.wikipedia.org/wiki/Partition_function_(statistical_mechanics))\n",
        "to sum over all possible states in a thermodynamic ensemble.\n",
        "The implementation is straightforward:\n"
      ]
    },
    {
      "cell_type": "code",
      "execution_count": 5,
      "id": "d2f22e34",
      "metadata": {
        "execution": {
          "iopub.execute_input": "2023-08-18T19:40:41.772527Z",
          "iopub.status.busy": "2023-08-18T19:40:41.771945Z",
          "iopub.status.idle": "2023-08-18T19:40:41.777757Z",
          "shell.execute_reply": "2023-08-18T19:40:41.776558Z"
        },
        "origin_pos": 9,
        "tab": [
          "pytorch"
        ],
        "id": "d2f22e34"
      },
      "outputs": [],
      "source": [
        "def softmax(X):\n",
        "    X_exp = torch.exp(X)\n",
        "    partition = X_exp.sum(1, keepdims=True)\n",
        "    return X_exp / partition  # The broadcasting mechanism is applied here"
      ]
    },
    {
      "cell_type": "code",
      "source": [
        "# Testing\n",
        "\n",
        "def test_softmax(test1):\n",
        "  test1_e = torch.exp(test1)\n",
        "  partition_test = test1_e.sum(1, keepdims=True)\n",
        "  return test1_e / partition_test\n",
        "\n",
        "tic = time.time()\n",
        "test_softmax(test1)\n",
        "f'{time.time() - tic:.2f} sec'"
      ],
      "metadata": {
        "colab": {
          "base_uri": "https://localhost:8080/",
          "height": 35
        },
        "id": "hT_2brNLJ0RA",
        "outputId": "1a4bf82f-3cb4-4a4d-9389-e638007c45e8"
      },
      "id": "hT_2brNLJ0RA",
      "execution_count": 6,
      "outputs": [
        {
          "output_type": "execute_result",
          "data": {
            "text/plain": [
              "'0.01 sec'"
            ],
            "application/vnd.google.colaboratory.intrinsic+json": {
              "type": "string"
            }
          },
          "metadata": {},
          "execution_count": 6
        }
      ]
    },
    {
      "cell_type": "markdown",
      "id": "12b4d33d",
      "metadata": {
        "origin_pos": 10,
        "id": "12b4d33d"
      },
      "source": [
        "For any input `X`, [**we turn each element\n",
        "into a nonnegative number.\n",
        "Each row sums up to 1,**]\n",
        "as is required for a probability. Caution: the code above is *not* robust against very large or very small arguments. While it is sufficient to illustrate what is happening, you should *not* use this code verbatim for any serious purpose. Deep learning frameworks have such protections built in and we will be using the built-in softmax going forward.\n"
      ]
    },
    {
      "cell_type": "code",
      "execution_count": 7,
      "id": "90ec733c",
      "metadata": {
        "execution": {
          "iopub.execute_input": "2023-08-18T19:40:41.782237Z",
          "iopub.status.busy": "2023-08-18T19:40:41.781359Z",
          "iopub.status.idle": "2023-08-18T19:40:41.793051Z",
          "shell.execute_reply": "2023-08-18T19:40:41.792163Z"
        },
        "origin_pos": 12,
        "tab": [
          "pytorch"
        ],
        "colab": {
          "base_uri": "https://localhost:8080/"
        },
        "id": "90ec733c",
        "outputId": "f6cf15f2-956b-414a-b9f7-2bf1f98881ed"
      },
      "outputs": [
        {
          "output_type": "execute_result",
          "data": {
            "text/plain": [
              "(tensor([[0.1503, 0.2250, 0.1506, 0.1713, 0.3028],\n",
              "         [0.1118, 0.2201, 0.2375, 0.2218, 0.2088]]),\n",
              " tensor([1., 1.]))"
            ]
          },
          "metadata": {},
          "execution_count": 7
        }
      ],
      "source": [
        "X = torch.rand((2, 5))\n",
        "X_prob = softmax(X)\n",
        "X_prob, X_prob.sum(1)"
      ]
    },
    {
      "cell_type": "code",
      "source": [
        "# Testing\n",
        "test3 = torch.rand((20,50))\n",
        "test3_prob = softmax(test3)\n",
        "test3_prob.sum(1)"
      ],
      "metadata": {
        "colab": {
          "base_uri": "https://localhost:8080/"
        },
        "id": "lOaX4qHFd4WF",
        "outputId": "500bf515-80e1-4910-ccca-e9e0f6d8499d"
      },
      "id": "lOaX4qHFd4WF",
      "execution_count": 8,
      "outputs": [
        {
          "output_type": "execute_result",
          "data": {
            "text/plain": [
              "tensor([1.0000, 1.0000, 1.0000, 1.0000, 1.0000, 1.0000, 1.0000, 1.0000, 1.0000,\n",
              "        1.0000, 1.0000, 1.0000, 1.0000, 1.0000, 1.0000, 1.0000, 1.0000, 1.0000,\n",
              "        1.0000, 1.0000])"
            ]
          },
          "metadata": {},
          "execution_count": 8
        }
      ]
    },
    {
      "cell_type": "markdown",
      "id": "23d983d7",
      "metadata": {
        "origin_pos": 14,
        "id": "23d983d7"
      },
      "source": [
        "## The Model\n",
        "\n",
        "We now have everything that we need\n",
        "to implement [**the softmax regression model.**]\n",
        "As in our linear regression example,\n",
        "each instance will be represented\n",
        "by a fixed-length vector.\n",
        "Since the raw data here consists\n",
        "of $28 \\times 28$ pixel images,\n",
        "[**we flatten each image,\n",
        "treating them as vectors of length 784.**]\n",
        "In later chapters, we will introduce\n",
        "convolutional neural networks,\n",
        "which exploit the spatial structure\n",
        "in a more satisfying way.\n",
        "\n",
        "\n",
        "In softmax regression,\n",
        "the number of outputs from our network\n",
        "should be equal to the number of classes.\n",
        "(**Since our dataset has 10 classes,\n",
        "our network has an output dimension of 10.**)\n",
        "Consequently, our weights constitute a $784 \\times 10$ matrix\n",
        "plus a $1 \\times 10$ row vector for the biases.\n",
        "As with linear regression,\n",
        "we initialize the weights `W`\n",
        "with Gaussian noise.\n",
        "The biases are initialized as zeros.\n"
      ]
    },
    {
      "cell_type": "code",
      "execution_count": 9,
      "id": "b88679dc",
      "metadata": {
        "execution": {
          "iopub.execute_input": "2023-08-18T19:40:41.796788Z",
          "iopub.status.busy": "2023-08-18T19:40:41.796307Z",
          "iopub.status.idle": "2023-08-18T19:40:41.803043Z",
          "shell.execute_reply": "2023-08-18T19:40:41.802032Z"
        },
        "origin_pos": 16,
        "tab": [
          "pytorch"
        ],
        "id": "b88679dc"
      },
      "outputs": [],
      "source": [
        "class SoftmaxRegressionScratch(d2l.Classifier):\n",
        "    def __init__(self, num_inputs, num_outputs, lr, sigma=0.01):\n",
        "        super().__init__()\n",
        "        self.save_hyperparameters()\n",
        "        self.W = torch.normal(0, sigma, size=(num_inputs, num_outputs),\n",
        "                              requires_grad=True)\n",
        "        self.b = torch.zeros(num_outputs, requires_grad=True)\n",
        "\n",
        "    def parameters(self):\n",
        "        return [self.W, self.b]"
      ]
    },
    {
      "cell_type": "markdown",
      "id": "cffef3c8",
      "metadata": {
        "origin_pos": 19,
        "id": "cffef3c8"
      },
      "source": [
        "The code below defines how the network\n",
        "maps each input to an output.\n",
        "Note that we flatten each $28 \\times 28$ pixel image in the batch\n",
        "into a vector using `reshape`\n",
        "before passing the data through our model.\n"
      ]
    },
    {
      "cell_type": "code",
      "execution_count": 10,
      "id": "6525b147",
      "metadata": {
        "execution": {
          "iopub.execute_input": "2023-08-18T19:40:41.810424Z",
          "iopub.status.busy": "2023-08-18T19:40:41.807390Z",
          "iopub.status.idle": "2023-08-18T19:40:41.815642Z",
          "shell.execute_reply": "2023-08-18T19:40:41.814520Z"
        },
        "origin_pos": 20,
        "tab": [
          "pytorch"
        ],
        "id": "6525b147"
      },
      "outputs": [],
      "source": [
        "@d2l.add_to_class(SoftmaxRegressionScratch)\n",
        "def forward(self, X):\n",
        "    X = X.reshape((-1, self.W.shape[0]))\n",
        "    return softmax(torch.matmul(X, self.W) + self.b)"
      ]
    },
    {
      "cell_type": "code",
      "source": [
        "# Testing\n",
        "def forward_test(self, input):\n",
        "  #reshape input so each pixel corresponds with a feature\n",
        "  input = input.reshape(-1, self.W.shape[0])\n",
        "  #standard forward pass. multiply input by weights, add bias, then softmax to get logits\n",
        "  return softmax(torch.matmul(input, self.W) + self.b)\n"
      ],
      "metadata": {
        "id": "gBpy5wy2f4lO"
      },
      "id": "gBpy5wy2f4lO",
      "execution_count": 11,
      "outputs": []
    },
    {
      "cell_type": "markdown",
      "id": "358c8926",
      "metadata": {
        "origin_pos": 21,
        "id": "358c8926"
      },
      "source": [
        "## The Cross-Entropy Loss\n",
        "\n",
        "Next we need to implement the cross-entropy loss function\n",
        "(introduced in :numref:`subsec_softmax-regression-loss-func`).\n",
        "This may be the most common loss function\n",
        "in all of deep learning.\n",
        "At the moment, applications of deep learning\n",
        "easily cast as classification problems\n",
        "far outnumber those better treated as regression problems.\n",
        "\n",
        "Recall that cross-entropy takes the negative log-likelihood\n",
        "of the predicted probability assigned to the true label.\n",
        "For efficiency we avoid Python for-loops and use indexing instead.\n",
        "In particular, the one-hot encoding in $\\mathbf{y}$\n",
        "allows us to select the matching terms in $\\hat{\\mathbf{y}}$.\n",
        "\n",
        "To see this in action we [**create sample data `y_hat`\n",
        "with 2 examples of predicted probabilities over 3 classes and their corresponding labels `y`.**]\n",
        "The correct labels are $0$ and $2$ respectively (i.e., the first and third class).\n",
        "[**Using `y` as the indices of the probabilities in `y_hat`,**]\n",
        "we can pick out terms efficiently.\n"
      ]
    },
    {
      "cell_type": "code",
      "execution_count": 12,
      "id": "be06d72f",
      "metadata": {
        "execution": {
          "iopub.execute_input": "2023-08-18T19:40:41.820273Z",
          "iopub.status.busy": "2023-08-18T19:40:41.819514Z",
          "iopub.status.idle": "2023-08-18T19:40:41.829451Z",
          "shell.execute_reply": "2023-08-18T19:40:41.828524Z"
        },
        "origin_pos": 22,
        "tab": [
          "pytorch"
        ],
        "colab": {
          "base_uri": "https://localhost:8080/"
        },
        "id": "be06d72f",
        "outputId": "8e2c5b69-b6b6-4890-fa4b-43ab5e216f78"
      },
      "outputs": [
        {
          "output_type": "execute_result",
          "data": {
            "text/plain": [
              "tensor([0.1000, 0.5000])"
            ]
          },
          "metadata": {},
          "execution_count": 12
        }
      ],
      "source": [
        "y = torch.tensor([0, 2])\n",
        "y_hat = torch.tensor([[0.1, 0.3, 0.6], [0.3, 0.2, 0.5]])\n",
        "y_hat[[0, 1], y]"
      ]
    },
    {
      "cell_type": "code",
      "source": [
        "# Testing\n",
        "y_test = torch.tensor([1,0,1,2])\n",
        "y_pred = torch.tensor([[0.1, 0.3, 0.6], [0.3, 0.2, 0.5], [0.1, 0.3, 0.6], [0.3, 0.2, 0.5]])\n",
        "# outputs pairwise coordinates of the matrix based off of the values of the vectors\n",
        "y_pred[[0,1,2,3], y_test]"
      ],
      "metadata": {
        "colab": {
          "base_uri": "https://localhost:8080/"
        },
        "id": "d6_N_XIViAxZ",
        "outputId": "965e3421-231d-4f95-e714-fa2e63bbe99a"
      },
      "id": "d6_N_XIViAxZ",
      "execution_count": 13,
      "outputs": [
        {
          "output_type": "execute_result",
          "data": {
            "text/plain": [
              "tensor([0.3000, 0.3000, 0.3000, 0.5000])"
            ]
          },
          "metadata": {},
          "execution_count": 13
        }
      ]
    },
    {
      "cell_type": "markdown",
      "id": "100327e0",
      "metadata": {
        "origin_pos": 24,
        "tab": [
          "pytorch"
        ],
        "id": "100327e0"
      },
      "source": [
        "Now we can (**implement the cross-entropy loss function**) by averaging over the logarithms of the selected probabilities.\n"
      ]
    },
    {
      "cell_type": "code",
      "execution_count": 14,
      "id": "6f5696bf",
      "metadata": {
        "execution": {
          "iopub.execute_input": "2023-08-18T19:40:41.833839Z",
          "iopub.status.busy": "2023-08-18T19:40:41.832979Z",
          "iopub.status.idle": "2023-08-18T19:40:41.846258Z",
          "shell.execute_reply": "2023-08-18T19:40:41.845315Z"
        },
        "origin_pos": 26,
        "tab": [
          "pytorch"
        ],
        "colab": {
          "base_uri": "https://localhost:8080/"
        },
        "id": "6f5696bf",
        "outputId": "8dae447d-fdeb-4da5-9736-d4014fbcd325"
      },
      "outputs": [
        {
          "output_type": "execute_result",
          "data": {
            "text/plain": [
              "tensor(1.4979)"
            ]
          },
          "metadata": {},
          "execution_count": 14
        }
      ],
      "source": [
        "def cross_entropy(y_hat, y):\n",
        "    return -torch.log(y_hat[list(range(len(y_hat))), y]).mean()\n",
        "\n",
        "cross_entropy(y_hat, y)"
      ]
    },
    {
      "cell_type": "code",
      "execution_count": 15,
      "id": "0d97074e",
      "metadata": {
        "execution": {
          "iopub.execute_input": "2023-08-18T19:40:41.850484Z",
          "iopub.status.busy": "2023-08-18T19:40:41.849744Z",
          "iopub.status.idle": "2023-08-18T19:40:41.854383Z",
          "shell.execute_reply": "2023-08-18T19:40:41.853500Z"
        },
        "origin_pos": 28,
        "tab": [
          "pytorch"
        ],
        "id": "0d97074e"
      },
      "outputs": [],
      "source": [
        "@d2l.add_to_class(SoftmaxRegressionScratch)\n",
        "def loss(self, y_hat, y):\n",
        "    return cross_entropy(y_hat, y)"
      ]
    },
    {
      "cell_type": "markdown",
      "id": "133145ec",
      "metadata": {
        "origin_pos": 30,
        "id": "133145ec"
      },
      "source": [
        "## Training\n",
        "\n",
        "We reuse the `fit` method defined in :numref:`sec_linear_scratch` to [**train the model with 10 epochs.**]\n",
        "Note that the number of epochs (`max_epochs`),\n",
        "the minibatch size (`batch_size`),\n",
        "and learning rate (`lr`)\n",
        "are adjustable hyperparameters.\n",
        "That means that while these values are not\n",
        "learned during our primary training loop,\n",
        "they still influence the performance\n",
        "of our model, both vis-à-vis training\n",
        "and generalization performance.\n",
        "In practice you will want to choose these values\n",
        "based on the *validation* split of the data\n",
        "and then, ultimately, to evaluate your final model\n",
        "on the *test* split.\n",
        "As discussed in :numref:`subsec_generalization-model-selection`,\n",
        "we will regard the test data of Fashion-MNIST\n",
        "as the validation set, thus\n",
        "reporting validation loss and validation accuracy\n",
        "on this split.\n"
      ]
    },
    {
      "cell_type": "code",
      "execution_count": 16,
      "id": "0fed2d06",
      "metadata": {
        "execution": {
          "iopub.execute_input": "2023-08-18T19:40:41.860751Z",
          "iopub.status.busy": "2023-08-18T19:40:41.859826Z",
          "iopub.status.idle": "2023-08-18T19:41:38.026253Z",
          "shell.execute_reply": "2023-08-18T19:41:38.024988Z"
        },
        "origin_pos": 31,
        "tab": [
          "pytorch"
        ],
        "colab": {
          "base_uri": "https://localhost:8080/",
          "height": 265
        },
        "id": "0fed2d06",
        "outputId": "90c21839-8883-4da5-d2e0-a5d3862bef66"
      },
      "outputs": [
        {
          "output_type": "display_data",
          "data": {
            "text/plain": [
              "<Figure size 350x250 with 1 Axes>"
            ],
            "image/svg+xml": "<?xml version=\"1.0\" encoding=\"utf-8\" standalone=\"no\"?>\n<!DOCTYPE svg PUBLIC \"-//W3C//DTD SVG 1.1//EN\"\n  \"http://www.w3.org/Graphics/SVG/1.1/DTD/svg11.dtd\">\n<svg xmlns:xlink=\"http://www.w3.org/1999/xlink\" width=\"238.965625pt\" height=\"183.35625pt\" viewBox=\"0 0 238.965625 183.35625\" xmlns=\"http://www.w3.org/2000/svg\" version=\"1.1\">\n <metadata>\n  <rdf:RDF xmlns:dc=\"http://purl.org/dc/elements/1.1/\" xmlns:cc=\"http://creativecommons.org/ns#\" xmlns:rdf=\"http://www.w3.org/1999/02/22-rdf-syntax-ns#\">\n   <cc:Work>\n    <dc:type rdf:resource=\"http://purl.org/dc/dcmitype/StillImage\"/>\n    <dc:date>2025-07-21T03:07:31.787776</dc:date>\n    <dc:format>image/svg+xml</dc:format>\n    <dc:creator>\n     <cc:Agent>\n      <dc:title>Matplotlib v3.7.2, https://matplotlib.org/</dc:title>\n     </cc:Agent>\n    </dc:creator>\n   </cc:Work>\n  </rdf:RDF>\n </metadata>\n <defs>\n  <style type=\"text/css\">*{stroke-linejoin: round; stroke-linecap: butt}</style>\n </defs>\n <g id=\"figure_1\">\n  <g id=\"patch_1\">\n   <path d=\"M 0 183.35625 \nL 238.965625 183.35625 \nL 238.965625 0 \nL 0 0 \nz\n\" style=\"fill: #ffffff\"/>\n  </g>\n  <g id=\"axes_1\">\n   <g id=\"patch_2\">\n    <path d=\"M 30.103125 145.8 \nL 225.403125 145.8 \nL 225.403125 7.2 \nL 30.103125 7.2 \nz\n\" style=\"fill: #ffffff\"/>\n   </g>\n   <g id=\"matplotlib.axis_1\">\n    <g id=\"xtick_1\">\n     <g id=\"line2d_1\">\n      <defs>\n       <path id=\"ma6c5760cdd\" d=\"M 0 0 \nL 0 3.5 \n\" style=\"stroke: #000000; stroke-width: 0.8\"/>\n      </defs>\n      <g>\n       <use xlink:href=\"#ma6c5760cdd\" x=\"30.103125\" y=\"145.8\" style=\"stroke: #000000; stroke-width: 0.8\"/>\n      </g>\n     </g>\n     <g id=\"text_1\">\n      <!-- 0 -->\n      <g transform=\"translate(26.921875 160.398438) scale(0.1 -0.1)\">\n       <defs>\n        <path id=\"DejaVuSans-30\" d=\"M 2034 4250 \nQ 1547 4250 1301 3770 \nQ 1056 3291 1056 2328 \nQ 1056 1369 1301 889 \nQ 1547 409 2034 409 \nQ 2525 409 2770 889 \nQ 3016 1369 3016 2328 \nQ 3016 3291 2770 3770 \nQ 2525 4250 2034 4250 \nz\nM 2034 4750 \nQ 2819 4750 3233 4129 \nQ 3647 3509 3647 2328 \nQ 3647 1150 3233 529 \nQ 2819 -91 2034 -91 \nQ 1250 -91 836 529 \nQ 422 1150 422 2328 \nQ 422 3509 836 4129 \nQ 1250 4750 2034 4750 \nz\n\" transform=\"scale(0.015625)\"/>\n       </defs>\n       <use xlink:href=\"#DejaVuSans-30\"/>\n      </g>\n     </g>\n    </g>\n    <g id=\"xtick_2\">\n     <g id=\"line2d_2\">\n      <g>\n       <use xlink:href=\"#ma6c5760cdd\" x=\"69.163125\" y=\"145.8\" style=\"stroke: #000000; stroke-width: 0.8\"/>\n      </g>\n     </g>\n     <g id=\"text_2\">\n      <!-- 2 -->\n      <g transform=\"translate(65.981875 160.398438) scale(0.1 -0.1)\">\n       <defs>\n        <path id=\"DejaVuSans-32\" d=\"M 1228 531 \nL 3431 531 \nL 3431 0 \nL 469 0 \nL 469 531 \nQ 828 903 1448 1529 \nQ 2069 2156 2228 2338 \nQ 2531 2678 2651 2914 \nQ 2772 3150 2772 3378 \nQ 2772 3750 2511 3984 \nQ 2250 4219 1831 4219 \nQ 1534 4219 1204 4116 \nQ 875 4013 500 3803 \nL 500 4441 \nQ 881 4594 1212 4672 \nQ 1544 4750 1819 4750 \nQ 2544 4750 2975 4387 \nQ 3406 4025 3406 3419 \nQ 3406 3131 3298 2873 \nQ 3191 2616 2906 2266 \nQ 2828 2175 2409 1742 \nQ 1991 1309 1228 531 \nz\n\" transform=\"scale(0.015625)\"/>\n       </defs>\n       <use xlink:href=\"#DejaVuSans-32\"/>\n      </g>\n     </g>\n    </g>\n    <g id=\"xtick_3\">\n     <g id=\"line2d_3\">\n      <g>\n       <use xlink:href=\"#ma6c5760cdd\" x=\"108.223125\" y=\"145.8\" style=\"stroke: #000000; stroke-width: 0.8\"/>\n      </g>\n     </g>\n     <g id=\"text_3\">\n      <!-- 4 -->\n      <g transform=\"translate(105.041875 160.398438) scale(0.1 -0.1)\">\n       <defs>\n        <path id=\"DejaVuSans-34\" d=\"M 2419 4116 \nL 825 1625 \nL 2419 1625 \nL 2419 4116 \nz\nM 2253 4666 \nL 3047 4666 \nL 3047 1625 \nL 3713 1625 \nL 3713 1100 \nL 3047 1100 \nL 3047 0 \nL 2419 0 \nL 2419 1100 \nL 313 1100 \nL 313 1709 \nL 2253 4666 \nz\n\" transform=\"scale(0.015625)\"/>\n       </defs>\n       <use xlink:href=\"#DejaVuSans-34\"/>\n      </g>\n     </g>\n    </g>\n    <g id=\"xtick_4\">\n     <g id=\"line2d_4\">\n      <g>\n       <use xlink:href=\"#ma6c5760cdd\" x=\"147.283125\" y=\"145.8\" style=\"stroke: #000000; stroke-width: 0.8\"/>\n      </g>\n     </g>\n     <g id=\"text_4\">\n      <!-- 6 -->\n      <g transform=\"translate(144.101875 160.398438) scale(0.1 -0.1)\">\n       <defs>\n        <path id=\"DejaVuSans-36\" d=\"M 2113 2584 \nQ 1688 2584 1439 2293 \nQ 1191 2003 1191 1497 \nQ 1191 994 1439 701 \nQ 1688 409 2113 409 \nQ 2538 409 2786 701 \nQ 3034 994 3034 1497 \nQ 3034 2003 2786 2293 \nQ 2538 2584 2113 2584 \nz\nM 3366 4563 \nL 3366 3988 \nQ 3128 4100 2886 4159 \nQ 2644 4219 2406 4219 \nQ 1781 4219 1451 3797 \nQ 1122 3375 1075 2522 \nQ 1259 2794 1537 2939 \nQ 1816 3084 2150 3084 \nQ 2853 3084 3261 2657 \nQ 3669 2231 3669 1497 \nQ 3669 778 3244 343 \nQ 2819 -91 2113 -91 \nQ 1303 -91 875 529 \nQ 447 1150 447 2328 \nQ 447 3434 972 4092 \nQ 1497 4750 2381 4750 \nQ 2619 4750 2861 4703 \nQ 3103 4656 3366 4563 \nz\n\" transform=\"scale(0.015625)\"/>\n       </defs>\n       <use xlink:href=\"#DejaVuSans-36\"/>\n      </g>\n     </g>\n    </g>\n    <g id=\"xtick_5\">\n     <g id=\"line2d_5\">\n      <g>\n       <use xlink:href=\"#ma6c5760cdd\" x=\"186.343125\" y=\"145.8\" style=\"stroke: #000000; stroke-width: 0.8\"/>\n      </g>\n     </g>\n     <g id=\"text_5\">\n      <!-- 8 -->\n      <g transform=\"translate(183.161875 160.398438) scale(0.1 -0.1)\">\n       <defs>\n        <path id=\"DejaVuSans-38\" d=\"M 2034 2216 \nQ 1584 2216 1326 1975 \nQ 1069 1734 1069 1313 \nQ 1069 891 1326 650 \nQ 1584 409 2034 409 \nQ 2484 409 2743 651 \nQ 3003 894 3003 1313 \nQ 3003 1734 2745 1975 \nQ 2488 2216 2034 2216 \nz\nM 1403 2484 \nQ 997 2584 770 2862 \nQ 544 3141 544 3541 \nQ 544 4100 942 4425 \nQ 1341 4750 2034 4750 \nQ 2731 4750 3128 4425 \nQ 3525 4100 3525 3541 \nQ 3525 3141 3298 2862 \nQ 3072 2584 2669 2484 \nQ 3125 2378 3379 2068 \nQ 3634 1759 3634 1313 \nQ 3634 634 3220 271 \nQ 2806 -91 2034 -91 \nQ 1263 -91 848 271 \nQ 434 634 434 1313 \nQ 434 1759 690 2068 \nQ 947 2378 1403 2484 \nz\nM 1172 3481 \nQ 1172 3119 1398 2916 \nQ 1625 2713 2034 2713 \nQ 2441 2713 2670 2916 \nQ 2900 3119 2900 3481 \nQ 2900 3844 2670 4047 \nQ 2441 4250 2034 4250 \nQ 1625 4250 1398 4047 \nQ 1172 3844 1172 3481 \nz\n\" transform=\"scale(0.015625)\"/>\n       </defs>\n       <use xlink:href=\"#DejaVuSans-38\"/>\n      </g>\n     </g>\n    </g>\n    <g id=\"xtick_6\">\n     <g id=\"line2d_6\">\n      <g>\n       <use xlink:href=\"#ma6c5760cdd\" x=\"225.403125\" y=\"145.8\" style=\"stroke: #000000; stroke-width: 0.8\"/>\n      </g>\n     </g>\n     <g id=\"text_6\">\n      <!-- 10 -->\n      <g transform=\"translate(219.040625 160.398438) scale(0.1 -0.1)\">\n       <defs>\n        <path id=\"DejaVuSans-31\" d=\"M 794 531 \nL 1825 531 \nL 1825 4091 \nL 703 3866 \nL 703 4441 \nL 1819 4666 \nL 2450 4666 \nL 2450 531 \nL 3481 531 \nL 3481 0 \nL 794 0 \nL 794 531 \nz\n\" transform=\"scale(0.015625)\"/>\n       </defs>\n       <use xlink:href=\"#DejaVuSans-31\"/>\n       <use xlink:href=\"#DejaVuSans-30\" x=\"63.623047\"/>\n      </g>\n     </g>\n    </g>\n    <g id=\"text_7\">\n     <!-- epoch -->\n     <g transform=\"translate(112.525 174.076563) scale(0.1 -0.1)\">\n      <defs>\n       <path id=\"DejaVuSans-65\" d=\"M 3597 1894 \nL 3597 1613 \nL 953 1613 \nQ 991 1019 1311 708 \nQ 1631 397 2203 397 \nQ 2534 397 2845 478 \nQ 3156 559 3463 722 \nL 3463 178 \nQ 3153 47 2828 -22 \nQ 2503 -91 2169 -91 \nQ 1331 -91 842 396 \nQ 353 884 353 1716 \nQ 353 2575 817 3079 \nQ 1281 3584 2069 3584 \nQ 2775 3584 3186 3129 \nQ 3597 2675 3597 1894 \nz\nM 3022 2063 \nQ 3016 2534 2758 2815 \nQ 2500 3097 2075 3097 \nQ 1594 3097 1305 2825 \nQ 1016 2553 972 2059 \nL 3022 2063 \nz\n\" transform=\"scale(0.015625)\"/>\n       <path id=\"DejaVuSans-70\" d=\"M 1159 525 \nL 1159 -1331 \nL 581 -1331 \nL 581 3500 \nL 1159 3500 \nL 1159 2969 \nQ 1341 3281 1617 3432 \nQ 1894 3584 2278 3584 \nQ 2916 3584 3314 3078 \nQ 3713 2572 3713 1747 \nQ 3713 922 3314 415 \nQ 2916 -91 2278 -91 \nQ 1894 -91 1617 61 \nQ 1341 213 1159 525 \nz\nM 3116 1747 \nQ 3116 2381 2855 2742 \nQ 2594 3103 2138 3103 \nQ 1681 3103 1420 2742 \nQ 1159 2381 1159 1747 \nQ 1159 1113 1420 752 \nQ 1681 391 2138 391 \nQ 2594 391 2855 752 \nQ 3116 1113 3116 1747 \nz\n\" transform=\"scale(0.015625)\"/>\n       <path id=\"DejaVuSans-6f\" d=\"M 1959 3097 \nQ 1497 3097 1228 2736 \nQ 959 2375 959 1747 \nQ 959 1119 1226 758 \nQ 1494 397 1959 397 \nQ 2419 397 2687 759 \nQ 2956 1122 2956 1747 \nQ 2956 2369 2687 2733 \nQ 2419 3097 1959 3097 \nz\nM 1959 3584 \nQ 2709 3584 3137 3096 \nQ 3566 2609 3566 1747 \nQ 3566 888 3137 398 \nQ 2709 -91 1959 -91 \nQ 1206 -91 779 398 \nQ 353 888 353 1747 \nQ 353 2609 779 3096 \nQ 1206 3584 1959 3584 \nz\n\" transform=\"scale(0.015625)\"/>\n       <path id=\"DejaVuSans-63\" d=\"M 3122 3366 \nL 3122 2828 \nQ 2878 2963 2633 3030 \nQ 2388 3097 2138 3097 \nQ 1578 3097 1268 2742 \nQ 959 2388 959 1747 \nQ 959 1106 1268 751 \nQ 1578 397 2138 397 \nQ 2388 397 2633 464 \nQ 2878 531 3122 666 \nL 3122 134 \nQ 2881 22 2623 -34 \nQ 2366 -91 2075 -91 \nQ 1284 -91 818 406 \nQ 353 903 353 1747 \nQ 353 2603 823 3093 \nQ 1294 3584 2113 3584 \nQ 2378 3584 2631 3529 \nQ 2884 3475 3122 3366 \nz\n\" transform=\"scale(0.015625)\"/>\n       <path id=\"DejaVuSans-68\" d=\"M 3513 2113 \nL 3513 0 \nL 2938 0 \nL 2938 2094 \nQ 2938 2591 2744 2837 \nQ 2550 3084 2163 3084 \nQ 1697 3084 1428 2787 \nQ 1159 2491 1159 1978 \nL 1159 0 \nL 581 0 \nL 581 4863 \nL 1159 4863 \nL 1159 2956 \nQ 1366 3272 1645 3428 \nQ 1925 3584 2291 3584 \nQ 2894 3584 3203 3211 \nQ 3513 2838 3513 2113 \nz\n\" transform=\"scale(0.015625)\"/>\n      </defs>\n      <use xlink:href=\"#DejaVuSans-65\"/>\n      <use xlink:href=\"#DejaVuSans-70\" x=\"61.523438\"/>\n      <use xlink:href=\"#DejaVuSans-6f\" x=\"125\"/>\n      <use xlink:href=\"#DejaVuSans-63\" x=\"186.181641\"/>\n      <use xlink:href=\"#DejaVuSans-68\" x=\"241.162109\"/>\n     </g>\n    </g>\n   </g>\n   <g id=\"matplotlib.axis_2\">\n    <g id=\"ytick_1\">\n     <g id=\"line2d_7\">\n      <defs>\n       <path id=\"m1f67366966\" d=\"M 0 0 \nL -3.5 0 \n\" style=\"stroke: #000000; stroke-width: 0.8\"/>\n      </defs>\n      <g>\n       <use xlink:href=\"#m1f67366966\" x=\"30.103125\" y=\"125.165316\" style=\"stroke: #000000; stroke-width: 0.8\"/>\n      </g>\n     </g>\n     <g id=\"text_8\">\n      <!-- 0.5 -->\n      <g transform=\"translate(7.2 128.964535) scale(0.1 -0.1)\">\n       <defs>\n        <path id=\"DejaVuSans-2e\" d=\"M 684 794 \nL 1344 794 \nL 1344 0 \nL 684 0 \nL 684 794 \nz\n\" transform=\"scale(0.015625)\"/>\n        <path id=\"DejaVuSans-35\" d=\"M 691 4666 \nL 3169 4666 \nL 3169 4134 \nL 1269 4134 \nL 1269 2991 \nQ 1406 3038 1543 3061 \nQ 1681 3084 1819 3084 \nQ 2600 3084 3056 2656 \nQ 3513 2228 3513 1497 \nQ 3513 744 3044 326 \nQ 2575 -91 1722 -91 \nQ 1428 -91 1123 -41 \nQ 819 9 494 109 \nL 494 744 \nQ 775 591 1075 516 \nQ 1375 441 1709 441 \nQ 2250 441 2565 725 \nQ 2881 1009 2881 1497 \nQ 2881 1984 2565 2268 \nQ 2250 2553 1709 2553 \nQ 1456 2553 1204 2497 \nQ 953 2441 691 2322 \nL 691 4666 \nz\n\" transform=\"scale(0.015625)\"/>\n       </defs>\n       <use xlink:href=\"#DejaVuSans-30\"/>\n       <use xlink:href=\"#DejaVuSans-2e\" x=\"63.623047\"/>\n       <use xlink:href=\"#DejaVuSans-35\" x=\"95.410156\"/>\n      </g>\n     </g>\n    </g>\n    <g id=\"ytick_2\">\n     <g id=\"line2d_8\">\n      <g>\n       <use xlink:href=\"#m1f67366966\" x=\"30.103125\" y=\"99.293365\" style=\"stroke: #000000; stroke-width: 0.8\"/>\n      </g>\n     </g>\n     <g id=\"text_9\">\n      <!-- 0.6 -->\n      <g transform=\"translate(7.2 103.092583) scale(0.1 -0.1)\">\n       <use xlink:href=\"#DejaVuSans-30\"/>\n       <use xlink:href=\"#DejaVuSans-2e\" x=\"63.623047\"/>\n       <use xlink:href=\"#DejaVuSans-36\" x=\"95.410156\"/>\n      </g>\n     </g>\n    </g>\n    <g id=\"ytick_3\">\n     <g id=\"line2d_9\">\n      <g>\n       <use xlink:href=\"#m1f67366966\" x=\"30.103125\" y=\"73.421413\" style=\"stroke: #000000; stroke-width: 0.8\"/>\n      </g>\n     </g>\n     <g id=\"text_10\">\n      <!-- 0.7 -->\n      <g transform=\"translate(7.2 77.220632) scale(0.1 -0.1)\">\n       <defs>\n        <path id=\"DejaVuSans-37\" d=\"M 525 4666 \nL 3525 4666 \nL 3525 4397 \nL 1831 0 \nL 1172 0 \nL 2766 4134 \nL 525 4134 \nL 525 4666 \nz\n\" transform=\"scale(0.015625)\"/>\n       </defs>\n       <use xlink:href=\"#DejaVuSans-30\"/>\n       <use xlink:href=\"#DejaVuSans-2e\" x=\"63.623047\"/>\n       <use xlink:href=\"#DejaVuSans-37\" x=\"95.410156\"/>\n      </g>\n     </g>\n    </g>\n    <g id=\"ytick_4\">\n     <g id=\"line2d_10\">\n      <g>\n       <use xlink:href=\"#m1f67366966\" x=\"30.103125\" y=\"47.549461\" style=\"stroke: #000000; stroke-width: 0.8\"/>\n      </g>\n     </g>\n     <g id=\"text_11\">\n      <!-- 0.8 -->\n      <g transform=\"translate(7.2 51.34868) scale(0.1 -0.1)\">\n       <use xlink:href=\"#DejaVuSans-30\"/>\n       <use xlink:href=\"#DejaVuSans-2e\" x=\"63.623047\"/>\n       <use xlink:href=\"#DejaVuSans-38\" x=\"95.410156\"/>\n      </g>\n     </g>\n    </g>\n    <g id=\"ytick_5\">\n     <g id=\"line2d_11\">\n      <g>\n       <use xlink:href=\"#m1f67366966\" x=\"30.103125\" y=\"21.677509\" style=\"stroke: #000000; stroke-width: 0.8\"/>\n      </g>\n     </g>\n     <g id=\"text_12\">\n      <!-- 0.9 -->\n      <g transform=\"translate(7.2 25.476728) scale(0.1 -0.1)\">\n       <defs>\n        <path id=\"DejaVuSans-39\" d=\"M 703 97 \nL 703 672 \nQ 941 559 1184 500 \nQ 1428 441 1663 441 \nQ 2288 441 2617 861 \nQ 2947 1281 2994 2138 \nQ 2813 1869 2534 1725 \nQ 2256 1581 1919 1581 \nQ 1219 1581 811 2004 \nQ 403 2428 403 3163 \nQ 403 3881 828 4315 \nQ 1253 4750 1959 4750 \nQ 2769 4750 3195 4129 \nQ 3622 3509 3622 2328 \nQ 3622 1225 3098 567 \nQ 2575 -91 1691 -91 \nQ 1453 -91 1209 -44 \nQ 966 3 703 97 \nz\nM 1959 2075 \nQ 2384 2075 2632 2365 \nQ 2881 2656 2881 3163 \nQ 2881 3666 2632 3958 \nQ 2384 4250 1959 4250 \nQ 1534 4250 1286 3958 \nQ 1038 3666 1038 3163 \nQ 1038 2656 1286 2365 \nQ 1534 2075 1959 2075 \nz\n\" transform=\"scale(0.015625)\"/>\n       </defs>\n       <use xlink:href=\"#DejaVuSans-30\"/>\n       <use xlink:href=\"#DejaVuSans-2e\" x=\"63.623047\"/>\n       <use xlink:href=\"#DejaVuSans-39\" x=\"95.410156\"/>\n      </g>\n     </g>\n    </g>\n   </g>\n   <g id=\"line2d_12\">\n    <path d=\"M 34.923295 13.5 \n\" clip-path=\"url(#p8816b72d44)\" style=\"fill: none; stroke: #1f77b4; stroke-width: 1.5; stroke-linecap: square\"/>\n   </g>\n   <g id=\"line2d_13\">\n    <path d=\"M 34.923295 13.5 \nL 44.646742 87.468004 \n\" clip-path=\"url(#p8816b72d44)\" style=\"fill: none; stroke: #1f77b4; stroke-width: 1.5; stroke-linecap: square\"/>\n   </g>\n   <g id=\"line2d_14\">\n    <path d=\"M 34.923295 13.5 \nL 44.646742 87.468004 \n\" clip-path=\"url(#p8816b72d44)\" style=\"fill: none; stroke: #1f77b4; stroke-width: 1.5; stroke-linecap: square\"/>\n   </g>\n   <g id=\"line2d_15\">\n    <path d=\"M 49.633125 87.331493 \n\" clip-path=\"url(#p8816b72d44)\" style=\"fill: none; stroke-dasharray: 5.55,2.4; stroke-dashoffset: 0; stroke: #ff7f0e; stroke-width: 1.5\"/>\n   </g>\n   <g id=\"line2d_16\"/>\n   <g id=\"line2d_17\">\n    <path d=\"M 34.923295 13.5 \nL 44.646742 87.468004 \n\" clip-path=\"url(#p8816b72d44)\" style=\"fill: none; stroke: #1f77b4; stroke-width: 1.5; stroke-linecap: square\"/>\n   </g>\n   <g id=\"line2d_18\">\n    <path d=\"M 49.633125 87.331493 \n\" clip-path=\"url(#p8816b72d44)\" style=\"fill: none; stroke-dasharray: 5.55,2.4; stroke-dashoffset: 0; stroke: #ff7f0e; stroke-width: 1.5\"/>\n   </g>\n   <g id=\"line2d_19\">\n    <path d=\"M 49.633125 51.339298 \n\" clip-path=\"url(#p8816b72d44)\" style=\"fill: none; stroke-dasharray: 9.6,2.4,1.5,2.4; stroke-dashoffset: 0; stroke: #2ca02c; stroke-width: 1.5\"/>\n   </g>\n   <g id=\"line2d_20\">\n    <path d=\"M 34.923295 13.5 \nL 44.646742 87.468004 \nL 54.370189 104.302935 \n\" clip-path=\"url(#p8816b72d44)\" style=\"fill: none; stroke: #1f77b4; stroke-width: 1.5; stroke-linecap: square\"/>\n   </g>\n   <g id=\"line2d_21\">\n    <path d=\"M 49.633125 87.331493 \n\" clip-path=\"url(#p8816b72d44)\" style=\"fill: none; stroke-dasharray: 5.55,2.4; stroke-dashoffset: 0; stroke: #ff7f0e; stroke-width: 1.5\"/>\n   </g>\n   <g id=\"line2d_22\">\n    <path d=\"M 49.633125 51.339298 \n\" clip-path=\"url(#p8816b72d44)\" style=\"fill: none; stroke-dasharray: 9.6,2.4,1.5,2.4; stroke-dashoffset: 0; stroke: #2ca02c; stroke-width: 1.5\"/>\n   </g>\n   <g id=\"line2d_23\">\n    <path d=\"M 34.923295 13.5 \nL 44.646742 87.468004 \nL 54.370189 104.302935 \nL 64.093636 109.924627 \n\" clip-path=\"url(#p8816b72d44)\" style=\"fill: none; stroke: #1f77b4; stroke-width: 1.5; stroke-linecap: square\"/>\n   </g>\n   <g id=\"line2d_24\">\n    <path d=\"M 49.633125 87.331493 \n\" clip-path=\"url(#p8816b72d44)\" style=\"fill: none; stroke-dasharray: 5.55,2.4; stroke-dashoffset: 0; stroke: #ff7f0e; stroke-width: 1.5\"/>\n   </g>\n   <g id=\"line2d_25\">\n    <path d=\"M 49.633125 51.339298 \n\" clip-path=\"url(#p8816b72d44)\" style=\"fill: none; stroke-dasharray: 9.6,2.4,1.5,2.4; stroke-dashoffset: 0; stroke: #2ca02c; stroke-width: 1.5\"/>\n   </g>\n   <g id=\"line2d_26\">\n    <path d=\"M 34.923295 13.5 \nL 44.646742 87.468004 \nL 54.370189 104.302935 \nL 64.093636 109.924627 \n\" clip-path=\"url(#p8816b72d44)\" style=\"fill: none; stroke: #1f77b4; stroke-width: 1.5; stroke-linecap: square\"/>\n   </g>\n   <g id=\"line2d_27\">\n    <path d=\"M 49.633125 87.331493 \nL 69.163125 110.817637 \n\" clip-path=\"url(#p8816b72d44)\" style=\"fill: none; stroke-dasharray: 5.55,2.4; stroke-dashoffset: 0; stroke: #ff7f0e; stroke-width: 1.5\"/>\n   </g>\n   <g id=\"line2d_28\">\n    <path d=\"M 49.633125 51.339298 \n\" clip-path=\"url(#p8816b72d44)\" style=\"fill: none; stroke-dasharray: 9.6,2.4,1.5,2.4; stroke-dashoffset: 0; stroke: #2ca02c; stroke-width: 1.5\"/>\n   </g>\n   <g id=\"line2d_29\">\n    <path d=\"M 34.923295 13.5 \nL 44.646742 87.468004 \nL 54.370189 104.302935 \nL 64.093636 109.924627 \n\" clip-path=\"url(#p8816b72d44)\" style=\"fill: none; stroke: #1f77b4; stroke-width: 1.5; stroke-linecap: square\"/>\n   </g>\n   <g id=\"line2d_30\">\n    <path d=\"M 49.633125 87.331493 \nL 69.163125 110.817637 \n\" clip-path=\"url(#p8816b72d44)\" style=\"fill: none; stroke-dasharray: 5.55,2.4; stroke-dashoffset: 0; stroke: #ff7f0e; stroke-width: 1.5\"/>\n   </g>\n   <g id=\"line2d_31\">\n    <path d=\"M 49.633125 51.339298 \nL 69.163125 43.229047 \n\" clip-path=\"url(#p8816b72d44)\" style=\"fill: none; stroke-dasharray: 9.6,2.4,1.5,2.4; stroke-dashoffset: 0; stroke: #2ca02c; stroke-width: 1.5\"/>\n   </g>\n   <g id=\"line2d_32\">\n    <path d=\"M 34.923295 13.5 \nL 44.646742 87.468004 \nL 54.370189 104.302935 \nL 64.093636 109.924627 \nL 73.817082 116.441273 \n\" clip-path=\"url(#p8816b72d44)\" style=\"fill: none; stroke: #1f77b4; stroke-width: 1.5; stroke-linecap: square\"/>\n   </g>\n   <g id=\"line2d_33\">\n    <path d=\"M 49.633125 87.331493 \nL 69.163125 110.817637 \n\" clip-path=\"url(#p8816b72d44)\" style=\"fill: none; stroke-dasharray: 5.55,2.4; stroke-dashoffset: 0; stroke: #ff7f0e; stroke-width: 1.5\"/>\n   </g>\n   <g id=\"line2d_34\">\n    <path d=\"M 49.633125 51.339298 \nL 69.163125 43.229047 \n\" clip-path=\"url(#p8816b72d44)\" style=\"fill: none; stroke-dasharray: 9.6,2.4,1.5,2.4; stroke-dashoffset: 0; stroke: #2ca02c; stroke-width: 1.5\"/>\n   </g>\n   <g id=\"line2d_35\">\n    <path d=\"M 34.923295 13.5 \nL 44.646742 87.468004 \nL 54.370189 104.302935 \nL 64.093636 109.924627 \nL 73.817082 116.441273 \nL 83.540529 120.568198 \n\" clip-path=\"url(#p8816b72d44)\" style=\"fill: none; stroke: #1f77b4; stroke-width: 1.5; stroke-linecap: square\"/>\n   </g>\n   <g id=\"line2d_36\">\n    <path d=\"M 49.633125 87.331493 \nL 69.163125 110.817637 \n\" clip-path=\"url(#p8816b72d44)\" style=\"fill: none; stroke-dasharray: 5.55,2.4; stroke-dashoffset: 0; stroke: #ff7f0e; stroke-width: 1.5\"/>\n   </g>\n   <g id=\"line2d_37\">\n    <path d=\"M 49.633125 51.339298 \nL 69.163125 43.229047 \n\" clip-path=\"url(#p8816b72d44)\" style=\"fill: none; stroke-dasharray: 9.6,2.4,1.5,2.4; stroke-dashoffset: 0; stroke: #2ca02c; stroke-width: 1.5\"/>\n   </g>\n   <g id=\"line2d_38\">\n    <path d=\"M 34.923295 13.5 \nL 44.646742 87.468004 \nL 54.370189 104.302935 \nL 64.093636 109.924627 \nL 73.817082 116.441273 \nL 83.540529 120.568198 \n\" clip-path=\"url(#p8816b72d44)\" style=\"fill: none; stroke: #1f77b4; stroke-width: 1.5; stroke-linecap: square\"/>\n   </g>\n   <g id=\"line2d_39\">\n    <path d=\"M 49.633125 87.331493 \nL 69.163125 110.817637 \nL 88.693125 115.466574 \n\" clip-path=\"url(#p8816b72d44)\" style=\"fill: none; stroke-dasharray: 5.55,2.4; stroke-dashoffset: 0; stroke: #ff7f0e; stroke-width: 1.5\"/>\n   </g>\n   <g id=\"line2d_40\">\n    <path d=\"M 49.633125 51.339298 \nL 69.163125 43.229047 \n\" clip-path=\"url(#p8816b72d44)\" style=\"fill: none; stroke-dasharray: 9.6,2.4,1.5,2.4; stroke-dashoffset: 0; stroke: #2ca02c; stroke-width: 1.5\"/>\n   </g>\n   <g id=\"line2d_41\">\n    <path d=\"M 34.923295 13.5 \nL 44.646742 87.468004 \nL 54.370189 104.302935 \nL 64.093636 109.924627 \nL 73.817082 116.441273 \nL 83.540529 120.568198 \n\" clip-path=\"url(#p8816b72d44)\" style=\"fill: none; stroke: #1f77b4; stroke-width: 1.5; stroke-linecap: square\"/>\n   </g>\n   <g id=\"line2d_42\">\n    <path d=\"M 49.633125 87.331493 \nL 69.163125 110.817637 \nL 88.693125 115.466574 \n\" clip-path=\"url(#p8816b72d44)\" style=\"fill: none; stroke-dasharray: 5.55,2.4; stroke-dashoffset: 0; stroke: #ff7f0e; stroke-width: 1.5\"/>\n   </g>\n   <g id=\"line2d_43\">\n    <path d=\"M 49.633125 51.339298 \nL 69.163125 43.229047 \nL 88.693125 43.481703 \n\" clip-path=\"url(#p8816b72d44)\" style=\"fill: none; stroke-dasharray: 9.6,2.4,1.5,2.4; stroke-dashoffset: 0; stroke: #2ca02c; stroke-width: 1.5\"/>\n   </g>\n   <g id=\"line2d_44\">\n    <path d=\"M 34.923295 13.5 \nL 44.646742 87.468004 \nL 54.370189 104.302935 \nL 64.093636 109.924627 \nL 73.817082 116.441273 \nL 83.540529 120.568198 \nL 93.263976 123.480683 \n\" clip-path=\"url(#p8816b72d44)\" style=\"fill: none; stroke: #1f77b4; stroke-width: 1.5; stroke-linecap: square\"/>\n   </g>\n   <g id=\"line2d_45\">\n    <path d=\"M 49.633125 87.331493 \nL 69.163125 110.817637 \nL 88.693125 115.466574 \n\" clip-path=\"url(#p8816b72d44)\" style=\"fill: none; stroke-dasharray: 5.55,2.4; stroke-dashoffset: 0; stroke: #ff7f0e; stroke-width: 1.5\"/>\n   </g>\n   <g id=\"line2d_46\">\n    <path d=\"M 49.633125 51.339298 \nL 69.163125 43.229047 \nL 88.693125 43.481703 \n\" clip-path=\"url(#p8816b72d44)\" style=\"fill: none; stroke-dasharray: 9.6,2.4,1.5,2.4; stroke-dashoffset: 0; stroke: #2ca02c; stroke-width: 1.5\"/>\n   </g>\n   <g id=\"line2d_47\">\n    <path d=\"M 34.923295 13.5 \nL 44.646742 87.468004 \nL 54.370189 104.302935 \nL 64.093636 109.924627 \nL 73.817082 116.441273 \nL 83.540529 120.568198 \nL 93.263976 123.480683 \nL 102.987423 125.724187 \n\" clip-path=\"url(#p8816b72d44)\" style=\"fill: none; stroke: #1f77b4; stroke-width: 1.5; stroke-linecap: square\"/>\n   </g>\n   <g id=\"line2d_48\">\n    <path d=\"M 49.633125 87.331493 \nL 69.163125 110.817637 \nL 88.693125 115.466574 \n\" clip-path=\"url(#p8816b72d44)\" style=\"fill: none; stroke-dasharray: 5.55,2.4; stroke-dashoffset: 0; stroke: #ff7f0e; stroke-width: 1.5\"/>\n   </g>\n   <g id=\"line2d_49\">\n    <path d=\"M 49.633125 51.339298 \nL 69.163125 43.229047 \nL 88.693125 43.481703 \n\" clip-path=\"url(#p8816b72d44)\" style=\"fill: none; stroke-dasharray: 9.6,2.4,1.5,2.4; stroke-dashoffset: 0; stroke: #2ca02c; stroke-width: 1.5\"/>\n   </g>\n   <g id=\"line2d_50\">\n    <path d=\"M 34.923295 13.5 \nL 44.646742 87.468004 \nL 54.370189 104.302935 \nL 64.093636 109.924627 \nL 73.817082 116.441273 \nL 83.540529 120.568198 \nL 93.263976 123.480683 \nL 102.987423 125.724187 \n\" clip-path=\"url(#p8816b72d44)\" style=\"fill: none; stroke: #1f77b4; stroke-width: 1.5; stroke-linecap: square\"/>\n   </g>\n   <g id=\"line2d_51\">\n    <path d=\"M 49.633125 87.331493 \nL 69.163125 110.817637 \nL 88.693125 115.466574 \nL 108.223125 119.420784 \n\" clip-path=\"url(#p8816b72d44)\" style=\"fill: none; stroke-dasharray: 5.55,2.4; stroke-dashoffset: 0; stroke: #ff7f0e; stroke-width: 1.5\"/>\n   </g>\n   <g id=\"line2d_52\">\n    <path d=\"M 49.633125 51.339298 \nL 69.163125 43.229047 \nL 88.693125 43.481703 \n\" clip-path=\"url(#p8816b72d44)\" style=\"fill: none; stroke-dasharray: 9.6,2.4,1.5,2.4; stroke-dashoffset: 0; stroke: #2ca02c; stroke-width: 1.5\"/>\n   </g>\n   <g id=\"line2d_53\">\n    <path d=\"M 34.923295 13.5 \nL 44.646742 87.468004 \nL 54.370189 104.302935 \nL 64.093636 109.924627 \nL 73.817082 116.441273 \nL 83.540529 120.568198 \nL 93.263976 123.480683 \nL 102.987423 125.724187 \n\" clip-path=\"url(#p8816b72d44)\" style=\"fill: none; stroke: #1f77b4; stroke-width: 1.5; stroke-linecap: square\"/>\n   </g>\n   <g id=\"line2d_54\">\n    <path d=\"M 49.633125 87.331493 \nL 69.163125 110.817637 \nL 88.693125 115.466574 \nL 108.223125 119.420784 \n\" clip-path=\"url(#p8816b72d44)\" style=\"fill: none; stroke-dasharray: 5.55,2.4; stroke-dashoffset: 0; stroke: #ff7f0e; stroke-width: 1.5\"/>\n   </g>\n   <g id=\"line2d_55\">\n    <path d=\"M 49.633125 51.339298 \nL 69.163125 43.229047 \nL 88.693125 43.481703 \nL 108.223125 41.889972 \n\" clip-path=\"url(#p8816b72d44)\" style=\"fill: none; stroke-dasharray: 9.6,2.4,1.5,2.4; stroke-dashoffset: 0; stroke: #2ca02c; stroke-width: 1.5\"/>\n   </g>\n   <g id=\"line2d_56\">\n    <path d=\"M 34.923295 13.5 \nL 44.646742 87.468004 \nL 54.370189 104.302935 \nL 64.093636 109.924627 \nL 73.817082 116.441273 \nL 83.540529 120.568198 \nL 93.263976 123.480683 \nL 102.987423 125.724187 \nL 112.71087 128.096957 \n\" clip-path=\"url(#p8816b72d44)\" style=\"fill: none; stroke: #1f77b4; stroke-width: 1.5; stroke-linecap: square\"/>\n   </g>\n   <g id=\"line2d_57\">\n    <path d=\"M 49.633125 87.331493 \nL 69.163125 110.817637 \nL 88.693125 115.466574 \nL 108.223125 119.420784 \n\" clip-path=\"url(#p8816b72d44)\" style=\"fill: none; stroke-dasharray: 5.55,2.4; stroke-dashoffset: 0; stroke: #ff7f0e; stroke-width: 1.5\"/>\n   </g>\n   <g id=\"line2d_58\">\n    <path d=\"M 49.633125 51.339298 \nL 69.163125 43.229047 \nL 88.693125 43.481703 \nL 108.223125 41.889972 \n\" clip-path=\"url(#p8816b72d44)\" style=\"fill: none; stroke-dasharray: 9.6,2.4,1.5,2.4; stroke-dashoffset: 0; stroke: #2ca02c; stroke-width: 1.5\"/>\n   </g>\n   <g id=\"line2d_59\">\n    <path d=\"M 34.923295 13.5 \nL 44.646742 87.468004 \nL 54.370189 104.302935 \nL 64.093636 109.924627 \nL 73.817082 116.441273 \nL 83.540529 120.568198 \nL 93.263976 123.480683 \nL 102.987423 125.724187 \nL 112.71087 128.096957 \nL 122.434316 129.793475 \n\" clip-path=\"url(#p8816b72d44)\" style=\"fill: none; stroke: #1f77b4; stroke-width: 1.5; stroke-linecap: square\"/>\n   </g>\n   <g id=\"line2d_60\">\n    <path d=\"M 49.633125 87.331493 \nL 69.163125 110.817637 \nL 88.693125 115.466574 \nL 108.223125 119.420784 \n\" clip-path=\"url(#p8816b72d44)\" style=\"fill: none; stroke-dasharray: 5.55,2.4; stroke-dashoffset: 0; stroke: #ff7f0e; stroke-width: 1.5\"/>\n   </g>\n   <g id=\"line2d_61\">\n    <path d=\"M 49.633125 51.339298 \nL 69.163125 43.229047 \nL 88.693125 43.481703 \nL 108.223125 41.889972 \n\" clip-path=\"url(#p8816b72d44)\" style=\"fill: none; stroke-dasharray: 9.6,2.4,1.5,2.4; stroke-dashoffset: 0; stroke: #2ca02c; stroke-width: 1.5\"/>\n   </g>\n   <g id=\"line2d_62\">\n    <path d=\"M 34.923295 13.5 \nL 44.646742 87.468004 \nL 54.370189 104.302935 \nL 64.093636 109.924627 \nL 73.817082 116.441273 \nL 83.540529 120.568198 \nL 93.263976 123.480683 \nL 102.987423 125.724187 \nL 112.71087 128.096957 \nL 122.434316 129.793475 \n\" clip-path=\"url(#p8816b72d44)\" style=\"fill: none; stroke: #1f77b4; stroke-width: 1.5; stroke-linecap: square\"/>\n   </g>\n   <g id=\"line2d_63\">\n    <path d=\"M 49.633125 87.331493 \nL 69.163125 110.817637 \nL 88.693125 115.466574 \nL 108.223125 119.420784 \nL 127.753125 123.445894 \n\" clip-path=\"url(#p8816b72d44)\" style=\"fill: none; stroke-dasharray: 5.55,2.4; stroke-dashoffset: 0; stroke: #ff7f0e; stroke-width: 1.5\"/>\n   </g>\n   <g id=\"line2d_64\">\n    <path d=\"M 49.633125 51.339298 \nL 69.163125 43.229047 \nL 88.693125 43.481703 \nL 108.223125 41.889972 \n\" clip-path=\"url(#p8816b72d44)\" style=\"fill: none; stroke-dasharray: 9.6,2.4,1.5,2.4; stroke-dashoffset: 0; stroke: #2ca02c; stroke-width: 1.5\"/>\n   </g>\n   <g id=\"line2d_65\">\n    <path d=\"M 34.923295 13.5 \nL 44.646742 87.468004 \nL 54.370189 104.302935 \nL 64.093636 109.924627 \nL 73.817082 116.441273 \nL 83.540529 120.568198 \nL 93.263976 123.480683 \nL 102.987423 125.724187 \nL 112.71087 128.096957 \nL 122.434316 129.793475 \n\" clip-path=\"url(#p8816b72d44)\" style=\"fill: none; stroke: #1f77b4; stroke-width: 1.5; stroke-linecap: square\"/>\n   </g>\n   <g id=\"line2d_66\">\n    <path d=\"M 49.633125 87.331493 \nL 69.163125 110.817637 \nL 88.693125 115.466574 \nL 108.223125 119.420784 \nL 127.753125 123.445894 \n\" clip-path=\"url(#p8816b72d44)\" style=\"fill: none; stroke-dasharray: 5.55,2.4; stroke-dashoffset: 0; stroke: #ff7f0e; stroke-width: 1.5\"/>\n   </g>\n   <g id=\"line2d_67\">\n    <path d=\"M 49.633125 51.339298 \nL 69.163125 43.229047 \nL 88.693125 43.481703 \nL 108.223125 41.889972 \nL 127.753125 40.424568 \n\" clip-path=\"url(#p8816b72d44)\" style=\"fill: none; stroke-dasharray: 9.6,2.4,1.5,2.4; stroke-dashoffset: 0; stroke: #2ca02c; stroke-width: 1.5\"/>\n   </g>\n   <g id=\"line2d_68\">\n    <path d=\"M 34.923295 13.5 \nL 44.646742 87.468004 \nL 54.370189 104.302935 \nL 64.093636 109.924627 \nL 73.817082 116.441273 \nL 83.540529 120.568198 \nL 93.263976 123.480683 \nL 102.987423 125.724187 \nL 112.71087 128.096957 \nL 122.434316 129.793475 \nL 132.157763 133.434852 \n\" clip-path=\"url(#p8816b72d44)\" style=\"fill: none; stroke: #1f77b4; stroke-width: 1.5; stroke-linecap: square\"/>\n   </g>\n   <g id=\"line2d_69\">\n    <path d=\"M 49.633125 87.331493 \nL 69.163125 110.817637 \nL 88.693125 115.466574 \nL 108.223125 119.420784 \nL 127.753125 123.445894 \n\" clip-path=\"url(#p8816b72d44)\" style=\"fill: none; stroke-dasharray: 5.55,2.4; stroke-dashoffset: 0; stroke: #ff7f0e; stroke-width: 1.5\"/>\n   </g>\n   <g id=\"line2d_70\">\n    <path d=\"M 49.633125 51.339298 \nL 69.163125 43.229047 \nL 88.693125 43.481703 \nL 108.223125 41.889972 \nL 127.753125 40.424568 \n\" clip-path=\"url(#p8816b72d44)\" style=\"fill: none; stroke-dasharray: 9.6,2.4,1.5,2.4; stroke-dashoffset: 0; stroke: #2ca02c; stroke-width: 1.5\"/>\n   </g>\n   <g id=\"line2d_71\">\n    <path d=\"M 34.923295 13.5 \nL 44.646742 87.468004 \nL 54.370189 104.302935 \nL 64.093636 109.924627 \nL 73.817082 116.441273 \nL 83.540529 120.568198 \nL 93.263976 123.480683 \nL 102.987423 125.724187 \nL 112.71087 128.096957 \nL 122.434316 129.793475 \nL 132.157763 133.434852 \nL 141.88121 130.773724 \n\" clip-path=\"url(#p8816b72d44)\" style=\"fill: none; stroke: #1f77b4; stroke-width: 1.5; stroke-linecap: square\"/>\n   </g>\n   <g id=\"line2d_72\">\n    <path d=\"M 49.633125 87.331493 \nL 69.163125 110.817637 \nL 88.693125 115.466574 \nL 108.223125 119.420784 \nL 127.753125 123.445894 \n\" clip-path=\"url(#p8816b72d44)\" style=\"fill: none; stroke-dasharray: 5.55,2.4; stroke-dashoffset: 0; stroke: #ff7f0e; stroke-width: 1.5\"/>\n   </g>\n   <g id=\"line2d_73\">\n    <path d=\"M 49.633125 51.339298 \nL 69.163125 43.229047 \nL 88.693125 43.481703 \nL 108.223125 41.889972 \nL 127.753125 40.424568 \n\" clip-path=\"url(#p8816b72d44)\" style=\"fill: none; stroke-dasharray: 9.6,2.4,1.5,2.4; stroke-dashoffset: 0; stroke: #2ca02c; stroke-width: 1.5\"/>\n   </g>\n   <g id=\"line2d_74\">\n    <path d=\"M 34.923295 13.5 \nL 44.646742 87.468004 \nL 54.370189 104.302935 \nL 64.093636 109.924627 \nL 73.817082 116.441273 \nL 83.540529 120.568198 \nL 93.263976 123.480683 \nL 102.987423 125.724187 \nL 112.71087 128.096957 \nL 122.434316 129.793475 \nL 132.157763 133.434852 \nL 141.88121 130.773724 \n\" clip-path=\"url(#p8816b72d44)\" style=\"fill: none; stroke: #1f77b4; stroke-width: 1.5; stroke-linecap: square\"/>\n   </g>\n   <g id=\"line2d_75\">\n    <path d=\"M 49.633125 87.331493 \nL 69.163125 110.817637 \nL 88.693125 115.466574 \nL 108.223125 119.420784 \nL 127.753125 123.445894 \nL 147.283125 125.911312 \n\" clip-path=\"url(#p8816b72d44)\" style=\"fill: none; stroke-dasharray: 5.55,2.4; stroke-dashoffset: 0; stroke: #ff7f0e; stroke-width: 1.5\"/>\n   </g>\n   <g id=\"line2d_76\">\n    <path d=\"M 49.633125 51.339298 \nL 69.163125 43.229047 \nL 88.693125 43.481703 \nL 108.223125 41.889972 \nL 127.753125 40.424568 \n\" clip-path=\"url(#p8816b72d44)\" style=\"fill: none; stroke-dasharray: 9.6,2.4,1.5,2.4; stroke-dashoffset: 0; stroke: #2ca02c; stroke-width: 1.5\"/>\n   </g>\n   <g id=\"line2d_77\">\n    <path d=\"M 34.923295 13.5 \nL 44.646742 87.468004 \nL 54.370189 104.302935 \nL 64.093636 109.924627 \nL 73.817082 116.441273 \nL 83.540529 120.568198 \nL 93.263976 123.480683 \nL 102.987423 125.724187 \nL 112.71087 128.096957 \nL 122.434316 129.793475 \nL 132.157763 133.434852 \nL 141.88121 130.773724 \n\" clip-path=\"url(#p8816b72d44)\" style=\"fill: none; stroke: #1f77b4; stroke-width: 1.5; stroke-linecap: square\"/>\n   </g>\n   <g id=\"line2d_78\">\n    <path d=\"M 49.633125 87.331493 \nL 69.163125 110.817637 \nL 88.693125 115.466574 \nL 108.223125 119.420784 \nL 127.753125 123.445894 \nL 147.283125 125.911312 \n\" clip-path=\"url(#p8816b72d44)\" style=\"fill: none; stroke-dasharray: 5.55,2.4; stroke-dashoffset: 0; stroke: #ff7f0e; stroke-width: 1.5\"/>\n   </g>\n   <g id=\"line2d_79\">\n    <path d=\"M 49.633125 51.339298 \nL 69.163125 43.229047 \nL 88.693125 43.481703 \nL 108.223125 41.889972 \nL 127.753125 40.424568 \nL 147.283125 40.626693 \n\" clip-path=\"url(#p8816b72d44)\" style=\"fill: none; stroke-dasharray: 9.6,2.4,1.5,2.4; stroke-dashoffset: 0; stroke: #2ca02c; stroke-width: 1.5\"/>\n   </g>\n   <g id=\"line2d_80\">\n    <path d=\"M 34.923295 13.5 \nL 44.646742 87.468004 \nL 54.370189 104.302935 \nL 64.093636 109.924627 \nL 73.817082 116.441273 \nL 83.540529 120.568198 \nL 93.263976 123.480683 \nL 102.987423 125.724187 \nL 112.71087 128.096957 \nL 122.434316 129.793475 \nL 132.157763 133.434852 \nL 141.88121 130.773724 \nL 151.604657 133.283685 \n\" clip-path=\"url(#p8816b72d44)\" style=\"fill: none; stroke: #1f77b4; stroke-width: 1.5; stroke-linecap: square\"/>\n   </g>\n   <g id=\"line2d_81\">\n    <path d=\"M 49.633125 87.331493 \nL 69.163125 110.817637 \nL 88.693125 115.466574 \nL 108.223125 119.420784 \nL 127.753125 123.445894 \nL 147.283125 125.911312 \n\" clip-path=\"url(#p8816b72d44)\" style=\"fill: none; stroke-dasharray: 5.55,2.4; stroke-dashoffset: 0; stroke: #ff7f0e; stroke-width: 1.5\"/>\n   </g>\n   <g id=\"line2d_82\">\n    <path d=\"M 49.633125 51.339298 \nL 69.163125 43.229047 \nL 88.693125 43.481703 \nL 108.223125 41.889972 \nL 127.753125 40.424568 \nL 147.283125 40.626693 \n\" clip-path=\"url(#p8816b72d44)\" style=\"fill: none; stroke-dasharray: 9.6,2.4,1.5,2.4; stroke-dashoffset: 0; stroke: #2ca02c; stroke-width: 1.5\"/>\n   </g>\n   <g id=\"line2d_83\">\n    <path d=\"M 34.923295 13.5 \nL 44.646742 87.468004 \nL 54.370189 104.302935 \nL 64.093636 109.924627 \nL 73.817082 116.441273 \nL 83.540529 120.568198 \nL 93.263976 123.480683 \nL 102.987423 125.724187 \nL 112.71087 128.096957 \nL 122.434316 129.793475 \nL 132.157763 133.434852 \nL 141.88121 130.773724 \nL 151.604657 133.283685 \nL 161.328104 135.28215 \n\" clip-path=\"url(#p8816b72d44)\" style=\"fill: none; stroke: #1f77b4; stroke-width: 1.5; stroke-linecap: square\"/>\n   </g>\n   <g id=\"line2d_84\">\n    <path d=\"M 49.633125 87.331493 \nL 69.163125 110.817637 \nL 88.693125 115.466574 \nL 108.223125 119.420784 \nL 127.753125 123.445894 \nL 147.283125 125.911312 \n\" clip-path=\"url(#p8816b72d44)\" style=\"fill: none; stroke-dasharray: 5.55,2.4; stroke-dashoffset: 0; stroke: #ff7f0e; stroke-width: 1.5\"/>\n   </g>\n   <g id=\"line2d_85\">\n    <path d=\"M 49.633125 51.339298 \nL 69.163125 43.229047 \nL 88.693125 43.481703 \nL 108.223125 41.889972 \nL 127.753125 40.424568 \nL 147.283125 40.626693 \n\" clip-path=\"url(#p8816b72d44)\" style=\"fill: none; stroke-dasharray: 9.6,2.4,1.5,2.4; stroke-dashoffset: 0; stroke: #2ca02c; stroke-width: 1.5\"/>\n   </g>\n   <g id=\"line2d_86\">\n    <path d=\"M 34.923295 13.5 \nL 44.646742 87.468004 \nL 54.370189 104.302935 \nL 64.093636 109.924627 \nL 73.817082 116.441273 \nL 83.540529 120.568198 \nL 93.263976 123.480683 \nL 102.987423 125.724187 \nL 112.71087 128.096957 \nL 122.434316 129.793475 \nL 132.157763 133.434852 \nL 141.88121 130.773724 \nL 151.604657 133.283685 \nL 161.328104 135.28215 \n\" clip-path=\"url(#p8816b72d44)\" style=\"fill: none; stroke: #1f77b4; stroke-width: 1.5; stroke-linecap: square\"/>\n   </g>\n   <g id=\"line2d_87\">\n    <path d=\"M 49.633125 87.331493 \nL 69.163125 110.817637 \nL 88.693125 115.466574 \nL 108.223125 119.420784 \nL 127.753125 123.445894 \nL 147.283125 125.911312 \nL 166.813125 121.274909 \n\" clip-path=\"url(#p8816b72d44)\" style=\"fill: none; stroke-dasharray: 5.55,2.4; stroke-dashoffset: 0; stroke: #ff7f0e; stroke-width: 1.5\"/>\n   </g>\n   <g id=\"line2d_88\">\n    <path d=\"M 49.633125 51.339298 \nL 69.163125 43.229047 \nL 88.693125 43.481703 \nL 108.223125 41.889972 \nL 127.753125 40.424568 \nL 147.283125 40.626693 \n\" clip-path=\"url(#p8816b72d44)\" style=\"fill: none; stroke-dasharray: 9.6,2.4,1.5,2.4; stroke-dashoffset: 0; stroke: #2ca02c; stroke-width: 1.5\"/>\n   </g>\n   <g id=\"line2d_89\">\n    <path d=\"M 34.923295 13.5 \nL 44.646742 87.468004 \nL 54.370189 104.302935 \nL 64.093636 109.924627 \nL 73.817082 116.441273 \nL 83.540529 120.568198 \nL 93.263976 123.480683 \nL 102.987423 125.724187 \nL 112.71087 128.096957 \nL 122.434316 129.793475 \nL 132.157763 133.434852 \nL 141.88121 130.773724 \nL 151.604657 133.283685 \nL 161.328104 135.28215 \n\" clip-path=\"url(#p8816b72d44)\" style=\"fill: none; stroke: #1f77b4; stroke-width: 1.5; stroke-linecap: square\"/>\n   </g>\n   <g id=\"line2d_90\">\n    <path d=\"M 49.633125 87.331493 \nL 69.163125 110.817637 \nL 88.693125 115.466574 \nL 108.223125 119.420784 \nL 127.753125 123.445894 \nL 147.283125 125.911312 \nL 166.813125 121.274909 \n\" clip-path=\"url(#p8816b72d44)\" style=\"fill: none; stroke-dasharray: 5.55,2.4; stroke-dashoffset: 0; stroke: #ff7f0e; stroke-width: 1.5\"/>\n   </g>\n   <g id=\"line2d_91\">\n    <path d=\"M 49.633125 51.339298 \nL 69.163125 43.229047 \nL 88.693125 43.481703 \nL 108.223125 41.889972 \nL 127.753125 40.424568 \nL 147.283125 40.626693 \nL 166.813125 42.092096 \n\" clip-path=\"url(#p8816b72d44)\" style=\"fill: none; stroke-dasharray: 9.6,2.4,1.5,2.4; stroke-dashoffset: 0; stroke: #2ca02c; stroke-width: 1.5\"/>\n   </g>\n   <g id=\"line2d_92\">\n    <path d=\"M 34.923295 13.5 \nL 44.646742 87.468004 \nL 54.370189 104.302935 \nL 64.093636 109.924627 \nL 73.817082 116.441273 \nL 83.540529 120.568198 \nL 93.263976 123.480683 \nL 102.987423 125.724187 \nL 112.71087 128.096957 \nL 122.434316 129.793475 \nL 132.157763 133.434852 \nL 141.88121 130.773724 \nL 151.604657 133.283685 \nL 161.328104 135.28215 \nL 171.051551 135.359502 \n\" clip-path=\"url(#p8816b72d44)\" style=\"fill: none; stroke: #1f77b4; stroke-width: 1.5; stroke-linecap: square\"/>\n   </g>\n   <g id=\"line2d_93\">\n    <path d=\"M 49.633125 87.331493 \nL 69.163125 110.817637 \nL 88.693125 115.466574 \nL 108.223125 119.420784 \nL 127.753125 123.445894 \nL 147.283125 125.911312 \nL 166.813125 121.274909 \n\" clip-path=\"url(#p8816b72d44)\" style=\"fill: none; stroke-dasharray: 5.55,2.4; stroke-dashoffset: 0; stroke: #ff7f0e; stroke-width: 1.5\"/>\n   </g>\n   <g id=\"line2d_94\">\n    <path d=\"M 49.633125 51.339298 \nL 69.163125 43.229047 \nL 88.693125 43.481703 \nL 108.223125 41.889972 \nL 127.753125 40.424568 \nL 147.283125 40.626693 \nL 166.813125 42.092096 \n\" clip-path=\"url(#p8816b72d44)\" style=\"fill: none; stroke-dasharray: 9.6,2.4,1.5,2.4; stroke-dashoffset: 0; stroke: #2ca02c; stroke-width: 1.5\"/>\n   </g>\n   <g id=\"line2d_95\">\n    <path d=\"M 34.923295 13.5 \nL 44.646742 87.468004 \nL 54.370189 104.302935 \nL 64.093636 109.924627 \nL 73.817082 116.441273 \nL 83.540529 120.568198 \nL 93.263976 123.480683 \nL 102.987423 125.724187 \nL 112.71087 128.096957 \nL 122.434316 129.793475 \nL 132.157763 133.434852 \nL 141.88121 130.773724 \nL 151.604657 133.283685 \nL 161.328104 135.28215 \nL 171.051551 135.359502 \nL 180.774997 136.502337 \n\" clip-path=\"url(#p8816b72d44)\" style=\"fill: none; stroke: #1f77b4; stroke-width: 1.5; stroke-linecap: square\"/>\n   </g>\n   <g id=\"line2d_96\">\n    <path d=\"M 49.633125 87.331493 \nL 69.163125 110.817637 \nL 88.693125 115.466574 \nL 108.223125 119.420784 \nL 127.753125 123.445894 \nL 147.283125 125.911312 \nL 166.813125 121.274909 \n\" clip-path=\"url(#p8816b72d44)\" style=\"fill: none; stroke-dasharray: 5.55,2.4; stroke-dashoffset: 0; stroke: #ff7f0e; stroke-width: 1.5\"/>\n   </g>\n   <g id=\"line2d_97\">\n    <path d=\"M 49.633125 51.339298 \nL 69.163125 43.229047 \nL 88.693125 43.481703 \nL 108.223125 41.889972 \nL 127.753125 40.424568 \nL 147.283125 40.626693 \nL 166.813125 42.092096 \n\" clip-path=\"url(#p8816b72d44)\" style=\"fill: none; stroke-dasharray: 9.6,2.4,1.5,2.4; stroke-dashoffset: 0; stroke: #2ca02c; stroke-width: 1.5\"/>\n   </g>\n   <g id=\"line2d_98\">\n    <path d=\"M 34.923295 13.5 \nL 44.646742 87.468004 \nL 54.370189 104.302935 \nL 64.093636 109.924627 \nL 73.817082 116.441273 \nL 83.540529 120.568198 \nL 93.263976 123.480683 \nL 102.987423 125.724187 \nL 112.71087 128.096957 \nL 122.434316 129.793475 \nL 132.157763 133.434852 \nL 141.88121 130.773724 \nL 151.604657 133.283685 \nL 161.328104 135.28215 \nL 171.051551 135.359502 \nL 180.774997 136.502337 \n\" clip-path=\"url(#p8816b72d44)\" style=\"fill: none; stroke: #1f77b4; stroke-width: 1.5; stroke-linecap: square\"/>\n   </g>\n   <g id=\"line2d_99\">\n    <path d=\"M 49.633125 87.331493 \nL 69.163125 110.817637 \nL 88.693125 115.466574 \nL 108.223125 119.420784 \nL 127.753125 123.445894 \nL 147.283125 125.911312 \nL 166.813125 121.274909 \nL 186.343125 126.323436 \n\" clip-path=\"url(#p8816b72d44)\" style=\"fill: none; stroke-dasharray: 5.55,2.4; stroke-dashoffset: 0; stroke: #ff7f0e; stroke-width: 1.5\"/>\n   </g>\n   <g id=\"line2d_100\">\n    <path d=\"M 49.633125 51.339298 \nL 69.163125 43.229047 \nL 88.693125 43.481703 \nL 108.223125 41.889972 \nL 127.753125 40.424568 \nL 147.283125 40.626693 \nL 166.813125 42.092096 \n\" clip-path=\"url(#p8816b72d44)\" style=\"fill: none; stroke-dasharray: 9.6,2.4,1.5,2.4; stroke-dashoffset: 0; stroke: #2ca02c; stroke-width: 1.5\"/>\n   </g>\n   <g id=\"line2d_101\">\n    <path d=\"M 34.923295 13.5 \nL 44.646742 87.468004 \nL 54.370189 104.302935 \nL 64.093636 109.924627 \nL 73.817082 116.441273 \nL 83.540529 120.568198 \nL 93.263976 123.480683 \nL 102.987423 125.724187 \nL 112.71087 128.096957 \nL 122.434316 129.793475 \nL 132.157763 133.434852 \nL 141.88121 130.773724 \nL 151.604657 133.283685 \nL 161.328104 135.28215 \nL 171.051551 135.359502 \nL 180.774997 136.502337 \n\" clip-path=\"url(#p8816b72d44)\" style=\"fill: none; stroke: #1f77b4; stroke-width: 1.5; stroke-linecap: square\"/>\n   </g>\n   <g id=\"line2d_102\">\n    <path d=\"M 49.633125 87.331493 \nL 69.163125 110.817637 \nL 88.693125 115.466574 \nL 108.223125 119.420784 \nL 127.753125 123.445894 \nL 147.283125 125.911312 \nL 166.813125 121.274909 \nL 186.343125 126.323436 \n\" clip-path=\"url(#p8816b72d44)\" style=\"fill: none; stroke-dasharray: 5.55,2.4; stroke-dashoffset: 0; stroke: #ff7f0e; stroke-width: 1.5\"/>\n   </g>\n   <g id=\"line2d_103\">\n    <path d=\"M 49.633125 51.339298 \nL 69.163125 43.229047 \nL 88.693125 43.481703 \nL 108.223125 41.889972 \nL 127.753125 40.424568 \nL 147.283125 40.626693 \nL 166.813125 42.092096 \nL 186.343125 41.334129 \n\" clip-path=\"url(#p8816b72d44)\" style=\"fill: none; stroke-dasharray: 9.6,2.4,1.5,2.4; stroke-dashoffset: 0; stroke: #2ca02c; stroke-width: 1.5\"/>\n   </g>\n   <g id=\"line2d_104\">\n    <path d=\"M 34.923295 13.5 \nL 44.646742 87.468004 \nL 54.370189 104.302935 \nL 64.093636 109.924627 \nL 73.817082 116.441273 \nL 83.540529 120.568198 \nL 93.263976 123.480683 \nL 102.987423 125.724187 \nL 112.71087 128.096957 \nL 122.434316 129.793475 \nL 132.157763 133.434852 \nL 141.88121 130.773724 \nL 151.604657 133.283685 \nL 161.328104 135.28215 \nL 171.051551 135.359502 \nL 180.774997 136.502337 \nL 190.498444 136.968895 \n\" clip-path=\"url(#p8816b72d44)\" style=\"fill: none; stroke: #1f77b4; stroke-width: 1.5; stroke-linecap: square\"/>\n   </g>\n   <g id=\"line2d_105\">\n    <path d=\"M 49.633125 87.331493 \nL 69.163125 110.817637 \nL 88.693125 115.466574 \nL 108.223125 119.420784 \nL 127.753125 123.445894 \nL 147.283125 125.911312 \nL 166.813125 121.274909 \nL 186.343125 126.323436 \n\" clip-path=\"url(#p8816b72d44)\" style=\"fill: none; stroke-dasharray: 5.55,2.4; stroke-dashoffset: 0; stroke: #ff7f0e; stroke-width: 1.5\"/>\n   </g>\n   <g id=\"line2d_106\">\n    <path d=\"M 49.633125 51.339298 \nL 69.163125 43.229047 \nL 88.693125 43.481703 \nL 108.223125 41.889972 \nL 127.753125 40.424568 \nL 147.283125 40.626693 \nL 166.813125 42.092096 \nL 186.343125 41.334129 \n\" clip-path=\"url(#p8816b72d44)\" style=\"fill: none; stroke-dasharray: 9.6,2.4,1.5,2.4; stroke-dashoffset: 0; stroke: #2ca02c; stroke-width: 1.5\"/>\n   </g>\n   <g id=\"line2d_107\">\n    <path d=\"M 34.923295 13.5 \nL 44.646742 87.468004 \nL 54.370189 104.302935 \nL 64.093636 109.924627 \nL 73.817082 116.441273 \nL 83.540529 120.568198 \nL 93.263976 123.480683 \nL 102.987423 125.724187 \nL 112.71087 128.096957 \nL 122.434316 129.793475 \nL 132.157763 133.434852 \nL 141.88121 130.773724 \nL 151.604657 133.283685 \nL 161.328104 135.28215 \nL 171.051551 135.359502 \nL 180.774997 136.502337 \nL 190.498444 136.968895 \nL 200.221891 137.537694 \n\" clip-path=\"url(#p8816b72d44)\" style=\"fill: none; stroke: #1f77b4; stroke-width: 1.5; stroke-linecap: square\"/>\n   </g>\n   <g id=\"line2d_108\">\n    <path d=\"M 49.633125 87.331493 \nL 69.163125 110.817637 \nL 88.693125 115.466574 \nL 108.223125 119.420784 \nL 127.753125 123.445894 \nL 147.283125 125.911312 \nL 166.813125 121.274909 \nL 186.343125 126.323436 \n\" clip-path=\"url(#p8816b72d44)\" style=\"fill: none; stroke-dasharray: 5.55,2.4; stroke-dashoffset: 0; stroke: #ff7f0e; stroke-width: 1.5\"/>\n   </g>\n   <g id=\"line2d_109\">\n    <path d=\"M 49.633125 51.339298 \nL 69.163125 43.229047 \nL 88.693125 43.481703 \nL 108.223125 41.889972 \nL 127.753125 40.424568 \nL 147.283125 40.626693 \nL 166.813125 42.092096 \nL 186.343125 41.334129 \n\" clip-path=\"url(#p8816b72d44)\" style=\"fill: none; stroke-dasharray: 9.6,2.4,1.5,2.4; stroke-dashoffset: 0; stroke: #2ca02c; stroke-width: 1.5\"/>\n   </g>\n   <g id=\"line2d_110\">\n    <path d=\"M 34.923295 13.5 \nL 44.646742 87.468004 \nL 54.370189 104.302935 \nL 64.093636 109.924627 \nL 73.817082 116.441273 \nL 83.540529 120.568198 \nL 93.263976 123.480683 \nL 102.987423 125.724187 \nL 112.71087 128.096957 \nL 122.434316 129.793475 \nL 132.157763 133.434852 \nL 141.88121 130.773724 \nL 151.604657 133.283685 \nL 161.328104 135.28215 \nL 171.051551 135.359502 \nL 180.774997 136.502337 \nL 190.498444 136.968895 \nL 200.221891 137.537694 \n\" clip-path=\"url(#p8816b72d44)\" style=\"fill: none; stroke: #1f77b4; stroke-width: 1.5; stroke-linecap: square\"/>\n   </g>\n   <g id=\"line2d_111\">\n    <path d=\"M 49.633125 87.331493 \nL 69.163125 110.817637 \nL 88.693125 115.466574 \nL 108.223125 119.420784 \nL 127.753125 123.445894 \nL 147.283125 125.911312 \nL 166.813125 121.274909 \nL 186.343125 126.323436 \nL 205.873125 122.64026 \n\" clip-path=\"url(#p8816b72d44)\" style=\"fill: none; stroke-dasharray: 5.55,2.4; stroke-dashoffset: 0; stroke: #ff7f0e; stroke-width: 1.5\"/>\n   </g>\n   <g id=\"line2d_112\">\n    <path d=\"M 49.633125 51.339298 \nL 69.163125 43.229047 \nL 88.693125 43.481703 \nL 108.223125 41.889972 \nL 127.753125 40.424568 \nL 147.283125 40.626693 \nL 166.813125 42.092096 \nL 186.343125 41.334129 \n\" clip-path=\"url(#p8816b72d44)\" style=\"fill: none; stroke-dasharray: 9.6,2.4,1.5,2.4; stroke-dashoffset: 0; stroke: #2ca02c; stroke-width: 1.5\"/>\n   </g>\n   <g id=\"line2d_113\">\n    <path d=\"M 34.923295 13.5 \nL 44.646742 87.468004 \nL 54.370189 104.302935 \nL 64.093636 109.924627 \nL 73.817082 116.441273 \nL 83.540529 120.568198 \nL 93.263976 123.480683 \nL 102.987423 125.724187 \nL 112.71087 128.096957 \nL 122.434316 129.793475 \nL 132.157763 133.434852 \nL 141.88121 130.773724 \nL 151.604657 133.283685 \nL 161.328104 135.28215 \nL 171.051551 135.359502 \nL 180.774997 136.502337 \nL 190.498444 136.968895 \nL 200.221891 137.537694 \n\" clip-path=\"url(#p8816b72d44)\" style=\"fill: none; stroke: #1f77b4; stroke-width: 1.5; stroke-linecap: square\"/>\n   </g>\n   <g id=\"line2d_114\">\n    <path d=\"M 49.633125 87.331493 \nL 69.163125 110.817637 \nL 88.693125 115.466574 \nL 108.223125 119.420784 \nL 127.753125 123.445894 \nL 147.283125 125.911312 \nL 166.813125 121.274909 \nL 186.343125 126.323436 \nL 205.873125 122.64026 \n\" clip-path=\"url(#p8816b72d44)\" style=\"fill: none; stroke-dasharray: 5.55,2.4; stroke-dashoffset: 0; stroke: #ff7f0e; stroke-width: 1.5\"/>\n   </g>\n   <g id=\"line2d_115\">\n    <path d=\"M 49.633125 51.339298 \nL 69.163125 43.229047 \nL 88.693125 43.481703 \nL 108.223125 41.889972 \nL 127.753125 40.424568 \nL 147.283125 40.626693 \nL 166.813125 42.092096 \nL 186.343125 41.334129 \nL 205.873125 41.283598 \n\" clip-path=\"url(#p8816b72d44)\" style=\"fill: none; stroke-dasharray: 9.6,2.4,1.5,2.4; stroke-dashoffset: 0; stroke: #2ca02c; stroke-width: 1.5\"/>\n   </g>\n   <g id=\"line2d_116\">\n    <path d=\"M 34.923295 13.5 \nL 44.646742 87.468004 \nL 54.370189 104.302935 \nL 64.093636 109.924627 \nL 73.817082 116.441273 \nL 83.540529 120.568198 \nL 93.263976 123.480683 \nL 102.987423 125.724187 \nL 112.71087 128.096957 \nL 122.434316 129.793475 \nL 132.157763 133.434852 \nL 141.88121 130.773724 \nL 151.604657 133.283685 \nL 161.328104 135.28215 \nL 171.051551 135.359502 \nL 180.774997 136.502337 \nL 190.498444 136.968895 \nL 200.221891 137.537694 \nL 209.945338 137.387484 \n\" clip-path=\"url(#p8816b72d44)\" style=\"fill: none; stroke: #1f77b4; stroke-width: 1.5; stroke-linecap: square\"/>\n   </g>\n   <g id=\"line2d_117\">\n    <path d=\"M 49.633125 87.331493 \nL 69.163125 110.817637 \nL 88.693125 115.466574 \nL 108.223125 119.420784 \nL 127.753125 123.445894 \nL 147.283125 125.911312 \nL 166.813125 121.274909 \nL 186.343125 126.323436 \nL 205.873125 122.64026 \n\" clip-path=\"url(#p8816b72d44)\" style=\"fill: none; stroke-dasharray: 5.55,2.4; stroke-dashoffset: 0; stroke: #ff7f0e; stroke-width: 1.5\"/>\n   </g>\n   <g id=\"line2d_118\">\n    <path d=\"M 49.633125 51.339298 \nL 69.163125 43.229047 \nL 88.693125 43.481703 \nL 108.223125 41.889972 \nL 127.753125 40.424568 \nL 147.283125 40.626693 \nL 166.813125 42.092096 \nL 186.343125 41.334129 \nL 205.873125 41.283598 \n\" clip-path=\"url(#p8816b72d44)\" style=\"fill: none; stroke-dasharray: 9.6,2.4,1.5,2.4; stroke-dashoffset: 0; stroke: #2ca02c; stroke-width: 1.5\"/>\n   </g>\n   <g id=\"line2d_119\">\n    <path d=\"M 34.923295 13.5 \nL 44.646742 87.468004 \nL 54.370189 104.302935 \nL 64.093636 109.924627 \nL 73.817082 116.441273 \nL 83.540529 120.568198 \nL 93.263976 123.480683 \nL 102.987423 125.724187 \nL 112.71087 128.096957 \nL 122.434316 129.793475 \nL 132.157763 133.434852 \nL 141.88121 130.773724 \nL 151.604657 133.283685 \nL 161.328104 135.28215 \nL 171.051551 135.359502 \nL 180.774997 136.502337 \nL 190.498444 136.968895 \nL 200.221891 137.537694 \nL 209.945338 137.387484 \nL 219.668785 139.5 \n\" clip-path=\"url(#p8816b72d44)\" style=\"fill: none; stroke: #1f77b4; stroke-width: 1.5; stroke-linecap: square\"/>\n   </g>\n   <g id=\"line2d_120\">\n    <path d=\"M 49.633125 87.331493 \nL 69.163125 110.817637 \nL 88.693125 115.466574 \nL 108.223125 119.420784 \nL 127.753125 123.445894 \nL 147.283125 125.911312 \nL 166.813125 121.274909 \nL 186.343125 126.323436 \nL 205.873125 122.64026 \n\" clip-path=\"url(#p8816b72d44)\" style=\"fill: none; stroke-dasharray: 5.55,2.4; stroke-dashoffset: 0; stroke: #ff7f0e; stroke-width: 1.5\"/>\n   </g>\n   <g id=\"line2d_121\">\n    <path d=\"M 49.633125 51.339298 \nL 69.163125 43.229047 \nL 88.693125 43.481703 \nL 108.223125 41.889972 \nL 127.753125 40.424568 \nL 147.283125 40.626693 \nL 166.813125 42.092096 \nL 186.343125 41.334129 \nL 205.873125 41.283598 \n\" clip-path=\"url(#p8816b72d44)\" style=\"fill: none; stroke-dasharray: 9.6,2.4,1.5,2.4; stroke-dashoffset: 0; stroke: #2ca02c; stroke-width: 1.5\"/>\n   </g>\n   <g id=\"line2d_122\">\n    <path d=\"M 34.923295 13.5 \nL 44.646742 87.468004 \nL 54.370189 104.302935 \nL 64.093636 109.924627 \nL 73.817082 116.441273 \nL 83.540529 120.568198 \nL 93.263976 123.480683 \nL 102.987423 125.724187 \nL 112.71087 128.096957 \nL 122.434316 129.793475 \nL 132.157763 133.434852 \nL 141.88121 130.773724 \nL 151.604657 133.283685 \nL 161.328104 135.28215 \nL 171.051551 135.359502 \nL 180.774997 136.502337 \nL 190.498444 136.968895 \nL 200.221891 137.537694 \nL 209.945338 137.387484 \nL 219.668785 139.5 \n\" clip-path=\"url(#p8816b72d44)\" style=\"fill: none; stroke: #1f77b4; stroke-width: 1.5; stroke-linecap: square\"/>\n   </g>\n   <g id=\"line2d_123\">\n    <path d=\"M 49.633125 87.331493 \nL 69.163125 110.817637 \nL 88.693125 115.466574 \nL 108.223125 119.420784 \nL 127.753125 123.445894 \nL 147.283125 125.911312 \nL 166.813125 121.274909 \nL 186.343125 126.323436 \nL 205.873125 122.64026 \nL 225.403125 132.553209 \n\" clip-path=\"url(#p8816b72d44)\" style=\"fill: none; stroke-dasharray: 5.55,2.4; stroke-dashoffset: 0; stroke: #ff7f0e; stroke-width: 1.5\"/>\n   </g>\n   <g id=\"line2d_124\">\n    <path d=\"M 49.633125 51.339298 \nL 69.163125 43.229047 \nL 88.693125 43.481703 \nL 108.223125 41.889972 \nL 127.753125 40.424568 \nL 147.283125 40.626693 \nL 166.813125 42.092096 \nL 186.343125 41.334129 \nL 205.873125 41.283598 \n\" clip-path=\"url(#p8816b72d44)\" style=\"fill: none; stroke-dasharray: 9.6,2.4,1.5,2.4; stroke-dashoffset: 0; stroke: #2ca02c; stroke-width: 1.5\"/>\n   </g>\n   <g id=\"line2d_125\">\n    <path d=\"M 34.923295 13.5 \nL 44.646742 87.468004 \nL 54.370189 104.302935 \nL 64.093636 109.924627 \nL 73.817082 116.441273 \nL 83.540529 120.568198 \nL 93.263976 123.480683 \nL 102.987423 125.724187 \nL 112.71087 128.096957 \nL 122.434316 129.793475 \nL 132.157763 133.434852 \nL 141.88121 130.773724 \nL 151.604657 133.283685 \nL 161.328104 135.28215 \nL 171.051551 135.359502 \nL 180.774997 136.502337 \nL 190.498444 136.968895 \nL 200.221891 137.537694 \nL 209.945338 137.387484 \nL 219.668785 139.5 \n\" clip-path=\"url(#p8816b72d44)\" style=\"fill: none; stroke: #1f77b4; stroke-width: 1.5; stroke-linecap: square\"/>\n   </g>\n   <g id=\"line2d_126\">\n    <path d=\"M 49.633125 87.331493 \nL 69.163125 110.817637 \nL 88.693125 115.466574 \nL 108.223125 119.420784 \nL 127.753125 123.445894 \nL 147.283125 125.911312 \nL 166.813125 121.274909 \nL 186.343125 126.323436 \nL 205.873125 122.64026 \nL 225.403125 132.553209 \n\" clip-path=\"url(#p8816b72d44)\" style=\"fill: none; stroke-dasharray: 5.55,2.4; stroke-dashoffset: 0; stroke: #ff7f0e; stroke-width: 1.5\"/>\n   </g>\n   <g id=\"line2d_127\">\n    <path d=\"M 49.633125 51.339298 \nL 69.163125 43.229047 \nL 88.693125 43.481703 \nL 108.223125 41.889972 \nL 127.753125 40.424568 \nL 147.283125 40.626693 \nL 166.813125 42.092096 \nL 186.343125 41.334129 \nL 205.873125 41.283598 \nL 225.403125 38.125401 \n\" clip-path=\"url(#p8816b72d44)\" style=\"fill: none; stroke-dasharray: 9.6,2.4,1.5,2.4; stroke-dashoffset: 0; stroke: #2ca02c; stroke-width: 1.5\"/>\n   </g>\n   <g id=\"patch_3\">\n    <path d=\"M 30.103125 145.8 \nL 30.103125 7.2 \n\" style=\"fill: none; stroke: #000000; stroke-width: 0.8; stroke-linejoin: miter; stroke-linecap: square\"/>\n   </g>\n   <g id=\"patch_4\">\n    <path d=\"M 225.403125 145.8 \nL 225.403125 7.2 \n\" style=\"fill: none; stroke: #000000; stroke-width: 0.8; stroke-linejoin: miter; stroke-linecap: square\"/>\n   </g>\n   <g id=\"patch_5\">\n    <path d=\"M 30.103125 145.8 \nL 225.403125 145.8 \n\" style=\"fill: none; stroke: #000000; stroke-width: 0.8; stroke-linejoin: miter; stroke-linecap: square\"/>\n   </g>\n   <g id=\"patch_6\">\n    <path d=\"M 30.103125 7.2 \nL 225.403125 7.2 \n\" style=\"fill: none; stroke: #000000; stroke-width: 0.8; stroke-linejoin: miter; stroke-linecap: square\"/>\n   </g>\n   <g id=\"legend_1\">\n    <g id=\"patch_7\">\n     <path d=\"M 138.8125 100.434375 \nL 218.403125 100.434375 \nQ 220.403125 100.434375 220.403125 98.434375 \nL 220.403125 54.565625 \nQ 220.403125 52.565625 218.403125 52.565625 \nL 138.8125 52.565625 \nQ 136.8125 52.565625 136.8125 54.565625 \nL 136.8125 98.434375 \nQ 136.8125 100.434375 138.8125 100.434375 \nz\n\" style=\"fill: #ffffff; opacity: 0.8; stroke: #cccccc; stroke-linejoin: miter\"/>\n    </g>\n    <g id=\"line2d_128\">\n     <path d=\"M 140.8125 60.664063 \nL 150.8125 60.664063 \nL 160.8125 60.664063 \n\" style=\"fill: none; stroke: #1f77b4; stroke-width: 1.5; stroke-linecap: square\"/>\n    </g>\n    <g id=\"text_13\">\n     <!-- train_loss -->\n     <g transform=\"translate(168.8125 64.164063) scale(0.1 -0.1)\">\n      <defs>\n       <path id=\"DejaVuSans-74\" d=\"M 1172 4494 \nL 1172 3500 \nL 2356 3500 \nL 2356 3053 \nL 1172 3053 \nL 1172 1153 \nQ 1172 725 1289 603 \nQ 1406 481 1766 481 \nL 2356 481 \nL 2356 0 \nL 1766 0 \nQ 1100 0 847 248 \nQ 594 497 594 1153 \nL 594 3053 \nL 172 3053 \nL 172 3500 \nL 594 3500 \nL 594 4494 \nL 1172 4494 \nz\n\" transform=\"scale(0.015625)\"/>\n       <path id=\"DejaVuSans-72\" d=\"M 2631 2963 \nQ 2534 3019 2420 3045 \nQ 2306 3072 2169 3072 \nQ 1681 3072 1420 2755 \nQ 1159 2438 1159 1844 \nL 1159 0 \nL 581 0 \nL 581 3500 \nL 1159 3500 \nL 1159 2956 \nQ 1341 3275 1631 3429 \nQ 1922 3584 2338 3584 \nQ 2397 3584 2469 3576 \nQ 2541 3569 2628 3553 \nL 2631 2963 \nz\n\" transform=\"scale(0.015625)\"/>\n       <path id=\"DejaVuSans-61\" d=\"M 2194 1759 \nQ 1497 1759 1228 1600 \nQ 959 1441 959 1056 \nQ 959 750 1161 570 \nQ 1363 391 1709 391 \nQ 2188 391 2477 730 \nQ 2766 1069 2766 1631 \nL 2766 1759 \nL 2194 1759 \nz\nM 3341 1997 \nL 3341 0 \nL 2766 0 \nL 2766 531 \nQ 2569 213 2275 61 \nQ 1981 -91 1556 -91 \nQ 1019 -91 701 211 \nQ 384 513 384 1019 \nQ 384 1609 779 1909 \nQ 1175 2209 1959 2209 \nL 2766 2209 \nL 2766 2266 \nQ 2766 2663 2505 2880 \nQ 2244 3097 1772 3097 \nQ 1472 3097 1187 3025 \nQ 903 2953 641 2809 \nL 641 3341 \nQ 956 3463 1253 3523 \nQ 1550 3584 1831 3584 \nQ 2591 3584 2966 3190 \nQ 3341 2797 3341 1997 \nz\n\" transform=\"scale(0.015625)\"/>\n       <path id=\"DejaVuSans-69\" d=\"M 603 3500 \nL 1178 3500 \nL 1178 0 \nL 603 0 \nL 603 3500 \nz\nM 603 4863 \nL 1178 4863 \nL 1178 4134 \nL 603 4134 \nL 603 4863 \nz\n\" transform=\"scale(0.015625)\"/>\n       <path id=\"DejaVuSans-6e\" d=\"M 3513 2113 \nL 3513 0 \nL 2938 0 \nL 2938 2094 \nQ 2938 2591 2744 2837 \nQ 2550 3084 2163 3084 \nQ 1697 3084 1428 2787 \nQ 1159 2491 1159 1978 \nL 1159 0 \nL 581 0 \nL 581 3500 \nL 1159 3500 \nL 1159 2956 \nQ 1366 3272 1645 3428 \nQ 1925 3584 2291 3584 \nQ 2894 3584 3203 3211 \nQ 3513 2838 3513 2113 \nz\n\" transform=\"scale(0.015625)\"/>\n       <path id=\"DejaVuSans-5f\" d=\"M 3263 -1063 \nL 3263 -1509 \nL -63 -1509 \nL -63 -1063 \nL 3263 -1063 \nz\n\" transform=\"scale(0.015625)\"/>\n       <path id=\"DejaVuSans-6c\" d=\"M 603 4863 \nL 1178 4863 \nL 1178 0 \nL 603 0 \nL 603 4863 \nz\n\" transform=\"scale(0.015625)\"/>\n       <path id=\"DejaVuSans-73\" d=\"M 2834 3397 \nL 2834 2853 \nQ 2591 2978 2328 3040 \nQ 2066 3103 1784 3103 \nQ 1356 3103 1142 2972 \nQ 928 2841 928 2578 \nQ 928 2378 1081 2264 \nQ 1234 2150 1697 2047 \nL 1894 2003 \nQ 2506 1872 2764 1633 \nQ 3022 1394 3022 966 \nQ 3022 478 2636 193 \nQ 2250 -91 1575 -91 \nQ 1294 -91 989 -36 \nQ 684 19 347 128 \nL 347 722 \nQ 666 556 975 473 \nQ 1284 391 1588 391 \nQ 1994 391 2212 530 \nQ 2431 669 2431 922 \nQ 2431 1156 2273 1281 \nQ 2116 1406 1581 1522 \nL 1381 1569 \nQ 847 1681 609 1914 \nQ 372 2147 372 2553 \nQ 372 3047 722 3315 \nQ 1072 3584 1716 3584 \nQ 2034 3584 2315 3537 \nQ 2597 3491 2834 3397 \nz\n\" transform=\"scale(0.015625)\"/>\n      </defs>\n      <use xlink:href=\"#DejaVuSans-74\"/>\n      <use xlink:href=\"#DejaVuSans-72\" x=\"39.208984\"/>\n      <use xlink:href=\"#DejaVuSans-61\" x=\"80.322266\"/>\n      <use xlink:href=\"#DejaVuSans-69\" x=\"141.601562\"/>\n      <use xlink:href=\"#DejaVuSans-6e\" x=\"169.384766\"/>\n      <use xlink:href=\"#DejaVuSans-5f\" x=\"232.763672\"/>\n      <use xlink:href=\"#DejaVuSans-6c\" x=\"282.763672\"/>\n      <use xlink:href=\"#DejaVuSans-6f\" x=\"310.546875\"/>\n      <use xlink:href=\"#DejaVuSans-73\" x=\"371.728516\"/>\n      <use xlink:href=\"#DejaVuSans-73\" x=\"423.828125\"/>\n     </g>\n    </g>\n    <g id=\"line2d_129\">\n     <path d=\"M 140.8125 75.620313 \nL 150.8125 75.620313 \nL 160.8125 75.620313 \n\" style=\"fill: none; stroke-dasharray: 5.55,2.4; stroke-dashoffset: 0; stroke: #ff7f0e; stroke-width: 1.5\"/>\n    </g>\n    <g id=\"text_14\">\n     <!-- val_loss -->\n     <g transform=\"translate(168.8125 79.120313) scale(0.1 -0.1)\">\n      <defs>\n       <path id=\"DejaVuSans-76\" d=\"M 191 3500 \nL 800 3500 \nL 1894 563 \nL 2988 3500 \nL 3597 3500 \nL 2284 0 \nL 1503 0 \nL 191 3500 \nz\n\" transform=\"scale(0.015625)\"/>\n      </defs>\n      <use xlink:href=\"#DejaVuSans-76\"/>\n      <use xlink:href=\"#DejaVuSans-61\" x=\"59.179688\"/>\n      <use xlink:href=\"#DejaVuSans-6c\" x=\"120.458984\"/>\n      <use xlink:href=\"#DejaVuSans-5f\" x=\"148.242188\"/>\n      <use xlink:href=\"#DejaVuSans-6c\" x=\"198.242188\"/>\n      <use xlink:href=\"#DejaVuSans-6f\" x=\"226.025391\"/>\n      <use xlink:href=\"#DejaVuSans-73\" x=\"287.207031\"/>\n      <use xlink:href=\"#DejaVuSans-73\" x=\"339.306641\"/>\n     </g>\n    </g>\n    <g id=\"line2d_130\">\n     <path d=\"M 140.8125 90.576563 \nL 150.8125 90.576563 \nL 160.8125 90.576563 \n\" style=\"fill: none; stroke-dasharray: 9.6,2.4,1.5,2.4; stroke-dashoffset: 0; stroke: #2ca02c; stroke-width: 1.5\"/>\n    </g>\n    <g id=\"text_15\">\n     <!-- val_acc -->\n     <g transform=\"translate(168.8125 94.076563) scale(0.1 -0.1)\">\n      <use xlink:href=\"#DejaVuSans-76\"/>\n      <use xlink:href=\"#DejaVuSans-61\" x=\"59.179688\"/>\n      <use xlink:href=\"#DejaVuSans-6c\" x=\"120.458984\"/>\n      <use xlink:href=\"#DejaVuSans-5f\" x=\"148.242188\"/>\n      <use xlink:href=\"#DejaVuSans-61\" x=\"198.242188\"/>\n      <use xlink:href=\"#DejaVuSans-63\" x=\"259.521484\"/>\n      <use xlink:href=\"#DejaVuSans-63\" x=\"314.501953\"/>\n     </g>\n    </g>\n   </g>\n  </g>\n </g>\n <defs>\n  <clipPath id=\"p8816b72d44\">\n   <rect x=\"30.103125\" y=\"7.2\" width=\"195.3\" height=\"138.6\"/>\n  </clipPath>\n </defs>\n</svg>\n"
          },
          "metadata": {}
        }
      ],
      "source": [
        "data = d2l.FashionMNIST(batch_size=256)\n",
        "model = SoftmaxRegressionScratch(num_inputs=784, num_outputs=10, lr=0.1)\n",
        "trainer = d2l.Trainer(max_epochs=10)\n",
        "trainer.fit(model, data)"
      ]
    },
    {
      "cell_type": "markdown",
      "id": "c01a1d3e",
      "metadata": {
        "origin_pos": 32,
        "id": "c01a1d3e"
      },
      "source": [
        "## Prediction\n",
        "\n",
        "Now that training is complete,\n",
        "our model is ready to [**classify some images.**]\n"
      ]
    },
    {
      "cell_type": "code",
      "execution_count": 21,
      "id": "ea0b6dd0",
      "metadata": {
        "execution": {
          "iopub.execute_input": "2023-08-18T19:41:38.030970Z",
          "iopub.status.busy": "2023-08-18T19:41:38.030251Z",
          "iopub.status.idle": "2023-08-18T19:41:38.207822Z",
          "shell.execute_reply": "2023-08-18T19:41:38.206713Z"
        },
        "origin_pos": 33,
        "tab": [
          "pytorch"
        ],
        "colab": {
          "base_uri": "https://localhost:8080/"
        },
        "id": "ea0b6dd0",
        "outputId": "6e1e3135-cc73-412a-c9c0-3d4b2e73783c"
      },
      "outputs": [
        {
          "output_type": "stream",
          "name": "stderr",
          "text": [
            "/usr/local/lib/python3.11/dist-packages/torch/utils/data/dataloader.py:624: UserWarning: This DataLoader will create 4 worker processes in total. Our suggested max number of worker in current system is 2, which is smaller than what this DataLoader is going to create. Please be aware that excessive worker creation might get DataLoader running slow or even freeze, lower the worker number to avoid potential slowness/freeze if necessary.\n",
            "  warnings.warn(\n"
          ]
        },
        {
          "output_type": "execute_result",
          "data": {
            "text/plain": [
              "torch.Size([256])"
            ]
          },
          "metadata": {},
          "execution_count": 21
        }
      ],
      "source": [
        "# assigns features and correct class to X and y respectively\n",
        "X, y = next(iter(data.val_dataloader()))\n",
        "\n",
        "# stores the index of the predicted class in a [256, 1] array\n",
        "preds = model(X).argmax(axis=1)\n",
        "preds.shape"
      ]
    },
    {
      "cell_type": "markdown",
      "id": "7a160103",
      "metadata": {
        "origin_pos": 34,
        "id": "7a160103"
      },
      "source": [
        "We are more interested in the images we label *incorrectly*. We visualize them by\n",
        "comparing their actual labels\n",
        "(first line of text output)\n",
        "with the predictions from the model\n",
        "(second line of text output).\n"
      ]
    },
    {
      "cell_type": "code",
      "execution_count": 24,
      "id": "41ef8291",
      "metadata": {
        "execution": {
          "iopub.execute_input": "2023-08-18T19:41:38.211804Z",
          "iopub.status.busy": "2023-08-18T19:41:38.211212Z",
          "iopub.status.idle": "2023-08-18T19:41:38.569431Z",
          "shell.execute_reply": "2023-08-18T19:41:38.568219Z"
        },
        "origin_pos": 35,
        "tab": [
          "pytorch"
        ],
        "colab": {
          "base_uri": "https://localhost:8080/",
          "height": 173
        },
        "id": "41ef8291",
        "outputId": "e1a46ca1-bfab-4f6a-e5a3-b6f68e85615f"
      },
      "outputs": [
        {
          "output_type": "display_data",
          "data": {
            "text/plain": [
              "<Figure size 1200x150 with 8 Axes>"
            ],
            "image/svg+xml": "<?xml version=\"1.0\" encoding=\"utf-8\" standalone=\"no\"?>\n<!DOCTYPE svg PUBLIC \"-//W3C//DTD SVG 1.1//EN\"\n  \"http://www.w3.org/Graphics/SVG/1.1/DTD/svg11.dtd\">\n<svg xmlns:xlink=\"http://www.w3.org/1999/xlink\" width=\"684pt\" height=\"114.189543pt\" viewBox=\"0 0 684 114.189543\" xmlns=\"http://www.w3.org/2000/svg\" version=\"1.1\">\n <metadata>\n  <rdf:RDF xmlns:dc=\"http://purl.org/dc/elements/1.1/\" xmlns:cc=\"http://creativecommons.org/ns#\" xmlns:rdf=\"http://www.w3.org/1999/02/22-rdf-syntax-ns#\">\n   <cc:Work>\n    <dc:type rdf:resource=\"http://purl.org/dc/dcmitype/StillImage\"/>\n    <dc:date>2025-07-21T03:25:08.021774</dc:date>\n    <dc:format>image/svg+xml</dc:format>\n    <dc:creator>\n     <cc:Agent>\n      <dc:title>Matplotlib v3.7.2, https://matplotlib.org/</dc:title>\n     </cc:Agent>\n    </dc:creator>\n   </cc:Work>\n  </rdf:RDF>\n </metadata>\n <defs>\n  <style type=\"text/css\">*{stroke-linejoin: round; stroke-linecap: butt}</style>\n </defs>\n <g id=\"figure_1\">\n  <g id=\"patch_1\">\n   <path d=\"M 0 114.189543 \nL 684 114.189543 \nL 684 -0 \nL 0 -0 \nz\n\" style=\"fill: #ffffff\"/>\n  </g>\n  <g id=\"axes_1\">\n   <g id=\"patch_2\">\n    <path d=\"M 7.2 106.989543 \nL 78.434043 106.989543 \nL 78.434043 35.7555 \nL 7.2 35.7555 \nz\n\" style=\"fill: #ffffff\"/>\n   </g>\n   <g clip-path=\"url(#pe43f932cca)\">\n    <image xlink:href=\"data:image/png;base64,\niVBORw0KGgoAAAANSUhEUgAAAGMAAABjCAYAAACPO76VAAAFUUlEQVR4nO2cTW8bVRSGZzzjr9jGdtKGNCGhokQiTVlUgCLYgliCQIh/wF9gV6Fu+AFsoIsukLpCQqKiCBCLLlAF5UOiVLSkITSF0oakTXDs2I49H+zuue8NE0ol0rN4n9U5Pndmbv3mnnvmzNT+C/5rqUdUkHvQEyACxVAExVAExVAExVAExVAExVAExVAExVAExVAExVAExVAExVAExVAExVAExVAExVAExVAExVAExVAExVAExVAExVAExVAExVAExVAExVBEGE48DB9cPXHY2PlN1GowFouTT/BMQxnrl2MI1RpdYyepD7F8IGPjBK8XxeLncvhKcLW0Y+zUOWdvkAe/XBhmxjqdkszbuUbOFz+OcW5pqyDj+nj9gvW9Na/h91T94GsvC64MRVAMRVAMRfjHzp6ARPnV0+8b+621BRi8MagYu5bvQ+xQoWXsX3sHILb4l+xL4yNtiIW+s/dYRKn8rfRjzPU7UfiP4zzP87pDHAvHDUPwO9uyZwShk9/Lsi8drHQg1ij0jO1+Fz1rruVgCLHj1d+M/e6plyHGlaEIiqEI/9nP34Q0NT9629gXPjwOg7tzsmzDYgQxu2SNu5gK9pLcLidzBSyJ83nxkwTLx2gYyFzycWbM8zwvsecT43lsgq5TvlpuUsFrFOryXTRrXYi1tsvGLhcHEHv18CVjz5VuQYwrQxEUQxEUQxHhHytYhp6cPWvsL+aOQqxckxJuZ6UGseId0TXFlO31D0m+TZ02Smqn8z7uNbD3OHuGnfv99RKEigOn5YLVNBBJte6V17AdYv874gKWy2kofrtUxanV5Dyb41janguPGfv6KH73XBmKoBiKCB/9GJfm8y9JSglXCxCLboqfNDHddI9ICRe0MN2ELdE8KWIKiSvZd+DBthwX9PC4xMoag7rTbcVq0ktzcmxSwLFDK6UkIf5t5jDD4PWLYkdlJ72F4hdWMb35UxK7/N6TeL3sy5H9hmIogmIoIhzUsA493ZowdjS5A7HZqTVjzzVWIXZta9zY1Twed6tTF3txHGL1n2R/cRu4fiL5tT+Ge0ZodSCKK3jcThPH2m2NwHkqZ/v2/uF5nhdXZULu0zx7DyvdwdhDN+Q8I7exoxu+Le2mpLsMMa4MRVAMRVAMRYTFTWyFX+4+Yuyc8+RrtS0tkOsXpyEWWC0It87vPiYfPPPUEsRqC7K/nP92HmLFCdkY0qvYcihuWrm+6uwnPXC93kHJ4cNRpxXelJyeW6pA7MAFOe/olzchFv2O/r2SfVfFlaEKiqGIsHxxKTMYd/BWfuScdEenvl/HwX+KH7e2IOQHUj63n3gcYt+90TB2cXIbj7skaXHuRZzn4mezxnbbIY35u+C3bzSNXV3GVs30J5Km4is/ellEmRHP80PnyWZgt3sxLaZR9pm4MhRBMRRBMRThuz8yvPXpEWPnT43B4PJH3/yvkwnOT4K/+MOMsXPO0zu7VeG+oF1ax7FTZ36W4+5uZF7fzf2pk+/vmfT+freZK0MRFEMRoftB43XpzCbtZTdsyNXwhYS018sYiexV2m2cngE/XbCewjljK5PylsH0O3jLHy/+gv4e89lVlsIE9vdn4rkyFEExFEExFLErYSbtPd74uo9x/4X6Gfz/bu2Z54zdP4p70uQrV4z9rwWob5W6zj6w1x6233BlKIJiKGLXHTh5cHBlKIJiKIJiKIJiKIJiKIJiKIJiKIJiKIJiKIJiKIJiKIJiKIJiKIJiKIJiKIJiKIJiKIJiKIJiKIJiKIJiKIJiKIJiKIJiKIJiKIJiKIJiKIJiKIJiKIJiKIJiKOJv/fRtiyaMmuMAAAAASUVORK5CYII=\" id=\"image3a21f5652e\" transform=\"scale(1 -1) translate(0 -71.28)\" x=\"7.2\" y=\"-35.709543\" width=\"71.28\" height=\"71.28\"/>\n   </g>\n   <g id=\"patch_3\">\n    <path d=\"M 7.2 106.989543 \nL 7.2 35.7555 \n\" style=\"fill: none; stroke: #000000; stroke-width: 0.8; stroke-linejoin: miter; stroke-linecap: square\"/>\n   </g>\n   <g id=\"patch_4\">\n    <path d=\"M 78.434043 106.989543 \nL 78.434043 35.7555 \n\" style=\"fill: none; stroke: #000000; stroke-width: 0.8; stroke-linejoin: miter; stroke-linecap: square\"/>\n   </g>\n   <g id=\"patch_5\">\n    <path d=\"M 7.2 106.989543 \nL 78.434043 106.989543 \n\" style=\"fill: none; stroke: #000000; stroke-width: 0.8; stroke-linejoin: miter; stroke-linecap: square\"/>\n   </g>\n   <g id=\"patch_6\">\n    <path d=\"M 7.2 35.7555 \nL 78.434043 35.7555 \n\" style=\"fill: none; stroke: #000000; stroke-width: 0.8; stroke-linejoin: miter; stroke-linecap: square\"/>\n   </g>\n   <g id=\"text_1\">\n    <!-- sneaker -->\n    <g transform=\"translate(19.104834 16.318125) scale(0.12 -0.12)\">\n     <defs>\n      <path id=\"DejaVuSans-73\" d=\"M 2834 3397 \nL 2834 2853 \nQ 2591 2978 2328 3040 \nQ 2066 3103 1784 3103 \nQ 1356 3103 1142 2972 \nQ 928 2841 928 2578 \nQ 928 2378 1081 2264 \nQ 1234 2150 1697 2047 \nL 1894 2003 \nQ 2506 1872 2764 1633 \nQ 3022 1394 3022 966 \nQ 3022 478 2636 193 \nQ 2250 -91 1575 -91 \nQ 1294 -91 989 -36 \nQ 684 19 347 128 \nL 347 722 \nQ 666 556 975 473 \nQ 1284 391 1588 391 \nQ 1994 391 2212 530 \nQ 2431 669 2431 922 \nQ 2431 1156 2273 1281 \nQ 2116 1406 1581 1522 \nL 1381 1569 \nQ 847 1681 609 1914 \nQ 372 2147 372 2553 \nQ 372 3047 722 3315 \nQ 1072 3584 1716 3584 \nQ 2034 3584 2315 3537 \nQ 2597 3491 2834 3397 \nz\n\" transform=\"scale(0.015625)\"/>\n      <path id=\"DejaVuSans-6e\" d=\"M 3513 2113 \nL 3513 0 \nL 2938 0 \nL 2938 2094 \nQ 2938 2591 2744 2837 \nQ 2550 3084 2163 3084 \nQ 1697 3084 1428 2787 \nQ 1159 2491 1159 1978 \nL 1159 0 \nL 581 0 \nL 581 3500 \nL 1159 3500 \nL 1159 2956 \nQ 1366 3272 1645 3428 \nQ 1925 3584 2291 3584 \nQ 2894 3584 3203 3211 \nQ 3513 2838 3513 2113 \nz\n\" transform=\"scale(0.015625)\"/>\n      <path id=\"DejaVuSans-65\" d=\"M 3597 1894 \nL 3597 1613 \nL 953 1613 \nQ 991 1019 1311 708 \nQ 1631 397 2203 397 \nQ 2534 397 2845 478 \nQ 3156 559 3463 722 \nL 3463 178 \nQ 3153 47 2828 -22 \nQ 2503 -91 2169 -91 \nQ 1331 -91 842 396 \nQ 353 884 353 1716 \nQ 353 2575 817 3079 \nQ 1281 3584 2069 3584 \nQ 2775 3584 3186 3129 \nQ 3597 2675 3597 1894 \nz\nM 3022 2063 \nQ 3016 2534 2758 2815 \nQ 2500 3097 2075 3097 \nQ 1594 3097 1305 2825 \nQ 1016 2553 972 2059 \nL 3022 2063 \nz\n\" transform=\"scale(0.015625)\"/>\n      <path id=\"DejaVuSans-61\" d=\"M 2194 1759 \nQ 1497 1759 1228 1600 \nQ 959 1441 959 1056 \nQ 959 750 1161 570 \nQ 1363 391 1709 391 \nQ 2188 391 2477 730 \nQ 2766 1069 2766 1631 \nL 2766 1759 \nL 2194 1759 \nz\nM 3341 1997 \nL 3341 0 \nL 2766 0 \nL 2766 531 \nQ 2569 213 2275 61 \nQ 1981 -91 1556 -91 \nQ 1019 -91 701 211 \nQ 384 513 384 1019 \nQ 384 1609 779 1909 \nQ 1175 2209 1959 2209 \nL 2766 2209 \nL 2766 2266 \nQ 2766 2663 2505 2880 \nQ 2244 3097 1772 3097 \nQ 1472 3097 1187 3025 \nQ 903 2953 641 2809 \nL 641 3341 \nQ 956 3463 1253 3523 \nQ 1550 3584 1831 3584 \nQ 2591 3584 2966 3190 \nQ 3341 2797 3341 1997 \nz\n\" transform=\"scale(0.015625)\"/>\n      <path id=\"DejaVuSans-6b\" d=\"M 581 4863 \nL 1159 4863 \nL 1159 1991 \nL 2875 3500 \nL 3609 3500 \nL 1753 1863 \nL 3688 0 \nL 2938 0 \nL 1159 1709 \nL 1159 0 \nL 581 0 \nL 581 4863 \nz\n\" transform=\"scale(0.015625)\"/>\n      <path id=\"DejaVuSans-72\" d=\"M 2631 2963 \nQ 2534 3019 2420 3045 \nQ 2306 3072 2169 3072 \nQ 1681 3072 1420 2755 \nQ 1159 2438 1159 1844 \nL 1159 0 \nL 581 0 \nL 581 3500 \nL 1159 3500 \nL 1159 2956 \nQ 1341 3275 1631 3429 \nQ 1922 3584 2338 3584 \nQ 2397 3584 2469 3576 \nQ 2541 3569 2628 3553 \nL 2631 2963 \nz\n\" transform=\"scale(0.015625)\"/>\n     </defs>\n     <use xlink:href=\"#DejaVuSans-73\"/>\n     <use xlink:href=\"#DejaVuSans-6e\" x=\"52.099609\"/>\n     <use xlink:href=\"#DejaVuSans-65\" x=\"115.478516\"/>\n     <use xlink:href=\"#DejaVuSans-61\" x=\"177.001953\"/>\n     <use xlink:href=\"#DejaVuSans-6b\" x=\"238.28125\"/>\n     <use xlink:href=\"#DejaVuSans-65\" x=\"292.566406\"/>\n     <use xlink:href=\"#DejaVuSans-72\" x=\"354.089844\"/>\n    </g>\n    <!-- sandal -->\n    <g transform=\"translate(23.059209 29.7555) scale(0.12 -0.12)\">\n     <defs>\n      <path id=\"DejaVuSans-64\" d=\"M 2906 2969 \nL 2906 4863 \nL 3481 4863 \nL 3481 0 \nL 2906 0 \nL 2906 525 \nQ 2725 213 2448 61 \nQ 2172 -91 1784 -91 \nQ 1150 -91 751 415 \nQ 353 922 353 1747 \nQ 353 2572 751 3078 \nQ 1150 3584 1784 3584 \nQ 2172 3584 2448 3432 \nQ 2725 3281 2906 2969 \nz\nM 947 1747 \nQ 947 1113 1208 752 \nQ 1469 391 1925 391 \nQ 2381 391 2643 752 \nQ 2906 1113 2906 1747 \nQ 2906 2381 2643 2742 \nQ 2381 3103 1925 3103 \nQ 1469 3103 1208 2742 \nQ 947 2381 947 1747 \nz\n\" transform=\"scale(0.015625)\"/>\n      <path id=\"DejaVuSans-6c\" d=\"M 603 4863 \nL 1178 4863 \nL 1178 0 \nL 603 0 \nL 603 4863 \nz\n\" transform=\"scale(0.015625)\"/>\n     </defs>\n     <use xlink:href=\"#DejaVuSans-73\"/>\n     <use xlink:href=\"#DejaVuSans-61\" x=\"52.099609\"/>\n     <use xlink:href=\"#DejaVuSans-6e\" x=\"113.378906\"/>\n     <use xlink:href=\"#DejaVuSans-64\" x=\"176.757812\"/>\n     <use xlink:href=\"#DejaVuSans-61\" x=\"240.234375\"/>\n     <use xlink:href=\"#DejaVuSans-6c\" x=\"301.513672\"/>\n    </g>\n   </g>\n  </g>\n  <g id=\"axes_2\">\n   <g id=\"patch_7\">\n    <path d=\"M 92.680851 106.989543 \nL 163.914894 106.989543 \nL 163.914894 35.7555 \nL 92.680851 35.7555 \nz\n\" style=\"fill: #ffffff\"/>\n   </g>\n   <g clip-path=\"url(#p1b2626e423)\">\n    <image xlink:href=\"data:image/png;base64,\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\" id=\"image01a4bf1998\" transform=\"scale(1 -1) translate(0 -71.28)\" x=\"92.680851\" y=\"-35.709543\" width=\"71.28\" height=\"71.28\"/>\n   </g>\n   <g id=\"patch_8\">\n    <path d=\"M 92.680851 106.989543 \nL 92.680851 35.7555 \n\" style=\"fill: none; stroke: #000000; stroke-width: 0.8; stroke-linejoin: miter; stroke-linecap: square\"/>\n   </g>\n   <g id=\"patch_9\">\n    <path d=\"M 163.914894 106.989543 \nL 163.914894 35.7555 \n\" style=\"fill: none; stroke: #000000; stroke-width: 0.8; stroke-linejoin: miter; stroke-linecap: square\"/>\n   </g>\n   <g id=\"patch_10\">\n    <path d=\"M 92.680851 106.989543 \nL 163.914894 106.989543 \n\" style=\"fill: none; stroke: #000000; stroke-width: 0.8; stroke-linejoin: miter; stroke-linecap: square\"/>\n   </g>\n   <g id=\"patch_11\">\n    <path d=\"M 92.680851 35.7555 \nL 163.914894 35.7555 \n\" style=\"fill: none; stroke: #000000; stroke-width: 0.8; stroke-linejoin: miter; stroke-linecap: square\"/>\n   </g>\n   <g id=\"text_2\">\n    <!-- pullover -->\n    <g transform=\"translate(103.971622 16.318125) scale(0.12 -0.12)\">\n     <defs>\n      <path id=\"DejaVuSans-70\" d=\"M 1159 525 \nL 1159 -1331 \nL 581 -1331 \nL 581 3500 \nL 1159 3500 \nL 1159 2969 \nQ 1341 3281 1617 3432 \nQ 1894 3584 2278 3584 \nQ 2916 3584 3314 3078 \nQ 3713 2572 3713 1747 \nQ 3713 922 3314 415 \nQ 2916 -91 2278 -91 \nQ 1894 -91 1617 61 \nQ 1341 213 1159 525 \nz\nM 3116 1747 \nQ 3116 2381 2855 2742 \nQ 2594 3103 2138 3103 \nQ 1681 3103 1420 2742 \nQ 1159 2381 1159 1747 \nQ 1159 1113 1420 752 \nQ 1681 391 2138 391 \nQ 2594 391 2855 752 \nQ 3116 1113 3116 1747 \nz\n\" transform=\"scale(0.015625)\"/>\n      <path id=\"DejaVuSans-75\" d=\"M 544 1381 \nL 544 3500 \nL 1119 3500 \nL 1119 1403 \nQ 1119 906 1312 657 \nQ 1506 409 1894 409 \nQ 2359 409 2629 706 \nQ 2900 1003 2900 1516 \nL 2900 3500 \nL 3475 3500 \nL 3475 0 \nL 2900 0 \nL 2900 538 \nQ 2691 219 2414 64 \nQ 2138 -91 1772 -91 \nQ 1169 -91 856 284 \nQ 544 659 544 1381 \nz\nM 1991 3584 \nL 1991 3584 \nz\n\" transform=\"scale(0.015625)\"/>\n      <path id=\"DejaVuSans-6f\" d=\"M 1959 3097 \nQ 1497 3097 1228 2736 \nQ 959 2375 959 1747 \nQ 959 1119 1226 758 \nQ 1494 397 1959 397 \nQ 2419 397 2687 759 \nQ 2956 1122 2956 1747 \nQ 2956 2369 2687 2733 \nQ 2419 3097 1959 3097 \nz\nM 1959 3584 \nQ 2709 3584 3137 3096 \nQ 3566 2609 3566 1747 \nQ 3566 888 3137 398 \nQ 2709 -91 1959 -91 \nQ 1206 -91 779 398 \nQ 353 888 353 1747 \nQ 353 2609 779 3096 \nQ 1206 3584 1959 3584 \nz\n\" transform=\"scale(0.015625)\"/>\n      <path id=\"DejaVuSans-76\" d=\"M 191 3500 \nL 800 3500 \nL 1894 563 \nL 2988 3500 \nL 3597 3500 \nL 2284 0 \nL 1503 0 \nL 191 3500 \nz\n\" transform=\"scale(0.015625)\"/>\n     </defs>\n     <use xlink:href=\"#DejaVuSans-70\"/>\n     <use xlink:href=\"#DejaVuSans-75\" x=\"63.476562\"/>\n     <use xlink:href=\"#DejaVuSans-6c\" x=\"126.855469\"/>\n     <use xlink:href=\"#DejaVuSans-6c\" x=\"154.638672\"/>\n     <use xlink:href=\"#DejaVuSans-6f\" x=\"182.421875\"/>\n     <use xlink:href=\"#DejaVuSans-76\" x=\"243.603516\"/>\n     <use xlink:href=\"#DejaVuSans-65\" x=\"302.783203\"/>\n     <use xlink:href=\"#DejaVuSans-72\" x=\"364.306641\"/>\n    </g>\n    <!-- shirt -->\n    <g transform=\"translate(114.884122 29.7555) scale(0.12 -0.12)\">\n     <defs>\n      <path id=\"DejaVuSans-68\" d=\"M 3513 2113 \nL 3513 0 \nL 2938 0 \nL 2938 2094 \nQ 2938 2591 2744 2837 \nQ 2550 3084 2163 3084 \nQ 1697 3084 1428 2787 \nQ 1159 2491 1159 1978 \nL 1159 0 \nL 581 0 \nL 581 4863 \nL 1159 4863 \nL 1159 2956 \nQ 1366 3272 1645 3428 \nQ 1925 3584 2291 3584 \nQ 2894 3584 3203 3211 \nQ 3513 2838 3513 2113 \nz\n\" transform=\"scale(0.015625)\"/>\n      <path id=\"DejaVuSans-69\" d=\"M 603 3500 \nL 1178 3500 \nL 1178 0 \nL 603 0 \nL 603 3500 \nz\nM 603 4863 \nL 1178 4863 \nL 1178 4134 \nL 603 4134 \nL 603 4863 \nz\n\" transform=\"scale(0.015625)\"/>\n      <path id=\"DejaVuSans-74\" d=\"M 1172 4494 \nL 1172 3500 \nL 2356 3500 \nL 2356 3053 \nL 1172 3053 \nL 1172 1153 \nQ 1172 725 1289 603 \nQ 1406 481 1766 481 \nL 2356 481 \nL 2356 0 \nL 1766 0 \nQ 1100 0 847 248 \nQ 594 497 594 1153 \nL 594 3053 \nL 172 3053 \nL 172 3500 \nL 594 3500 \nL 594 4494 \nL 1172 4494 \nz\n\" transform=\"scale(0.015625)\"/>\n     </defs>\n     <use xlink:href=\"#DejaVuSans-73\"/>\n     <use xlink:href=\"#DejaVuSans-68\" x=\"52.099609\"/>\n     <use xlink:href=\"#DejaVuSans-69\" x=\"115.478516\"/>\n     <use xlink:href=\"#DejaVuSans-72\" x=\"143.261719\"/>\n     <use xlink:href=\"#DejaVuSans-74\" x=\"184.375\"/>\n    </g>\n   </g>\n  </g>\n  <g id=\"axes_3\">\n   <g id=\"patch_12\">\n    <path d=\"M 178.161702 106.989543 \nL 249.395745 106.989543 \nL 249.395745 35.7555 \nL 178.161702 35.7555 \nz\n\" style=\"fill: #ffffff\"/>\n   </g>\n   <g clip-path=\"url(#p2dc872ef10)\">\n    <image xlink:href=\"data:image/png;base64,\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\" id=\"image631b9e9c51\" transform=\"scale(1 -1) translate(0 -71.28)\" x=\"178.161702\" y=\"-35.709543\" width=\"71.28\" height=\"71.28\"/>\n   </g>\n   <g id=\"patch_13\">\n    <path d=\"M 178.161702 106.989543 \nL 178.161702 35.7555 \n\" style=\"fill: none; stroke: #000000; stroke-width: 0.8; stroke-linejoin: miter; stroke-linecap: square\"/>\n   </g>\n   <g id=\"patch_14\">\n    <path d=\"M 249.395745 106.989543 \nL 249.395745 35.7555 \n\" style=\"fill: none; stroke: #000000; stroke-width: 0.8; stroke-linejoin: miter; stroke-linecap: square\"/>\n   </g>\n   <g id=\"patch_15\">\n    <path d=\"M 178.161702 106.989543 \nL 249.395745 106.989543 \n\" style=\"fill: none; stroke: #000000; stroke-width: 0.8; stroke-linejoin: miter; stroke-linecap: square\"/>\n   </g>\n   <g id=\"patch_16\">\n    <path d=\"M 178.161702 35.7555 \nL 249.395745 35.7555 \n\" style=\"fill: none; stroke: #000000; stroke-width: 0.8; stroke-linejoin: miter; stroke-linecap: square\"/>\n   </g>\n   <g id=\"text_3\">\n    <!-- sandal -->\n    <g transform=\"translate(194.020911 16.318125) scale(0.12 -0.12)\">\n     <use xlink:href=\"#DejaVuSans-73\"/>\n     <use xlink:href=\"#DejaVuSans-61\" x=\"52.099609\"/>\n     <use xlink:href=\"#DejaVuSans-6e\" x=\"113.378906\"/>\n     <use xlink:href=\"#DejaVuSans-64\" x=\"176.757812\"/>\n     <use xlink:href=\"#DejaVuSans-61\" x=\"240.234375\"/>\n     <use xlink:href=\"#DejaVuSans-6c\" x=\"301.513672\"/>\n    </g>\n    <!-- sneaker -->\n    <g transform=\"translate(190.066536 29.7555) scale(0.12 -0.12)\">\n     <use xlink:href=\"#DejaVuSans-73\"/>\n     <use xlink:href=\"#DejaVuSans-6e\" x=\"52.099609\"/>\n     <use xlink:href=\"#DejaVuSans-65\" x=\"115.478516\"/>\n     <use xlink:href=\"#DejaVuSans-61\" x=\"177.001953\"/>\n     <use xlink:href=\"#DejaVuSans-6b\" x=\"238.28125\"/>\n     <use xlink:href=\"#DejaVuSans-65\" x=\"292.566406\"/>\n     <use xlink:href=\"#DejaVuSans-72\" x=\"354.089844\"/>\n    </g>\n   </g>\n  </g>\n  <g id=\"axes_4\">\n   <g id=\"patch_17\">\n    <path d=\"M 263.642553 106.989543 \nL 334.876596 106.989543 \nL 334.876596 35.7555 \nL 263.642553 35.7555 \nz\n\" style=\"fill: #ffffff\"/>\n   </g>\n   <g clip-path=\"url(#p16c68d41dd)\">\n    <image xlink:href=\"data:image/png;base64,\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\" id=\"imagef7c3e2fd62\" transform=\"scale(1 -1) translate(0 -71.28)\" x=\"263.642553\" y=\"-35.709543\" width=\"71.28\" height=\"71.28\"/>\n   </g>\n   <g id=\"patch_18\">\n    <path d=\"M 263.642553 106.989543 \nL 263.642553 35.7555 \n\" style=\"fill: none; stroke: #000000; stroke-width: 0.8; stroke-linejoin: miter; stroke-linecap: square\"/>\n   </g>\n   <g id=\"patch_19\">\n    <path d=\"M 334.876596 106.989543 \nL 334.876596 35.7555 \n\" style=\"fill: none; stroke: #000000; stroke-width: 0.8; stroke-linejoin: miter; stroke-linecap: square\"/>\n   </g>\n   <g id=\"patch_20\">\n    <path d=\"M 263.642553 106.989543 \nL 334.876596 106.989543 \n\" style=\"fill: none; stroke: #000000; stroke-width: 0.8; stroke-linejoin: miter; stroke-linecap: square\"/>\n   </g>\n   <g id=\"patch_21\">\n    <path d=\"M 263.642553 35.7555 \nL 334.876596 35.7555 \n\" style=\"fill: none; stroke: #000000; stroke-width: 0.8; stroke-linejoin: miter; stroke-linecap: square\"/>\n   </g>\n   <g id=\"text_4\">\n    <!-- ankle boot -->\n    <g transform=\"translate(267.536449 16.318125) scale(0.12 -0.12)\">\n     <defs>\n      <path id=\"DejaVuSans-20\" transform=\"scale(0.015625)\"/>\n      <path id=\"DejaVuSans-62\" d=\"M 3116 1747 \nQ 3116 2381 2855 2742 \nQ 2594 3103 2138 3103 \nQ 1681 3103 1420 2742 \nQ 1159 2381 1159 1747 \nQ 1159 1113 1420 752 \nQ 1681 391 2138 391 \nQ 2594 391 2855 752 \nQ 3116 1113 3116 1747 \nz\nM 1159 2969 \nQ 1341 3281 1617 3432 \nQ 1894 3584 2278 3584 \nQ 2916 3584 3314 3078 \nQ 3713 2572 3713 1747 \nQ 3713 922 3314 415 \nQ 2916 -91 2278 -91 \nQ 1894 -91 1617 61 \nQ 1341 213 1159 525 \nL 1159 0 \nL 581 0 \nL 581 4863 \nL 1159 4863 \nL 1159 2969 \nz\n\" transform=\"scale(0.015625)\"/>\n     </defs>\n     <use xlink:href=\"#DejaVuSans-61\"/>\n     <use xlink:href=\"#DejaVuSans-6e\" x=\"61.279297\"/>\n     <use xlink:href=\"#DejaVuSans-6b\" x=\"124.658203\"/>\n     <use xlink:href=\"#DejaVuSans-6c\" x=\"182.568359\"/>\n     <use xlink:href=\"#DejaVuSans-65\" x=\"210.351562\"/>\n     <use xlink:href=\"#DejaVuSans-20\" x=\"271.875\"/>\n     <use xlink:href=\"#DejaVuSans-62\" x=\"303.662109\"/>\n     <use xlink:href=\"#DejaVuSans-6f\" x=\"367.138672\"/>\n     <use xlink:href=\"#DejaVuSans-6f\" x=\"428.320312\"/>\n     <use xlink:href=\"#DejaVuSans-74\" x=\"489.501953\"/>\n    </g>\n    <!-- sneaker -->\n    <g transform=\"translate(275.547387 29.7555) scale(0.12 -0.12)\">\n     <use xlink:href=\"#DejaVuSans-73\"/>\n     <use xlink:href=\"#DejaVuSans-6e\" x=\"52.099609\"/>\n     <use xlink:href=\"#DejaVuSans-65\" x=\"115.478516\"/>\n     <use xlink:href=\"#DejaVuSans-61\" x=\"177.001953\"/>\n     <use xlink:href=\"#DejaVuSans-6b\" x=\"238.28125\"/>\n     <use xlink:href=\"#DejaVuSans-65\" x=\"292.566406\"/>\n     <use xlink:href=\"#DejaVuSans-72\" x=\"354.089844\"/>\n    </g>\n   </g>\n  </g>\n  <g id=\"axes_5\">\n   <g id=\"patch_22\">\n    <path d=\"M 349.123404 106.989543 \nL 420.357447 106.989543 \nL 420.357447 35.7555 \nL 349.123404 35.7555 \nz\n\" style=\"fill: #ffffff\"/>\n   </g>\n   <g clip-path=\"url(#p8db25ddff0)\">\n    <image xlink:href=\"data:image/png;base64,\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\" id=\"image2545e07eb8\" transform=\"scale(1 -1) translate(0 -71.28)\" x=\"349.123404\" y=\"-35.709543\" width=\"71.28\" height=\"71.28\"/>\n   </g>\n   <g id=\"patch_23\">\n    <path d=\"M 349.123404 106.989543 \nL 349.123404 35.7555 \n\" style=\"fill: none; stroke: #000000; stroke-width: 0.8; stroke-linejoin: miter; stroke-linecap: square\"/>\n   </g>\n   <g id=\"patch_24\">\n    <path d=\"M 420.357447 106.989543 \nL 420.357447 35.7555 \n\" style=\"fill: none; stroke: #000000; stroke-width: 0.8; stroke-linejoin: miter; stroke-linecap: square\"/>\n   </g>\n   <g id=\"patch_25\">\n    <path d=\"M 349.123404 106.989543 \nL 420.357447 106.989543 \n\" style=\"fill: none; stroke: #000000; stroke-width: 0.8; stroke-linejoin: miter; stroke-linecap: square\"/>\n   </g>\n   <g id=\"patch_26\">\n    <path d=\"M 349.123404 35.7555 \nL 420.357447 35.7555 \n\" style=\"fill: none; stroke: #000000; stroke-width: 0.8; stroke-linejoin: miter; stroke-linecap: square\"/>\n   </g>\n   <g id=\"text_5\">\n    <!-- coat -->\n    <g transform=\"translate(371.741051 16.318125) scale(0.12 -0.12)\">\n     <defs>\n      <path id=\"DejaVuSans-63\" d=\"M 3122 3366 \nL 3122 2828 \nQ 2878 2963 2633 3030 \nQ 2388 3097 2138 3097 \nQ 1578 3097 1268 2742 \nQ 959 2388 959 1747 \nQ 959 1106 1268 751 \nQ 1578 397 2138 397 \nQ 2388 397 2633 464 \nQ 2878 531 3122 666 \nL 3122 134 \nQ 2881 22 2623 -34 \nQ 2366 -91 2075 -91 \nQ 1284 -91 818 406 \nQ 353 903 353 1747 \nQ 353 2603 823 3093 \nQ 1294 3584 2113 3584 \nQ 2378 3584 2631 3529 \nQ 2884 3475 3122 3366 \nz\n\" transform=\"scale(0.015625)\"/>\n     </defs>\n     <use xlink:href=\"#DejaVuSans-63\"/>\n     <use xlink:href=\"#DejaVuSans-6f\" x=\"54.980469\"/>\n     <use xlink:href=\"#DejaVuSans-61\" x=\"116.162109\"/>\n     <use xlink:href=\"#DejaVuSans-74\" x=\"177.441406\"/>\n    </g>\n    <!-- pullover -->\n    <g transform=\"translate(360.414176 29.7555) scale(0.12 -0.12)\">\n     <use xlink:href=\"#DejaVuSans-70\"/>\n     <use xlink:href=\"#DejaVuSans-75\" x=\"63.476562\"/>\n     <use xlink:href=\"#DejaVuSans-6c\" x=\"126.855469\"/>\n     <use xlink:href=\"#DejaVuSans-6c\" x=\"154.638672\"/>\n     <use xlink:href=\"#DejaVuSans-6f\" x=\"182.421875\"/>\n     <use xlink:href=\"#DejaVuSans-76\" x=\"243.603516\"/>\n     <use xlink:href=\"#DejaVuSans-65\" x=\"302.783203\"/>\n     <use xlink:href=\"#DejaVuSans-72\" x=\"364.306641\"/>\n    </g>\n   </g>\n  </g>\n  <g id=\"axes_6\">\n   <g id=\"patch_27\">\n    <path d=\"M 434.604255 106.989543 \nL 505.838298 106.989543 \nL 505.838298 35.7555 \nL 434.604255 35.7555 \nz\n\" style=\"fill: #ffffff\"/>\n   </g>\n   <g clip-path=\"url(#p6b065d5981)\">\n    <image xlink:href=\"data:image/png;base64,\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\" id=\"imagec4c1ec8bf0\" transform=\"scale(1 -1) translate(0 -71.28)\" x=\"434.604255\" y=\"-35.709543\" width=\"71.28\" height=\"71.28\"/>\n   </g>\n   <g id=\"patch_28\">\n    <path d=\"M 434.604255 106.989543 \nL 434.604255 35.7555 \n\" style=\"fill: none; stroke: #000000; stroke-width: 0.8; stroke-linejoin: miter; stroke-linecap: square\"/>\n   </g>\n   <g id=\"patch_29\">\n    <path d=\"M 505.838298 106.989543 \nL 505.838298 35.7555 \n\" style=\"fill: none; stroke: #000000; stroke-width: 0.8; stroke-linejoin: miter; stroke-linecap: square\"/>\n   </g>\n   <g id=\"patch_30\">\n    <path d=\"M 434.604255 106.989543 \nL 505.838298 106.989543 \n\" style=\"fill: none; stroke: #000000; stroke-width: 0.8; stroke-linejoin: miter; stroke-linecap: square\"/>\n   </g>\n   <g id=\"patch_31\">\n    <path d=\"M 434.604255 35.7555 \nL 505.838298 35.7555 \n\" style=\"fill: none; stroke: #000000; stroke-width: 0.8; stroke-linejoin: miter; stroke-linecap: square\"/>\n   </g>\n   <g id=\"text_6\">\n    <!-- shirt -->\n    <g transform=\"translate(456.807527 16.318125) scale(0.12 -0.12)\">\n     <use xlink:href=\"#DejaVuSans-73\"/>\n     <use xlink:href=\"#DejaVuSans-68\" x=\"52.099609\"/>\n     <use xlink:href=\"#DejaVuSans-69\" x=\"115.478516\"/>\n     <use xlink:href=\"#DejaVuSans-72\" x=\"143.261719\"/>\n     <use xlink:href=\"#DejaVuSans-74\" x=\"184.375\"/>\n    </g>\n    <!-- t-shirt -->\n    <g transform=\"translate(452.290652 29.7555) scale(0.12 -0.12)\">\n     <defs>\n      <path id=\"DejaVuSans-2d\" d=\"M 313 2009 \nL 1997 2009 \nL 1997 1497 \nL 313 1497 \nL 313 2009 \nz\n\" transform=\"scale(0.015625)\"/>\n     </defs>\n     <use xlink:href=\"#DejaVuSans-74\"/>\n     <use xlink:href=\"#DejaVuSans-2d\" x=\"39.208984\"/>\n     <use xlink:href=\"#DejaVuSans-73\" x=\"75.292969\"/>\n     <use xlink:href=\"#DejaVuSans-68\" x=\"127.392578\"/>\n     <use xlink:href=\"#DejaVuSans-69\" x=\"190.771484\"/>\n     <use xlink:href=\"#DejaVuSans-72\" x=\"218.554688\"/>\n     <use xlink:href=\"#DejaVuSans-74\" x=\"259.667969\"/>\n    </g>\n   </g>\n  </g>\n  <g id=\"axes_7\">\n   <g id=\"patch_32\">\n    <path d=\"M 520.085106 106.989543 \nL 591.319149 106.989543 \nL 591.319149 35.7555 \nL 520.085106 35.7555 \nz\n\" style=\"fill: #ffffff\"/>\n   </g>\n   <g clip-path=\"url(#p517df59a9c)\">\n    <image xlink:href=\"data:image/png;base64,\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\" id=\"imagef1bc695e53\" transform=\"scale(1 -1) translate(0 -71.28)\" x=\"520.085106\" y=\"-35.709543\" width=\"71.28\" height=\"71.28\"/>\n   </g>\n   <g id=\"patch_33\">\n    <path d=\"M 520.085106 106.989543 \nL 520.085106 35.7555 \n\" style=\"fill: none; stroke: #000000; stroke-width: 0.8; stroke-linejoin: miter; stroke-linecap: square\"/>\n   </g>\n   <g id=\"patch_34\">\n    <path d=\"M 591.319149 106.989543 \nL 591.319149 35.7555 \n\" style=\"fill: none; stroke: #000000; stroke-width: 0.8; stroke-linejoin: miter; stroke-linecap: square\"/>\n   </g>\n   <g id=\"patch_35\">\n    <path d=\"M 520.085106 106.989543 \nL 591.319149 106.989543 \n\" style=\"fill: none; stroke: #000000; stroke-width: 0.8; stroke-linejoin: miter; stroke-linecap: square\"/>\n   </g>\n   <g id=\"patch_36\">\n    <path d=\"M 520.085106 35.7555 \nL 591.319149 35.7555 \n\" style=\"fill: none; stroke: #000000; stroke-width: 0.8; stroke-linejoin: miter; stroke-linecap: square\"/>\n   </g>\n   <g id=\"text_7\">\n    <!-- pullover -->\n    <g transform=\"translate(531.375878 16.318125) scale(0.12 -0.12)\">\n     <use xlink:href=\"#DejaVuSans-70\"/>\n     <use xlink:href=\"#DejaVuSans-75\" x=\"63.476562\"/>\n     <use xlink:href=\"#DejaVuSans-6c\" x=\"126.855469\"/>\n     <use xlink:href=\"#DejaVuSans-6c\" x=\"154.638672\"/>\n     <use xlink:href=\"#DejaVuSans-6f\" x=\"182.421875\"/>\n     <use xlink:href=\"#DejaVuSans-76\" x=\"243.603516\"/>\n     <use xlink:href=\"#DejaVuSans-65\" x=\"302.783203\"/>\n     <use xlink:href=\"#DejaVuSans-72\" x=\"364.306641\"/>\n    </g>\n    <!-- shirt -->\n    <g transform=\"translate(542.288378 29.7555) scale(0.12 -0.12)\">\n     <use xlink:href=\"#DejaVuSans-73\"/>\n     <use xlink:href=\"#DejaVuSans-68\" x=\"52.099609\"/>\n     <use xlink:href=\"#DejaVuSans-69\" x=\"115.478516\"/>\n     <use xlink:href=\"#DejaVuSans-72\" x=\"143.261719\"/>\n     <use xlink:href=\"#DejaVuSans-74\" x=\"184.375\"/>\n    </g>\n   </g>\n  </g>\n  <g id=\"axes_8\">\n   <g id=\"patch_37\">\n    <path d=\"M 605.565957 106.989543 \nL 676.8 106.989543 \nL 676.8 35.7555 \nL 605.565957 35.7555 \nz\n\" style=\"fill: #ffffff\"/>\n   </g>\n   <g clip-path=\"url(#pb5bceda92e)\">\n    <image xlink:href=\"data:image/png;base64,\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\" id=\"imaged47b57d475\" transform=\"scale(1 -1) translate(0 -71.28)\" x=\"605.565957\" y=\"-35.709543\" width=\"71.28\" height=\"71.28\"/>\n   </g>\n   <g id=\"patch_38\">\n    <path d=\"M 605.565957 106.989543 \nL 605.565957 35.7555 \n\" style=\"fill: none; stroke: #000000; stroke-width: 0.8; stroke-linejoin: miter; stroke-linecap: square\"/>\n   </g>\n   <g id=\"patch_39\">\n    <path d=\"M 676.8 106.989543 \nL 676.8 35.7555 \n\" style=\"fill: none; stroke: #000000; stroke-width: 0.8; stroke-linejoin: miter; stroke-linecap: square\"/>\n   </g>\n   <g id=\"patch_40\">\n    <path d=\"M 605.565957 106.989543 \nL 676.8 106.989543 \n\" style=\"fill: none; stroke: #000000; stroke-width: 0.8; stroke-linejoin: miter; stroke-linecap: square\"/>\n   </g>\n   <g id=\"patch_41\">\n    <path d=\"M 605.565957 35.7555 \nL 676.8 35.7555 \n\" style=\"fill: none; stroke: #000000; stroke-width: 0.8; stroke-linejoin: miter; stroke-linecap: square\"/>\n   </g>\n   <g id=\"text_8\">\n    <!-- coat -->\n    <g transform=\"translate(628.183604 16.318125) scale(0.12 -0.12)\">\n     <use xlink:href=\"#DejaVuSans-63\"/>\n     <use xlink:href=\"#DejaVuSans-6f\" x=\"54.980469\"/>\n     <use xlink:href=\"#DejaVuSans-61\" x=\"116.162109\"/>\n     <use xlink:href=\"#DejaVuSans-74\" x=\"177.441406\"/>\n    </g>\n    <!-- shirt -->\n    <g transform=\"translate(627.769229 29.7555) scale(0.12 -0.12)\">\n     <use xlink:href=\"#DejaVuSans-73\"/>\n     <use xlink:href=\"#DejaVuSans-68\" x=\"52.099609\"/>\n     <use xlink:href=\"#DejaVuSans-69\" x=\"115.478516\"/>\n     <use xlink:href=\"#DejaVuSans-72\" x=\"143.261719\"/>\n     <use xlink:href=\"#DejaVuSans-74\" x=\"184.375\"/>\n    </g>\n   </g>\n  </g>\n </g>\n <defs>\n  <clipPath id=\"pe43f932cca\">\n   <rect x=\"7.2\" y=\"35.7555\" width=\"71.234043\" height=\"71.234043\"/>\n  </clipPath>\n  <clipPath id=\"p1b2626e423\">\n   <rect x=\"92.680851\" y=\"35.7555\" width=\"71.234043\" height=\"71.234043\"/>\n  </clipPath>\n  <clipPath id=\"p2dc872ef10\">\n   <rect x=\"178.161702\" y=\"35.7555\" width=\"71.234043\" height=\"71.234043\"/>\n  </clipPath>\n  <clipPath id=\"p16c68d41dd\">\n   <rect x=\"263.642553\" y=\"35.7555\" width=\"71.234043\" height=\"71.234043\"/>\n  </clipPath>\n  <clipPath id=\"p8db25ddff0\">\n   <rect x=\"349.123404\" y=\"35.7555\" width=\"71.234043\" height=\"71.234043\"/>\n  </clipPath>\n  <clipPath id=\"p6b065d5981\">\n   <rect x=\"434.604255\" y=\"35.7555\" width=\"71.234043\" height=\"71.234043\"/>\n  </clipPath>\n  <clipPath id=\"p517df59a9c\">\n   <rect x=\"520.085106\" y=\"35.7555\" width=\"71.234043\" height=\"71.234043\"/>\n  </clipPath>\n  <clipPath id=\"pb5bceda92e\">\n   <rect x=\"605.565957\" y=\"35.7555\" width=\"71.234043\" height=\"71.234043\"/>\n  </clipPath>\n </defs>\n</svg>\n"
          },
          "metadata": {}
        }
      ],
      "source": [
        "# compares every index from preds and y, returns an [256, 1] boolean array with 1 when the stored indices where predicted and actual differ\n",
        "wrong = preds.type(y.dtype) != y\n",
        "\n",
        "# boolean indexing, X[wrong] selects all the rows with a value of 1 (so prediction was wrong), same for others, so only mistakes remain\n",
        "X, y, preds = X[wrong], y[wrong], preds[wrong]\n",
        "\n",
        "# turns indices into text labels, and groups each true label and wrong prediciton label pair using zip\n",
        "labels = [a+'\\n'+b for a, b in zip(\n",
        "    data.text_labels(y), data.text_labels(preds))]\n",
        "\n",
        "# displays each image in X, and the corresponding label strings in labels\n",
        "data.visualize([X, y], labels=labels)"
      ]
    },
    {
      "cell_type": "markdown",
      "id": "806939a6",
      "metadata": {
        "origin_pos": 36,
        "id": "806939a6"
      },
      "source": [
        "## Summary\n",
        "\n",
        "By now we are starting to get some experience\n",
        "with solving linear regression\n",
        "and classification problems.\n",
        "With it, we have reached what would arguably be\n",
        "the state of the art of 1960--1970s of statistical modeling.\n",
        "In the next section, we will show you how to leverage\n",
        "deep learning frameworks to implement this model\n",
        "much more efficiently.\n",
        "\n",
        "## Exercises\n",
        "\n",
        "1. In this section, we directly implemented the softmax function based on the mathematical definition of the softmax operation. As discussed in :numref:`sec_softmax` this can cause numerical instabilities.\n",
        "    1. Test whether `softmax` still works correctly if an input has a value of $100$.\n",
        "    1. Test whether `softmax` still works correctly if the largest of all inputs is smaller than $-100$?\n",
        "    1. Implement a fix by looking at the value relative to the largest entry in the argument.\n",
        "1. Implement a `cross_entropy` function that follows the definition of the cross-entropy loss function $\\sum_i y_i \\log \\hat{y}_i$.\n",
        "    1. Try it out in the code example of this section.\n",
        "    1. Why do you think it runs more slowly?\n",
        "    1. Should you use it? When would it make sense to?\n",
        "    1. What do you need to be careful of? Hint: consider the domain of the logarithm.\n",
        "1. Is it always a good idea to return the most likely label? For example, would you do this for medical diagnosis? How would you try to address this?\n",
        "1. Assume that we want to use softmax regression to predict the next word based on some features. What are some problems that might arise from a large vocabulary?\n",
        "1. Experiment with the hyperparameters of the code in this section. In particular:\n",
        "    1. Plot how the validation loss changes as you change the learning rate.\n",
        "    1. Do the validation and training loss change as you change the minibatch size? How large or small do you need to go before you see an effect?\n"
      ]
    },
    {
      "cell_type": "code",
      "source": [
        "# Code for Exercise 1\n",
        "import math\n",
        "\n",
        "def e1_softmax(e1):\n",
        "  test_e1 = torch.exp(e1)\n",
        "  partition_test = test_e1.sum(1, keepdims=True)\n",
        "  return test_e1 / partition_test\n",
        "\n",
        "e1 = torch.tensor([100, 120, 150, 122]).reshape(1, -1)\n",
        "\n",
        "e1_softmax(e1)\n",
        "\n",
        "# 1.3\n",
        "def e1_p3_softmax(e1_p3):\n",
        "  max = torch.max(e1_p3)\n",
        "  test_e1_p3 = torch.exp(e1_p3 - max)\n",
        "  partition_test = test_e1_p3.sum(1, keepdims=True)\n",
        "  return test_e1_p3 / partition_test\n",
        "\n",
        "e1_p3 = torch.tensor([1, 2, 3, 9]).reshape(1, -1)\n",
        "\n",
        "print(torch.finfo(torch.float32).max)\n",
        "print(torch.finfo(torch.float32).max)\n",
        "hundred = torch.tensor([100])\n",
        "e1_p3_softmax(e1), e1_softmax(e1), math.exp(100), torch.exp(hundred)"
      ],
      "metadata": {
        "id": "jvCzjUwnBTD3",
        "outputId": "4e3eb49d-09df-4604-cf64-fbc53a528d39",
        "colab": {
          "base_uri": "https://localhost:8080/"
        }
      },
      "id": "jvCzjUwnBTD3",
      "execution_count": 55,
      "outputs": [
        {
          "output_type": "stream",
          "name": "stdout",
          "text": [
            "3.4028234663852886e+38\n",
            "3.4028234663852886e+38\n"
          ]
        },
        {
          "output_type": "execute_result",
          "data": {
            "text/plain": [
              "(tensor([[1.9287e-22, 9.3576e-14, 1.0000e+00, 6.9144e-13]]),\n",
              " tensor([[nan, nan, nan, nan]]),\n",
              " 2.6881171418161356e+43,\n",
              " tensor([inf]))"
            ]
          },
          "metadata": {},
          "execution_count": 55
        }
      ]
    },
    {
      "cell_type": "markdown",
      "source": [
        "Exercise 1\n",
        "\n",
        "1.\n",
        "\n",
        "No, it does not work. This is due to float overflow, and returns nan for the first sample for input:\n",
        "e1 = torch.tensor([100,91,22,40]).reshape(1, -1)\n",
        "\n",
        "2.\n",
        "\n",
        "Yes, it can. It takes smaller negative values for the outputs to become nan, however. Like going smaller than -100 doesn't cause integer underflow. Only if you push it to like e^-190 does this happen. This is because e^-x is between 0 and 1. So only when e^-x becomes so tiny it is 0, you get nan from 0/0\n",
        "\n",
        "3.\n",
        "\n",
        "We can use the equivalence\n",
        "logsumexp(x_i+b))\n",
        "= logsumexp(x_i)*exp(b))\n",
        "= logexp(b*sum(exp(x_i))\n",
        "= b + logsumexp(x_i)\n",
        "\n",
        "So then our partition function becomes X.max + logsumexp(x_i - X.max), and our numerator becomes exp(x_i - X.max)\n",
        "\n",
        "Implementation (you don't actually need the max in partition here, that is only the case if you will be using it in context of log-softmax or log-likelihood):\n",
        "def e1_p3_softmax(e1_p3):\n",
        "  max = torch.max(e1_p3)\n",
        "  test_e1_p3 = torch.exp(e1_p3 - max)\n",
        "  partition_test = test_e1_p3.sum(1, keepdims=True) + max\n",
        "  return test_e1_p3 / partition_test\n"
      ],
      "metadata": {
        "id": "0hKwc43DJFVK"
      },
      "id": "0hKwc43DJFVK"
    },
    {
      "cell_type": "code",
      "source": [
        "# Code for Exercise 2\n",
        "\n",
        "from sklearn.preprocessing import OneHotEncoder\n",
        "import numpy as np\n",
        "\n",
        "data_encoded = y.reshape(-1, 1)\n",
        "\n",
        "encoder = OneHotEncoder(sparse_output=False)\n",
        "one_hot_encoded_data = encoder.fit_transform(data_encoded)\n",
        "\n",
        "\n",
        "def cross_entropy_e2(y_hat, y_onehot):\n",
        "\n",
        "    onehot = -torch.log(torch.sum(y_hat, y_onehot)).mean\n",
        "\n",
        "cross_entropy(y_hat, one_hot_encoded_data)"
      ],
      "metadata": {
        "id": "N4Mk0cicJYJZ",
        "outputId": "5c011948-5077-4b9d-e5ed-840c8a1c77d3",
        "colab": {
          "base_uri": "https://localhost:8080/",
          "height": 280
        }
      },
      "id": "N4Mk0cicJYJZ",
      "execution_count": 78,
      "outputs": [
        {
          "output_type": "error",
          "ename": "IndexError",
          "evalue": "shape mismatch: indexing tensors could not be broadcast together with shapes [2], [34, 8]",
          "traceback": [
            "\u001b[0;31m---------------------------------------------------------------------------\u001b[0m",
            "\u001b[0;31mIndexError\u001b[0m                                Traceback (most recent call last)",
            "\u001b[0;32m/tmp/ipython-input-78-2632521591.py\u001b[0m in \u001b[0;36m<cell line: 0>\u001b[0;34m()\u001b[0m\n\u001b[1;32m     16\u001b[0m     \u001b[0monehot\u001b[0m \u001b[0;34m=\u001b[0m \u001b[0;34m-\u001b[0m\u001b[0mtorch\u001b[0m\u001b[0;34m.\u001b[0m\u001b[0mlog\u001b[0m\u001b[0;34m(\u001b[0m\u001b[0mtorch\u001b[0m\u001b[0;34m.\u001b[0m\u001b[0msum\u001b[0m\u001b[0;34m(\u001b[0m\u001b[0my_hat\u001b[0m\u001b[0;34m,\u001b[0m \u001b[0my_onehot\u001b[0m\u001b[0;34m)\u001b[0m\u001b[0;34m)\u001b[0m\u001b[0;34m.\u001b[0m\u001b[0mmean\u001b[0m\u001b[0;34m\u001b[0m\u001b[0;34m\u001b[0m\u001b[0m\n\u001b[1;32m     17\u001b[0m \u001b[0;34m\u001b[0m\u001b[0m\n\u001b[0;32m---> 18\u001b[0;31m \u001b[0mcross_entropy\u001b[0m\u001b[0;34m(\u001b[0m\u001b[0my_hat\u001b[0m\u001b[0;34m,\u001b[0m \u001b[0mone_hot_encoded_data\u001b[0m\u001b[0;34m)\u001b[0m\u001b[0;34m\u001b[0m\u001b[0;34m\u001b[0m\u001b[0m\n\u001b[0m",
            "\u001b[0;32m/tmp/ipython-input-14-1788967406.py\u001b[0m in \u001b[0;36mcross_entropy\u001b[0;34m(y_hat, y)\u001b[0m\n\u001b[1;32m      1\u001b[0m \u001b[0;32mdef\u001b[0m \u001b[0mcross_entropy\u001b[0m\u001b[0;34m(\u001b[0m\u001b[0my_hat\u001b[0m\u001b[0;34m,\u001b[0m \u001b[0my\u001b[0m\u001b[0;34m)\u001b[0m\u001b[0;34m:\u001b[0m\u001b[0;34m\u001b[0m\u001b[0;34m\u001b[0m\u001b[0m\n\u001b[0;32m----> 2\u001b[0;31m     \u001b[0;32mreturn\u001b[0m \u001b[0;34m-\u001b[0m\u001b[0mtorch\u001b[0m\u001b[0;34m.\u001b[0m\u001b[0mlog\u001b[0m\u001b[0;34m(\u001b[0m\u001b[0my_hat\u001b[0m\u001b[0;34m[\u001b[0m\u001b[0mlist\u001b[0m\u001b[0;34m(\u001b[0m\u001b[0mrange\u001b[0m\u001b[0;34m(\u001b[0m\u001b[0mlen\u001b[0m\u001b[0;34m(\u001b[0m\u001b[0my_hat\u001b[0m\u001b[0;34m)\u001b[0m\u001b[0;34m)\u001b[0m\u001b[0;34m)\u001b[0m\u001b[0;34m,\u001b[0m \u001b[0my\u001b[0m\u001b[0;34m]\u001b[0m\u001b[0;34m)\u001b[0m\u001b[0;34m.\u001b[0m\u001b[0mmean\u001b[0m\u001b[0;34m(\u001b[0m\u001b[0;34m)\u001b[0m\u001b[0;34m\u001b[0m\u001b[0;34m\u001b[0m\u001b[0m\n\u001b[0m\u001b[1;32m      3\u001b[0m \u001b[0;34m\u001b[0m\u001b[0m\n\u001b[1;32m      4\u001b[0m \u001b[0mcross_entropy\u001b[0m\u001b[0;34m(\u001b[0m\u001b[0my_hat\u001b[0m\u001b[0;34m,\u001b[0m \u001b[0my\u001b[0m\u001b[0;34m)\u001b[0m\u001b[0;34m\u001b[0m\u001b[0;34m\u001b[0m\u001b[0m\n",
            "\u001b[0;31mIndexError\u001b[0m: shape mismatch: indexing tensors could not be broadcast together with shapes [2], [34, 8]"
          ]
        }
      ]
    },
    {
      "cell_type": "markdown",
      "source": [
        "Exercise 2\n",
        "\n",
        "1.\n",
        "\n",
        "This is just the one-hot version of cross entropy loss.\n",
        "\n",
        "2.\n",
        "\n",
        "It runs more slowly because for n samples with d classes, the index version of cross entropy loss does n logs, n sums, and a divide. However, the one-hot version does n*d multiplications, then n logs, n sums, and a divide. Because you have to multiply every logit by the onehot vector.\n",
        "\n",
        "3.\n",
        "\n",
        "Would probably not use it, because there literally is no point for single class problems. However, this is useful for classification tasks with multiple correct classes or soft labels (from label smoothing, distillation targets, etc).\n",
        "\n",
        "\n",
        "4.\n",
        "\n",
        "If you log before summing, then most operations are invalid because log(0) is not valid, as domain of log is positive."
      ],
      "metadata": {
        "id": "k_lBuq-JSi5T"
      },
      "id": "k_lBuq-JSi5T"
    }
  ],
  "metadata": {
    "kernelspec": {
      "display_name": "Python 3",
      "name": "python3"
    },
    "language_info": {
      "name": "python"
    },
    "required_libs": [],
    "colab": {
      "provenance": []
    }
  },
  "nbformat": 4,
  "nbformat_minor": 5
}