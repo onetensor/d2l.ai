{
  "cells": [
    {
      "cell_type": "markdown",
      "id": "8b9a1ab8",
      "metadata": {
        "id": "8b9a1ab8"
      },
      "source": [
        "The following additional libraries are needed to run this\n",
        "notebook. Note that running on Colab is experimental, please report a Github\n",
        "issue if you have any problem."
      ]
    },
    {
      "cell_type": "code",
      "execution_count": 1,
      "id": "a6e1ac7a",
      "metadata": {
        "colab": {
          "base_uri": "https://localhost:8080/"
        },
        "id": "a6e1ac7a",
        "outputId": "cfba78f9-8fb6-43c7-e397-7a94d0f2a6fa"
      },
      "outputs": [
        {
          "output_type": "stream",
          "name": "stdout",
          "text": [
            "Requirement already satisfied: d2l==1.0.3 in /usr/local/lib/python3.11/dist-packages (1.0.3)\n",
            "Requirement already satisfied: jupyter==1.0.0 in /usr/local/lib/python3.11/dist-packages (from d2l==1.0.3) (1.0.0)\n",
            "Requirement already satisfied: numpy==1.23.5 in /usr/local/lib/python3.11/dist-packages (from d2l==1.0.3) (1.23.5)\n",
            "Requirement already satisfied: matplotlib==3.7.2 in /usr/local/lib/python3.11/dist-packages (from d2l==1.0.3) (3.7.2)\n",
            "Requirement already satisfied: matplotlib-inline==0.1.6 in /usr/local/lib/python3.11/dist-packages (from d2l==1.0.3) (0.1.6)\n",
            "Requirement already satisfied: requests==2.31.0 in /usr/local/lib/python3.11/dist-packages (from d2l==1.0.3) (2.31.0)\n",
            "Requirement already satisfied: pandas==2.0.3 in /usr/local/lib/python3.11/dist-packages (from d2l==1.0.3) (2.0.3)\n",
            "Requirement already satisfied: scipy==1.10.1 in /usr/local/lib/python3.11/dist-packages (from d2l==1.0.3) (1.10.1)\n",
            "Requirement already satisfied: notebook in /usr/local/lib/python3.11/dist-packages (from jupyter==1.0.0->d2l==1.0.3) (6.5.7)\n",
            "Requirement already satisfied: qtconsole in /usr/local/lib/python3.11/dist-packages (from jupyter==1.0.0->d2l==1.0.3) (5.6.1)\n",
            "Requirement already satisfied: jupyter-console in /usr/local/lib/python3.11/dist-packages (from jupyter==1.0.0->d2l==1.0.3) (6.1.0)\n",
            "Requirement already satisfied: nbconvert in /usr/local/lib/python3.11/dist-packages (from jupyter==1.0.0->d2l==1.0.3) (7.16.6)\n",
            "Requirement already satisfied: ipykernel in /usr/local/lib/python3.11/dist-packages (from jupyter==1.0.0->d2l==1.0.3) (6.17.1)\n",
            "Requirement already satisfied: ipywidgets in /usr/local/lib/python3.11/dist-packages (from jupyter==1.0.0->d2l==1.0.3) (7.7.1)\n",
            "Requirement already satisfied: contourpy>=1.0.1 in /usr/local/lib/python3.11/dist-packages (from matplotlib==3.7.2->d2l==1.0.3) (1.3.2)\n",
            "Requirement already satisfied: cycler>=0.10 in /usr/local/lib/python3.11/dist-packages (from matplotlib==3.7.2->d2l==1.0.3) (0.12.1)\n",
            "Requirement already satisfied: fonttools>=4.22.0 in /usr/local/lib/python3.11/dist-packages (from matplotlib==3.7.2->d2l==1.0.3) (4.58.4)\n",
            "Requirement already satisfied: kiwisolver>=1.0.1 in /usr/local/lib/python3.11/dist-packages (from matplotlib==3.7.2->d2l==1.0.3) (1.4.8)\n",
            "Requirement already satisfied: packaging>=20.0 in /usr/local/lib/python3.11/dist-packages (from matplotlib==3.7.2->d2l==1.0.3) (24.2)\n",
            "Requirement already satisfied: pillow>=6.2.0 in /usr/local/lib/python3.11/dist-packages (from matplotlib==3.7.2->d2l==1.0.3) (11.2.1)\n",
            "Requirement already satisfied: pyparsing<3.1,>=2.3.1 in /usr/local/lib/python3.11/dist-packages (from matplotlib==3.7.2->d2l==1.0.3) (3.0.9)\n",
            "Requirement already satisfied: python-dateutil>=2.7 in /usr/local/lib/python3.11/dist-packages (from matplotlib==3.7.2->d2l==1.0.3) (2.9.0.post0)\n",
            "Requirement already satisfied: traitlets in /usr/local/lib/python3.11/dist-packages (from matplotlib-inline==0.1.6->d2l==1.0.3) (5.7.1)\n",
            "Requirement already satisfied: pytz>=2020.1 in /usr/local/lib/python3.11/dist-packages (from pandas==2.0.3->d2l==1.0.3) (2025.2)\n",
            "Requirement already satisfied: tzdata>=2022.1 in /usr/local/lib/python3.11/dist-packages (from pandas==2.0.3->d2l==1.0.3) (2025.2)\n",
            "Requirement already satisfied: charset-normalizer<4,>=2 in /usr/local/lib/python3.11/dist-packages (from requests==2.31.0->d2l==1.0.3) (3.4.2)\n",
            "Requirement already satisfied: idna<4,>=2.5 in /usr/local/lib/python3.11/dist-packages (from requests==2.31.0->d2l==1.0.3) (3.10)\n",
            "Requirement already satisfied: urllib3<3,>=1.21.1 in /usr/local/lib/python3.11/dist-packages (from requests==2.31.0->d2l==1.0.3) (2.4.0)\n",
            "Requirement already satisfied: certifi>=2017.4.17 in /usr/local/lib/python3.11/dist-packages (from requests==2.31.0->d2l==1.0.3) (2025.6.15)\n",
            "Requirement already satisfied: six>=1.5 in /usr/local/lib/python3.11/dist-packages (from python-dateutil>=2.7->matplotlib==3.7.2->d2l==1.0.3) (1.17.0)\n",
            "Requirement already satisfied: debugpy>=1.0 in /usr/local/lib/python3.11/dist-packages (from ipykernel->jupyter==1.0.0->d2l==1.0.3) (1.8.0)\n",
            "Requirement already satisfied: ipython>=7.23.1 in /usr/local/lib/python3.11/dist-packages (from ipykernel->jupyter==1.0.0->d2l==1.0.3) (7.34.0)\n",
            "Requirement already satisfied: jupyter-client>=6.1.12 in /usr/local/lib/python3.11/dist-packages (from ipykernel->jupyter==1.0.0->d2l==1.0.3) (6.1.12)\n",
            "Requirement already satisfied: nest-asyncio in /usr/local/lib/python3.11/dist-packages (from ipykernel->jupyter==1.0.0->d2l==1.0.3) (1.6.0)\n",
            "Requirement already satisfied: psutil in /usr/local/lib/python3.11/dist-packages (from ipykernel->jupyter==1.0.0->d2l==1.0.3) (5.9.5)\n",
            "Requirement already satisfied: pyzmq>=17 in /usr/local/lib/python3.11/dist-packages (from ipykernel->jupyter==1.0.0->d2l==1.0.3) (24.0.1)\n",
            "Requirement already satisfied: tornado>=6.1 in /usr/local/lib/python3.11/dist-packages (from ipykernel->jupyter==1.0.0->d2l==1.0.3) (6.4.2)\n",
            "Requirement already satisfied: ipython-genutils~=0.2.0 in /usr/local/lib/python3.11/dist-packages (from ipywidgets->jupyter==1.0.0->d2l==1.0.3) (0.2.0)\n",
            "Requirement already satisfied: widgetsnbextension~=3.6.0 in /usr/local/lib/python3.11/dist-packages (from ipywidgets->jupyter==1.0.0->d2l==1.0.3) (3.6.10)\n",
            "Requirement already satisfied: jupyterlab-widgets>=1.0.0 in /usr/local/lib/python3.11/dist-packages (from ipywidgets->jupyter==1.0.0->d2l==1.0.3) (3.0.15)\n",
            "Requirement already satisfied: prompt-toolkit!=3.0.0,!=3.0.1,<3.1.0,>=2.0.0 in /usr/local/lib/python3.11/dist-packages (from jupyter-console->jupyter==1.0.0->d2l==1.0.3) (3.0.51)\n",
            "Requirement already satisfied: pygments in /usr/local/lib/python3.11/dist-packages (from jupyter-console->jupyter==1.0.0->d2l==1.0.3) (2.19.2)\n",
            "Requirement already satisfied: beautifulsoup4 in /usr/local/lib/python3.11/dist-packages (from nbconvert->jupyter==1.0.0->d2l==1.0.3) (4.13.4)\n",
            "Requirement already satisfied: bleach!=5.0.0 in /usr/local/lib/python3.11/dist-packages (from bleach[css]!=5.0.0->nbconvert->jupyter==1.0.0->d2l==1.0.3) (6.2.0)\n",
            "Requirement already satisfied: defusedxml in /usr/local/lib/python3.11/dist-packages (from nbconvert->jupyter==1.0.0->d2l==1.0.3) (0.7.1)\n",
            "Requirement already satisfied: jinja2>=3.0 in /usr/local/lib/python3.11/dist-packages (from nbconvert->jupyter==1.0.0->d2l==1.0.3) (3.1.6)\n",
            "Requirement already satisfied: jupyter-core>=4.7 in /usr/local/lib/python3.11/dist-packages (from nbconvert->jupyter==1.0.0->d2l==1.0.3) (5.8.1)\n",
            "Requirement already satisfied: jupyterlab-pygments in /usr/local/lib/python3.11/dist-packages (from nbconvert->jupyter==1.0.0->d2l==1.0.3) (0.3.0)\n",
            "Requirement already satisfied: markupsafe>=2.0 in /usr/local/lib/python3.11/dist-packages (from nbconvert->jupyter==1.0.0->d2l==1.0.3) (3.0.2)\n",
            "Requirement already satisfied: mistune<4,>=2.0.3 in /usr/local/lib/python3.11/dist-packages (from nbconvert->jupyter==1.0.0->d2l==1.0.3) (3.1.3)\n",
            "Requirement already satisfied: nbclient>=0.5.0 in /usr/local/lib/python3.11/dist-packages (from nbconvert->jupyter==1.0.0->d2l==1.0.3) (0.10.2)\n",
            "Requirement already satisfied: nbformat>=5.7 in /usr/local/lib/python3.11/dist-packages (from nbconvert->jupyter==1.0.0->d2l==1.0.3) (5.10.4)\n",
            "Requirement already satisfied: pandocfilters>=1.4.1 in /usr/local/lib/python3.11/dist-packages (from nbconvert->jupyter==1.0.0->d2l==1.0.3) (1.5.1)\n",
            "Requirement already satisfied: argon2-cffi in /usr/local/lib/python3.11/dist-packages (from notebook->jupyter==1.0.0->d2l==1.0.3) (25.1.0)\n",
            "Requirement already satisfied: Send2Trash>=1.8.0 in /usr/local/lib/python3.11/dist-packages (from notebook->jupyter==1.0.0->d2l==1.0.3) (1.8.3)\n",
            "Requirement already satisfied: terminado>=0.8.3 in /usr/local/lib/python3.11/dist-packages (from notebook->jupyter==1.0.0->d2l==1.0.3) (0.18.1)\n",
            "Requirement already satisfied: prometheus-client in /usr/local/lib/python3.11/dist-packages (from notebook->jupyter==1.0.0->d2l==1.0.3) (0.22.1)\n",
            "Requirement already satisfied: nbclassic>=0.4.7 in /usr/local/lib/python3.11/dist-packages (from notebook->jupyter==1.0.0->d2l==1.0.3) (1.3.1)\n",
            "Requirement already satisfied: qtpy>=2.4.0 in /usr/local/lib/python3.11/dist-packages (from qtconsole->jupyter==1.0.0->d2l==1.0.3) (2.4.3)\n",
            "Requirement already satisfied: webencodings in /usr/local/lib/python3.11/dist-packages (from bleach!=5.0.0->bleach[css]!=5.0.0->nbconvert->jupyter==1.0.0->d2l==1.0.3) (0.5.1)\n",
            "Requirement already satisfied: tinycss2<1.5,>=1.1.0 in /usr/local/lib/python3.11/dist-packages (from bleach[css]!=5.0.0->nbconvert->jupyter==1.0.0->d2l==1.0.3) (1.4.0)\n",
            "Requirement already satisfied: setuptools>=18.5 in /usr/local/lib/python3.11/dist-packages (from ipython>=7.23.1->ipykernel->jupyter==1.0.0->d2l==1.0.3) (75.2.0)\n",
            "Requirement already satisfied: jedi>=0.16 in /usr/local/lib/python3.11/dist-packages (from ipython>=7.23.1->ipykernel->jupyter==1.0.0->d2l==1.0.3) (0.19.2)\n",
            "Requirement already satisfied: decorator in /usr/local/lib/python3.11/dist-packages (from ipython>=7.23.1->ipykernel->jupyter==1.0.0->d2l==1.0.3) (4.4.2)\n",
            "Requirement already satisfied: pickleshare in /usr/local/lib/python3.11/dist-packages (from ipython>=7.23.1->ipykernel->jupyter==1.0.0->d2l==1.0.3) (0.7.5)\n",
            "Requirement already satisfied: backcall in /usr/local/lib/python3.11/dist-packages (from ipython>=7.23.1->ipykernel->jupyter==1.0.0->d2l==1.0.3) (0.2.0)\n",
            "Requirement already satisfied: pexpect>4.3 in /usr/local/lib/python3.11/dist-packages (from ipython>=7.23.1->ipykernel->jupyter==1.0.0->d2l==1.0.3) (4.9.0)\n",
            "Requirement already satisfied: platformdirs>=2.5 in /usr/local/lib/python3.11/dist-packages (from jupyter-core>=4.7->nbconvert->jupyter==1.0.0->d2l==1.0.3) (4.3.8)\n",
            "Requirement already satisfied: notebook-shim>=0.2.3 in /usr/local/lib/python3.11/dist-packages (from nbclassic>=0.4.7->notebook->jupyter==1.0.0->d2l==1.0.3) (0.2.4)\n",
            "Requirement already satisfied: fastjsonschema>=2.15 in /usr/local/lib/python3.11/dist-packages (from nbformat>=5.7->nbconvert->jupyter==1.0.0->d2l==1.0.3) (2.21.1)\n",
            "Requirement already satisfied: jsonschema>=2.6 in /usr/local/lib/python3.11/dist-packages (from nbformat>=5.7->nbconvert->jupyter==1.0.0->d2l==1.0.3) (4.24.0)\n",
            "Requirement already satisfied: wcwidth in /usr/local/lib/python3.11/dist-packages (from prompt-toolkit!=3.0.0,!=3.0.1,<3.1.0,>=2.0.0->jupyter-console->jupyter==1.0.0->d2l==1.0.3) (0.2.13)\n",
            "Requirement already satisfied: ptyprocess in /usr/local/lib/python3.11/dist-packages (from terminado>=0.8.3->notebook->jupyter==1.0.0->d2l==1.0.3) (0.7.0)\n",
            "Requirement already satisfied: argon2-cffi-bindings in /usr/local/lib/python3.11/dist-packages (from argon2-cffi->notebook->jupyter==1.0.0->d2l==1.0.3) (21.2.0)\n",
            "Requirement already satisfied: soupsieve>1.2 in /usr/local/lib/python3.11/dist-packages (from beautifulsoup4->nbconvert->jupyter==1.0.0->d2l==1.0.3) (2.7)\n",
            "Requirement already satisfied: typing-extensions>=4.0.0 in /usr/local/lib/python3.11/dist-packages (from beautifulsoup4->nbconvert->jupyter==1.0.0->d2l==1.0.3) (4.14.0)\n",
            "Requirement already satisfied: parso<0.9.0,>=0.8.4 in /usr/local/lib/python3.11/dist-packages (from jedi>=0.16->ipython>=7.23.1->ipykernel->jupyter==1.0.0->d2l==1.0.3) (0.8.4)\n",
            "Requirement already satisfied: attrs>=22.2.0 in /usr/local/lib/python3.11/dist-packages (from jsonschema>=2.6->nbformat>=5.7->nbconvert->jupyter==1.0.0->d2l==1.0.3) (25.3.0)\n",
            "Requirement already satisfied: jsonschema-specifications>=2023.03.6 in /usr/local/lib/python3.11/dist-packages (from jsonschema>=2.6->nbformat>=5.7->nbconvert->jupyter==1.0.0->d2l==1.0.3) (2025.4.1)\n",
            "Requirement already satisfied: referencing>=0.28.4 in /usr/local/lib/python3.11/dist-packages (from jsonschema>=2.6->nbformat>=5.7->nbconvert->jupyter==1.0.0->d2l==1.0.3) (0.36.2)\n",
            "Requirement already satisfied: rpds-py>=0.7.1 in /usr/local/lib/python3.11/dist-packages (from jsonschema>=2.6->nbformat>=5.7->nbconvert->jupyter==1.0.0->d2l==1.0.3) (0.26.0)\n",
            "Requirement already satisfied: jupyter-server<3,>=1.8 in /usr/local/lib/python3.11/dist-packages (from notebook-shim>=0.2.3->nbclassic>=0.4.7->notebook->jupyter==1.0.0->d2l==1.0.3) (1.16.0)\n",
            "Requirement already satisfied: cffi>=1.0.1 in /usr/local/lib/python3.11/dist-packages (from argon2-cffi-bindings->argon2-cffi->notebook->jupyter==1.0.0->d2l==1.0.3) (1.17.1)\n",
            "Requirement already satisfied: pycparser in /usr/local/lib/python3.11/dist-packages (from cffi>=1.0.1->argon2-cffi-bindings->argon2-cffi->notebook->jupyter==1.0.0->d2l==1.0.3) (2.22)\n",
            "Requirement already satisfied: anyio>=3.1.0 in /usr/local/lib/python3.11/dist-packages (from jupyter-server<3,>=1.8->notebook-shim>=0.2.3->nbclassic>=0.4.7->notebook->jupyter==1.0.0->d2l==1.0.3) (4.9.0)\n",
            "Requirement already satisfied: websocket-client in /usr/local/lib/python3.11/dist-packages (from jupyter-server<3,>=1.8->notebook-shim>=0.2.3->nbclassic>=0.4.7->notebook->jupyter==1.0.0->d2l==1.0.3) (1.8.0)\n",
            "Requirement already satisfied: sniffio>=1.1 in /usr/local/lib/python3.11/dist-packages (from anyio>=3.1.0->jupyter-server<3,>=1.8->notebook-shim>=0.2.3->nbclassic>=0.4.7->notebook->jupyter==1.0.0->d2l==1.0.3) (1.3.1)\n"
          ]
        }
      ],
      "source": [
        "!pip install d2l==1.0.3\n"
      ]
    },
    {
      "cell_type": "markdown",
      "id": "3aa97d87",
      "metadata": {
        "origin_pos": 1,
        "id": "3aa97d87"
      },
      "source": [
        "# Linear Regression Implementation from Scratch\n",
        ":label:`sec_linear_scratch`\n",
        "\n",
        "We are now ready to work through\n",
        "a fully functioning implementation\n",
        "of linear regression.\n",
        "In this section,\n",
        "(**we will implement the entire method from scratch,\n",
        "including (i) the model; (ii) the loss function;\n",
        "(iii) a minibatch stochastic gradient descent optimizer;\n",
        "and (iv) the training function\n",
        "that stitches all of these pieces together.**)\n",
        "Finally, we will run our synthetic data generator\n",
        "from :numref:`sec_synthetic-regression-data`\n",
        "and apply our model\n",
        "on the resulting dataset.\n",
        "While modern deep learning frameworks\n",
        "can automate nearly all of this work,\n",
        "implementing things from scratch is the only way\n",
        "to make sure that you really know what you are doing.\n",
        "Moreover, when it is time to customize models,\n",
        "defining our own layers or loss functions,\n",
        "understanding how things work under the hood will prove handy.\n",
        "In this section, we will rely only\n",
        "on tensors and automatic differentiation.\n",
        "Later, we will introduce a more concise implementation,\n",
        "taking advantage of the bells and whistles of deep learning frameworks\n",
        "while retaining the structure of what follows below.\n"
      ]
    },
    {
      "cell_type": "code",
      "execution_count": 2,
      "id": "e05d8aba",
      "metadata": {
        "attributes": {
          "classes": [],
          "id": "",
          "n": "3"
        },
        "execution": {
          "iopub.execute_input": "2023-08-18T19:42:51.015606Z",
          "iopub.status.busy": "2023-08-18T19:42:51.014819Z",
          "iopub.status.idle": "2023-08-18T19:42:54.292743Z",
          "shell.execute_reply": "2023-08-18T19:42:54.291780Z"
        },
        "origin_pos": 3,
        "tab": [
          "pytorch"
        ],
        "id": "e05d8aba"
      },
      "outputs": [],
      "source": [
        "%matplotlib inline\n",
        "import torch\n",
        "from d2l import torch as d2l"
      ]
    },
    {
      "cell_type": "markdown",
      "id": "caf49f7e",
      "metadata": {
        "origin_pos": 6,
        "id": "caf49f7e"
      },
      "source": [
        "## Defining the Model\n",
        "\n",
        "[**Before we can begin optimizing our model's parameters**] by minibatch SGD,\n",
        "(**we need to have some parameters in the first place.**)\n",
        "In the following we initialize weights by drawing\n",
        "random numbers from a normal distribution with mean 0\n",
        "and a standard deviation of 0.01.\n",
        "The magic number 0.01 often works well in practice,\n",
        "but you can specify a different value\n",
        "through the argument `sigma`.\n",
        "Moreover we set the bias to 0.\n",
        "Note that for object-oriented design\n",
        "we add the code to the `__init__` method of a subclass of `d2l.Module` (introduced in :numref:`subsec_oo-design-models`).\n"
      ]
    },
    {
      "cell_type": "code",
      "execution_count": 3,
      "id": "d007e745",
      "metadata": {
        "attributes": {
          "classes": [],
          "id": "",
          "n": "6"
        },
        "execution": {
          "iopub.execute_input": "2023-08-18T19:42:54.297196Z",
          "iopub.status.busy": "2023-08-18T19:42:54.296343Z",
          "iopub.status.idle": "2023-08-18T19:42:54.302370Z",
          "shell.execute_reply": "2023-08-18T19:42:54.301603Z"
        },
        "origin_pos": 7,
        "tab": [
          "pytorch"
        ],
        "id": "d007e745"
      },
      "outputs": [],
      "source": [
        "class LinearRegressionScratch(d2l.Module):  #@save\n",
        "    \"\"\"The linear regression model implemented from scratch.\"\"\"\n",
        "    def __init__(self, num_inputs, lr, sigma=0.01):\n",
        "        super().__init__()\n",
        "        self.save_hyperparameters()\n",
        "        self.w = torch.normal(0, sigma, (num_inputs, 1), requires_grad=True)\n",
        "        self.b = torch.zeros(1, requires_grad=True)"
      ]
    },
    {
      "cell_type": "markdown",
      "id": "71097a3f",
      "metadata": {
        "origin_pos": 9,
        "id": "71097a3f"
      },
      "source": [
        "Next we must [**define our model,\n",
        "relating its input and parameters to its output.**]\n",
        "Using the same notation as :eqref:`eq_linreg-y-vec`\n",
        "for our linear model we simply take the matrix--vector product\n",
        "of the input features $\\mathbf{X}$\n",
        "and the model weights $\\mathbf{w}$,\n",
        "and add the offset $b$ to each example.\n",
        "The product $\\mathbf{Xw}$ is a vector and $b$ is a scalar.\n",
        "Because of the broadcasting mechanism\n",
        "(see :numref:`subsec_broadcasting`),\n",
        "when we add a vector and a scalar,\n",
        "the scalar is added to each component of the vector.\n",
        "The resulting `forward` method\n",
        "is registered in the `LinearRegressionScratch` class\n",
        "via `add_to_class` (introduced in :numref:`oo-design-utilities`).\n"
      ]
    },
    {
      "cell_type": "code",
      "execution_count": 4,
      "id": "1306d051",
      "metadata": {
        "attributes": {
          "classes": [],
          "id": "",
          "n": "8"
        },
        "execution": {
          "iopub.execute_input": "2023-08-18T19:42:54.305721Z",
          "iopub.status.busy": "2023-08-18T19:42:54.305204Z",
          "iopub.status.idle": "2023-08-18T19:42:54.309765Z",
          "shell.execute_reply": "2023-08-18T19:42:54.308692Z"
        },
        "origin_pos": 10,
        "tab": [
          "pytorch"
        ],
        "id": "1306d051"
      },
      "outputs": [],
      "source": [
        "@d2l.add_to_class(LinearRegressionScratch)  #@save\n",
        "def forward(self, X):\n",
        "    return torch.matmul(X, self.w) + self.b"
      ]
    },
    {
      "cell_type": "markdown",
      "id": "e939c258",
      "metadata": {
        "origin_pos": 11,
        "id": "e939c258"
      },
      "source": [
        "## Defining the Loss Function\n",
        "\n",
        "Since [**updating our model requires taking\n",
        "the gradient of our loss function,**]\n",
        "we ought to (**define the loss function first.**)\n",
        "Here we use the squared loss function\n",
        "in :eqref:`eq_mse`.\n",
        "In the implementation, we need to transform the true value `y`\n",
        "into the predicted value's shape `y_hat`.\n",
        "The result returned by the following method\n",
        "will also have the same shape as `y_hat`.\n",
        "We also return the averaged loss value\n",
        "among all examples in the minibatch.\n"
      ]
    },
    {
      "cell_type": "code",
      "execution_count": 39,
      "id": "6509851d",
      "metadata": {
        "attributes": {
          "classes": [],
          "id": "",
          "n": "9"
        },
        "execution": {
          "iopub.execute_input": "2023-08-18T19:42:54.313880Z",
          "iopub.status.busy": "2023-08-18T19:42:54.313169Z",
          "iopub.status.idle": "2023-08-18T19:42:54.318867Z",
          "shell.execute_reply": "2023-08-18T19:42:54.317836Z"
        },
        "origin_pos": 12,
        "tab": [
          "pytorch"
        ],
        "id": "6509851d"
      },
      "outputs": [],
      "source": [
        "@d2l.add_to_class(LinearRegressionScratch)  #@save\n",
        "def loss(self, y_hat, y):\n",
        "    l = (y_hat - y).abs()\n",
        "    return l.mean()"
      ]
    },
    {
      "cell_type": "markdown",
      "id": "4285b751",
      "metadata": {
        "origin_pos": 14,
        "id": "4285b751"
      },
      "source": [
        "## Defining the Optimization Algorithm\n",
        "\n",
        "As discussed in :numref:`sec_linear_regression`,\n",
        "linear regression has a closed-form solution.\n",
        "However, our goal here is to illustrate\n",
        "how to train more general neural networks,\n",
        "and that requires that we teach you\n",
        "how to use minibatch SGD.\n",
        "Hence we will take this opportunity\n",
        "to introduce your first working example of SGD.\n",
        "At each step, using a minibatch\n",
        "randomly drawn from our dataset,\n",
        "we estimate the gradient of the loss\n",
        "with respect to the parameters.\n",
        "Next, we update the parameters\n",
        "in the direction that may reduce the loss.\n",
        "\n",
        "The following code applies the update,\n",
        "given a set of parameters, a learning rate `lr`.\n",
        "Since our loss is computed as an average over the minibatch,\n",
        "we do not need to adjust the learning rate against the batch size.\n",
        "In later chapters we will investigate\n",
        "how learning rates should be adjusted\n",
        "for very large minibatches as they arise\n",
        "in distributed large-scale learning.\n",
        "For now, we can ignore this dependency.\n"
      ]
    },
    {
      "cell_type": "markdown",
      "id": "fb3bc263",
      "metadata": {
        "origin_pos": 16,
        "tab": [
          "pytorch"
        ],
        "id": "fb3bc263"
      },
      "source": [
        "We define our `SGD` class,\n",
        "a subclass of `d2l.HyperParameters` (introduced in :numref:`oo-design-utilities`),\n",
        "to have a similar API\n",
        "as the built-in SGD optimizer.\n",
        "We update the parameters in the `step` method.\n",
        "The `zero_grad` method sets all gradients to 0,\n",
        "which must be run before a backpropagation step.\n"
      ]
    },
    {
      "cell_type": "code",
      "execution_count": 40,
      "id": "ee40ef54",
      "metadata": {
        "attributes": {
          "classes": [],
          "id": "",
          "n": "11"
        },
        "execution": {
          "iopub.execute_input": "2023-08-18T19:42:54.322951Z",
          "iopub.status.busy": "2023-08-18T19:42:54.322264Z",
          "iopub.status.idle": "2023-08-18T19:42:54.329600Z",
          "shell.execute_reply": "2023-08-18T19:42:54.328587Z"
        },
        "origin_pos": 18,
        "tab": [
          "pytorch"
        ],
        "id": "ee40ef54"
      },
      "outputs": [],
      "source": [
        "class SGD(d2l.HyperParameters):  #@save\n",
        "    \"\"\"Minibatch stochastic gradient descent.\"\"\"\n",
        "    def __init__(self, params, lr):\n",
        "        self.save_hyperparameters()\n",
        "\n",
        "    def step(self):\n",
        "        for param in self.params:\n",
        "            param -= self.lr * param.grad\n",
        "\n",
        "    def zero_grad(self):\n",
        "        for param in self.params:\n",
        "            if param.grad is not None:\n",
        "                param.grad.zero_()"
      ]
    },
    {
      "cell_type": "markdown",
      "id": "00c390bf",
      "metadata": {
        "origin_pos": 21,
        "id": "00c390bf"
      },
      "source": [
        "We next define the `configure_optimizers` method, which returns an instance of the `SGD` class.\n"
      ]
    },
    {
      "cell_type": "code",
      "execution_count": 41,
      "id": "8a5a3a40",
      "metadata": {
        "attributes": {
          "classes": [],
          "id": "",
          "n": "14"
        },
        "execution": {
          "iopub.execute_input": "2023-08-18T19:42:54.333602Z",
          "iopub.status.busy": "2023-08-18T19:42:54.332931Z",
          "iopub.status.idle": "2023-08-18T19:42:54.338188Z",
          "shell.execute_reply": "2023-08-18T19:42:54.336975Z"
        },
        "origin_pos": 22,
        "tab": [
          "pytorch"
        ],
        "id": "8a5a3a40"
      },
      "outputs": [],
      "source": [
        "@d2l.add_to_class(LinearRegressionScratch)  #@save\n",
        "def configure_optimizers(self):\n",
        "    return SGD([self.w, self.b], self.lr)"
      ]
    },
    {
      "cell_type": "markdown",
      "id": "a965a93a",
      "metadata": {
        "origin_pos": 23,
        "id": "a965a93a"
      },
      "source": [
        "## Training\n",
        "\n",
        "Now that we have all of the parts in place\n",
        "(parameters, loss function, model, and optimizer),\n",
        "we are ready to [**implement the main training loop.**]\n",
        "It is crucial that you understand this code fully\n",
        "since you will employ similar training loops\n",
        "for every other deep learning model\n",
        "covered in this book.\n",
        "In each *epoch*, we iterate through\n",
        "the entire training dataset,\n",
        "passing once through every example\n",
        "(assuming that the number of examples\n",
        "is divisible by the batch size).\n",
        "In each *iteration*, we grab a minibatch of training examples,\n",
        "and compute its loss through the model's `training_step` method.\n",
        "Then we compute the gradients with respect to each parameter.\n",
        "Finally, we will call the optimization algorithm\n",
        "to update the model parameters.\n",
        "In summary, we will execute the following loop:\n",
        "\n",
        "* Initialize parameters $(\\mathbf{w}, b)$\n",
        "* Repeat until done\n",
        "    * Compute gradient $\\mathbf{g} \\leftarrow \\partial_{(\\mathbf{w},b)} \\frac{1}{|\\mathcal{B}|} \\sum_{i \\in \\mathcal{B}} l(\\mathbf{x}^{(i)}, y^{(i)}, \\mathbf{w}, b)$\n",
        "    * Update parameters $(\\mathbf{w}, b) \\leftarrow (\\mathbf{w}, b) - \\eta \\mathbf{g}$\n",
        "\n",
        "Recall that the synthetic regression dataset\n",
        "that we generated in :numref:``sec_synthetic-regression-data``\n",
        "does not provide a validation dataset.\n",
        "In most cases, however,\n",
        "we will want a validation dataset\n",
        "to measure our model quality.\n",
        "Here we pass the validation dataloader\n",
        "once in each epoch to measure the model performance.\n",
        "Following our object-oriented design,\n",
        "the `prepare_batch` and `fit_epoch` methods\n",
        "are registered in the `d2l.Trainer` class\n",
        "(introduced in :numref:`oo-design-training`).\n"
      ]
    },
    {
      "cell_type": "code",
      "execution_count": 42,
      "id": "0c422c5b",
      "metadata": {
        "attributes": {
          "classes": [],
          "id": "",
          "n": "15"
        },
        "execution": {
          "iopub.execute_input": "2023-08-18T19:42:54.342007Z",
          "iopub.status.busy": "2023-08-18T19:42:54.341174Z",
          "iopub.status.idle": "2023-08-18T19:42:54.345995Z",
          "shell.execute_reply": "2023-08-18T19:42:54.344948Z"
        },
        "origin_pos": 24,
        "tab": [
          "pytorch"
        ],
        "id": "0c422c5b"
      },
      "outputs": [],
      "source": [
        "@d2l.add_to_class(d2l.Trainer)  #@save\n",
        "def prepare_batch(self, batch):\n",
        "    return batch"
      ]
    },
    {
      "cell_type": "code",
      "execution_count": 43,
      "id": "9f43b679",
      "metadata": {
        "attributes": {
          "classes": [],
          "id": "",
          "n": "16"
        },
        "execution": {
          "iopub.execute_input": "2023-08-18T19:42:54.349687Z",
          "iopub.status.busy": "2023-08-18T19:42:54.348979Z",
          "iopub.status.idle": "2023-08-18T19:42:54.355255Z",
          "shell.execute_reply": "2023-08-18T19:42:54.354485Z"
        },
        "origin_pos": 25,
        "tab": [
          "pytorch"
        ],
        "id": "9f43b679"
      },
      "outputs": [],
      "source": [
        "@d2l.add_to_class(d2l.Trainer)  #@save\n",
        "def fit_epoch(self):\n",
        "    self.model.train()\n",
        "    for batch in self.train_dataloader:\n",
        "        loss = self.model.training_step(self.prepare_batch(batch))\n",
        "        self.optim.zero_grad()\n",
        "        with torch.no_grad():\n",
        "            loss.backward()\n",
        "            if self.gradient_clip_val > 0:  # To be discussed later\n",
        "                self.clip_gradients(self.gradient_clip_val, self.model)\n",
        "            self.optim.step()\n",
        "        self.train_batch_idx += 1\n",
        "    if self.val_dataloader is None:\n",
        "        return\n",
        "    self.model.eval()\n",
        "    for batch in self.val_dataloader:\n",
        "        with torch.no_grad():\n",
        "            self.model.validation_step(self.prepare_batch(batch))\n",
        "        self.val_batch_idx += 1"
      ]
    },
    {
      "cell_type": "markdown",
      "id": "b9fc0166",
      "metadata": {
        "origin_pos": 29,
        "id": "b9fc0166"
      },
      "source": [
        "We are almost ready to train the model,\n",
        "but first we need some training data.\n",
        "Here we use the `SyntheticRegressionData` class\n",
        "and pass in some ground truth parameters.\n",
        "Then we train our model with\n",
        "the learning rate `lr=0.03`\n",
        "and set `max_epochs=3`.\n",
        "Note that in general, both the number of epochs\n",
        "and the learning rate are hyperparameters.\n",
        "In general, setting hyperparameters is tricky\n",
        "and we will usually want to use a three-way split,\n",
        "one set for training,\n",
        "a second for hyperparameter selection,\n",
        "and the third reserved for the final evaluation.\n",
        "We elide these details for now but will revise them\n",
        "later.\n"
      ]
    },
    {
      "cell_type": "code",
      "execution_count": 64,
      "id": "d45852e3",
      "metadata": {
        "attributes": {
          "classes": [],
          "id": "",
          "n": "20"
        },
        "execution": {
          "iopub.execute_input": "2023-08-18T19:42:54.359835Z",
          "iopub.status.busy": "2023-08-18T19:42:54.359070Z",
          "iopub.status.idle": "2023-08-18T19:42:56.328769Z",
          "shell.execute_reply": "2023-08-18T19:42:56.327907Z"
        },
        "origin_pos": 30,
        "tab": [
          "pytorch"
        ],
        "colab": {
          "base_uri": "https://localhost:8080/",
          "height": 265
        },
        "id": "d45852e3",
        "outputId": "196d749b-6172-4595-e0b7-b92f36f8d4be"
      },
      "outputs": [
        {
          "output_type": "display_data",
          "data": {
            "text/plain": [
              "<Figure size 350x250 with 1 Axes>"
            ],
            "image/svg+xml": "<?xml version=\"1.0\" encoding=\"utf-8\" standalone=\"no\"?>\n<!DOCTYPE svg PUBLIC \"-//W3C//DTD SVG 1.1//EN\"\n  \"http://www.w3.org/Graphics/SVG/1.1/DTD/svg11.dtd\">\n<svg xmlns:xlink=\"http://www.w3.org/1999/xlink\" width=\"235.784375pt\" height=\"183.35625pt\" viewBox=\"0 0 235.784375 183.35625\" xmlns=\"http://www.w3.org/2000/svg\" version=\"1.1\">\n <metadata>\n  <rdf:RDF xmlns:dc=\"http://purl.org/dc/elements/1.1/\" xmlns:cc=\"http://creativecommons.org/ns#\" xmlns:rdf=\"http://www.w3.org/1999/02/22-rdf-syntax-ns#\">\n   <cc:Work>\n    <dc:type rdf:resource=\"http://purl.org/dc/dcmitype/StillImage\"/>\n    <dc:date>2025-07-03T03:54:21.309359</dc:date>\n    <dc:format>image/svg+xml</dc:format>\n    <dc:creator>\n     <cc:Agent>\n      <dc:title>Matplotlib v3.7.2, https://matplotlib.org/</dc:title>\n     </cc:Agent>\n    </dc:creator>\n   </cc:Work>\n  </rdf:RDF>\n </metadata>\n <defs>\n  <style type=\"text/css\">*{stroke-linejoin: round; stroke-linecap: butt}</style>\n </defs>\n <g id=\"figure_1\">\n  <g id=\"patch_1\">\n   <path d=\"M 0 183.35625 \nL 235.784375 183.35625 \nL 235.784375 0 \nL 0 0 \nz\n\" style=\"fill: #ffffff\"/>\n  </g>\n  <g id=\"axes_1\">\n   <g id=\"patch_2\">\n    <path d=\"M 30.103125 145.8 \nL 225.403125 145.8 \nL 225.403125 7.2 \nL 30.103125 7.2 \nz\n\" style=\"fill: #ffffff\"/>\n   </g>\n   <g id=\"matplotlib.axis_1\">\n    <g id=\"xtick_1\">\n     <g id=\"line2d_1\">\n      <defs>\n       <path id=\"m42a92882cb\" d=\"M 0 0 \nL 0 3.5 \n\" style=\"stroke: #000000; stroke-width: 0.8\"/>\n      </defs>\n      <g>\n       <use xlink:href=\"#m42a92882cb\" x=\"30.103125\" y=\"145.8\" style=\"stroke: #000000; stroke-width: 0.8\"/>\n      </g>\n     </g>\n     <g id=\"text_1\">\n      <!-- 0 -->\n      <g transform=\"translate(26.921875 160.398438) scale(0.1 -0.1)\">\n       <defs>\n        <path id=\"DejaVuSans-30\" d=\"M 2034 4250 \nQ 1547 4250 1301 3770 \nQ 1056 3291 1056 2328 \nQ 1056 1369 1301 889 \nQ 1547 409 2034 409 \nQ 2525 409 2770 889 \nQ 3016 1369 3016 2328 \nQ 3016 3291 2770 3770 \nQ 2525 4250 2034 4250 \nz\nM 2034 4750 \nQ 2819 4750 3233 4129 \nQ 3647 3509 3647 2328 \nQ 3647 1150 3233 529 \nQ 2819 -91 2034 -91 \nQ 1250 -91 836 529 \nQ 422 1150 422 2328 \nQ 422 3509 836 4129 \nQ 1250 4750 2034 4750 \nz\n\" transform=\"scale(0.015625)\"/>\n       </defs>\n       <use xlink:href=\"#DejaVuSans-30\"/>\n      </g>\n     </g>\n    </g>\n    <g id=\"xtick_2\">\n     <g id=\"line2d_2\">\n      <g>\n       <use xlink:href=\"#m42a92882cb\" x=\"78.928125\" y=\"145.8\" style=\"stroke: #000000; stroke-width: 0.8\"/>\n      </g>\n     </g>\n     <g id=\"text_2\">\n      <!-- 1 -->\n      <g transform=\"translate(75.746875 160.398438) scale(0.1 -0.1)\">\n       <defs>\n        <path id=\"DejaVuSans-31\" d=\"M 794 531 \nL 1825 531 \nL 1825 4091 \nL 703 3866 \nL 703 4441 \nL 1819 4666 \nL 2450 4666 \nL 2450 531 \nL 3481 531 \nL 3481 0 \nL 794 0 \nL 794 531 \nz\n\" transform=\"scale(0.015625)\"/>\n       </defs>\n       <use xlink:href=\"#DejaVuSans-31\"/>\n      </g>\n     </g>\n    </g>\n    <g id=\"xtick_3\">\n     <g id=\"line2d_3\">\n      <g>\n       <use xlink:href=\"#m42a92882cb\" x=\"127.753125\" y=\"145.8\" style=\"stroke: #000000; stroke-width: 0.8\"/>\n      </g>\n     </g>\n     <g id=\"text_3\">\n      <!-- 2 -->\n      <g transform=\"translate(124.571875 160.398438) scale(0.1 -0.1)\">\n       <defs>\n        <path id=\"DejaVuSans-32\" d=\"M 1228 531 \nL 3431 531 \nL 3431 0 \nL 469 0 \nL 469 531 \nQ 828 903 1448 1529 \nQ 2069 2156 2228 2338 \nQ 2531 2678 2651 2914 \nQ 2772 3150 2772 3378 \nQ 2772 3750 2511 3984 \nQ 2250 4219 1831 4219 \nQ 1534 4219 1204 4116 \nQ 875 4013 500 3803 \nL 500 4441 \nQ 881 4594 1212 4672 \nQ 1544 4750 1819 4750 \nQ 2544 4750 2975 4387 \nQ 3406 4025 3406 3419 \nQ 3406 3131 3298 2873 \nQ 3191 2616 2906 2266 \nQ 2828 2175 2409 1742 \nQ 1991 1309 1228 531 \nz\n\" transform=\"scale(0.015625)\"/>\n       </defs>\n       <use xlink:href=\"#DejaVuSans-32\"/>\n      </g>\n     </g>\n    </g>\n    <g id=\"xtick_4\">\n     <g id=\"line2d_4\">\n      <g>\n       <use xlink:href=\"#m42a92882cb\" x=\"176.578125\" y=\"145.8\" style=\"stroke: #000000; stroke-width: 0.8\"/>\n      </g>\n     </g>\n     <g id=\"text_4\">\n      <!-- 3 -->\n      <g transform=\"translate(173.396875 160.398438) scale(0.1 -0.1)\">\n       <defs>\n        <path id=\"DejaVuSans-33\" d=\"M 2597 2516 \nQ 3050 2419 3304 2112 \nQ 3559 1806 3559 1356 \nQ 3559 666 3084 287 \nQ 2609 -91 1734 -91 \nQ 1441 -91 1130 -33 \nQ 819 25 488 141 \nL 488 750 \nQ 750 597 1062 519 \nQ 1375 441 1716 441 \nQ 2309 441 2620 675 \nQ 2931 909 2931 1356 \nQ 2931 1769 2642 2001 \nQ 2353 2234 1838 2234 \nL 1294 2234 \nL 1294 2753 \nL 1863 2753 \nQ 2328 2753 2575 2939 \nQ 2822 3125 2822 3475 \nQ 2822 3834 2567 4026 \nQ 2313 4219 1838 4219 \nQ 1578 4219 1281 4162 \nQ 984 4106 628 3988 \nL 628 4550 \nQ 988 4650 1302 4700 \nQ 1616 4750 1894 4750 \nQ 2613 4750 3031 4423 \nQ 3450 4097 3450 3541 \nQ 3450 3153 3228 2886 \nQ 3006 2619 2597 2516 \nz\n\" transform=\"scale(0.015625)\"/>\n       </defs>\n       <use xlink:href=\"#DejaVuSans-33\"/>\n      </g>\n     </g>\n    </g>\n    <g id=\"xtick_5\">\n     <g id=\"line2d_5\">\n      <g>\n       <use xlink:href=\"#m42a92882cb\" x=\"225.403125\" y=\"145.8\" style=\"stroke: #000000; stroke-width: 0.8\"/>\n      </g>\n     </g>\n     <g id=\"text_5\">\n      <!-- 4 -->\n      <g transform=\"translate(222.221875 160.398438) scale(0.1 -0.1)\">\n       <defs>\n        <path id=\"DejaVuSans-34\" d=\"M 2419 4116 \nL 825 1625 \nL 2419 1625 \nL 2419 4116 \nz\nM 2253 4666 \nL 3047 4666 \nL 3047 1625 \nL 3713 1625 \nL 3713 1100 \nL 3047 1100 \nL 3047 0 \nL 2419 0 \nL 2419 1100 \nL 313 1100 \nL 313 1709 \nL 2253 4666 \nz\n\" transform=\"scale(0.015625)\"/>\n       </defs>\n       <use xlink:href=\"#DejaVuSans-34\"/>\n      </g>\n     </g>\n    </g>\n    <g id=\"text_6\">\n     <!-- epoch -->\n     <g transform=\"translate(112.525 174.076563) scale(0.1 -0.1)\">\n      <defs>\n       <path id=\"DejaVuSans-65\" d=\"M 3597 1894 \nL 3597 1613 \nL 953 1613 \nQ 991 1019 1311 708 \nQ 1631 397 2203 397 \nQ 2534 397 2845 478 \nQ 3156 559 3463 722 \nL 3463 178 \nQ 3153 47 2828 -22 \nQ 2503 -91 2169 -91 \nQ 1331 -91 842 396 \nQ 353 884 353 1716 \nQ 353 2575 817 3079 \nQ 1281 3584 2069 3584 \nQ 2775 3584 3186 3129 \nQ 3597 2675 3597 1894 \nz\nM 3022 2063 \nQ 3016 2534 2758 2815 \nQ 2500 3097 2075 3097 \nQ 1594 3097 1305 2825 \nQ 1016 2553 972 2059 \nL 3022 2063 \nz\n\" transform=\"scale(0.015625)\"/>\n       <path id=\"DejaVuSans-70\" d=\"M 1159 525 \nL 1159 -1331 \nL 581 -1331 \nL 581 3500 \nL 1159 3500 \nL 1159 2969 \nQ 1341 3281 1617 3432 \nQ 1894 3584 2278 3584 \nQ 2916 3584 3314 3078 \nQ 3713 2572 3713 1747 \nQ 3713 922 3314 415 \nQ 2916 -91 2278 -91 \nQ 1894 -91 1617 61 \nQ 1341 213 1159 525 \nz\nM 3116 1747 \nQ 3116 2381 2855 2742 \nQ 2594 3103 2138 3103 \nQ 1681 3103 1420 2742 \nQ 1159 2381 1159 1747 \nQ 1159 1113 1420 752 \nQ 1681 391 2138 391 \nQ 2594 391 2855 752 \nQ 3116 1113 3116 1747 \nz\n\" transform=\"scale(0.015625)\"/>\n       <path id=\"DejaVuSans-6f\" d=\"M 1959 3097 \nQ 1497 3097 1228 2736 \nQ 959 2375 959 1747 \nQ 959 1119 1226 758 \nQ 1494 397 1959 397 \nQ 2419 397 2687 759 \nQ 2956 1122 2956 1747 \nQ 2956 2369 2687 2733 \nQ 2419 3097 1959 3097 \nz\nM 1959 3584 \nQ 2709 3584 3137 3096 \nQ 3566 2609 3566 1747 \nQ 3566 888 3137 398 \nQ 2709 -91 1959 -91 \nQ 1206 -91 779 398 \nQ 353 888 353 1747 \nQ 353 2609 779 3096 \nQ 1206 3584 1959 3584 \nz\n\" transform=\"scale(0.015625)\"/>\n       <path id=\"DejaVuSans-63\" d=\"M 3122 3366 \nL 3122 2828 \nQ 2878 2963 2633 3030 \nQ 2388 3097 2138 3097 \nQ 1578 3097 1268 2742 \nQ 959 2388 959 1747 \nQ 959 1106 1268 751 \nQ 1578 397 2138 397 \nQ 2388 397 2633 464 \nQ 2878 531 3122 666 \nL 3122 134 \nQ 2881 22 2623 -34 \nQ 2366 -91 2075 -91 \nQ 1284 -91 818 406 \nQ 353 903 353 1747 \nQ 353 2603 823 3093 \nQ 1294 3584 2113 3584 \nQ 2378 3584 2631 3529 \nQ 2884 3475 3122 3366 \nz\n\" transform=\"scale(0.015625)\"/>\n       <path id=\"DejaVuSans-68\" d=\"M 3513 2113 \nL 3513 0 \nL 2938 0 \nL 2938 2094 \nQ 2938 2591 2744 2837 \nQ 2550 3084 2163 3084 \nQ 1697 3084 1428 2787 \nQ 1159 2491 1159 1978 \nL 1159 0 \nL 581 0 \nL 581 4863 \nL 1159 4863 \nL 1159 2956 \nQ 1366 3272 1645 3428 \nQ 1925 3584 2291 3584 \nQ 2894 3584 3203 3211 \nQ 3513 2838 3513 2113 \nz\n\" transform=\"scale(0.015625)\"/>\n      </defs>\n      <use xlink:href=\"#DejaVuSans-65\"/>\n      <use xlink:href=\"#DejaVuSans-70\" x=\"61.523438\"/>\n      <use xlink:href=\"#DejaVuSans-6f\" x=\"125\"/>\n      <use xlink:href=\"#DejaVuSans-63\" x=\"186.181641\"/>\n      <use xlink:href=\"#DejaVuSans-68\" x=\"241.162109\"/>\n     </g>\n    </g>\n   </g>\n   <g id=\"matplotlib.axis_2\">\n    <g id=\"ytick_1\">\n     <g id=\"line2d_6\">\n      <defs>\n       <path id=\"m9511763dd0\" d=\"M 0 0 \nL -3.5 0 \n\" style=\"stroke: #000000; stroke-width: 0.8\"/>\n      </defs>\n      <g>\n       <use xlink:href=\"#m9511763dd0\" x=\"30.103125\" y=\"131.615608\" style=\"stroke: #000000; stroke-width: 0.8\"/>\n      </g>\n     </g>\n     <g id=\"text_7\">\n      <!-- 3.8 -->\n      <g transform=\"translate(7.2 135.414827) scale(0.1 -0.1)\">\n       <defs>\n        <path id=\"DejaVuSans-2e\" d=\"M 684 794 \nL 1344 794 \nL 1344 0 \nL 684 0 \nL 684 794 \nz\n\" transform=\"scale(0.015625)\"/>\n        <path id=\"DejaVuSans-38\" d=\"M 2034 2216 \nQ 1584 2216 1326 1975 \nQ 1069 1734 1069 1313 \nQ 1069 891 1326 650 \nQ 1584 409 2034 409 \nQ 2484 409 2743 651 \nQ 3003 894 3003 1313 \nQ 3003 1734 2745 1975 \nQ 2488 2216 2034 2216 \nz\nM 1403 2484 \nQ 997 2584 770 2862 \nQ 544 3141 544 3541 \nQ 544 4100 942 4425 \nQ 1341 4750 2034 4750 \nQ 2731 4750 3128 4425 \nQ 3525 4100 3525 3541 \nQ 3525 3141 3298 2862 \nQ 3072 2584 2669 2484 \nQ 3125 2378 3379 2068 \nQ 3634 1759 3634 1313 \nQ 3634 634 3220 271 \nQ 2806 -91 2034 -91 \nQ 1263 -91 848 271 \nQ 434 634 434 1313 \nQ 434 1759 690 2068 \nQ 947 2378 1403 2484 \nz\nM 1172 3481 \nQ 1172 3119 1398 2916 \nQ 1625 2713 2034 2713 \nQ 2441 2713 2670 2916 \nQ 2900 3119 2900 3481 \nQ 2900 3844 2670 4047 \nQ 2441 4250 2034 4250 \nQ 1625 4250 1398 4047 \nQ 1172 3844 1172 3481 \nz\n\" transform=\"scale(0.015625)\"/>\n       </defs>\n       <use xlink:href=\"#DejaVuSans-33\"/>\n       <use xlink:href=\"#DejaVuSans-2e\" x=\"63.623047\"/>\n       <use xlink:href=\"#DejaVuSans-38\" x=\"95.410156\"/>\n      </g>\n     </g>\n    </g>\n    <g id=\"ytick_2\">\n     <g id=\"line2d_7\">\n      <g>\n       <use xlink:href=\"#m9511763dd0\" x=\"30.103125\" y=\"107.862847\" style=\"stroke: #000000; stroke-width: 0.8\"/>\n      </g>\n     </g>\n     <g id=\"text_8\">\n      <!-- 4.0 -->\n      <g transform=\"translate(7.2 111.662066) scale(0.1 -0.1)\">\n       <use xlink:href=\"#DejaVuSans-34\"/>\n       <use xlink:href=\"#DejaVuSans-2e\" x=\"63.623047\"/>\n       <use xlink:href=\"#DejaVuSans-30\" x=\"95.410156\"/>\n      </g>\n     </g>\n    </g>\n    <g id=\"ytick_3\">\n     <g id=\"line2d_8\">\n      <g>\n       <use xlink:href=\"#m9511763dd0\" x=\"30.103125\" y=\"84.110087\" style=\"stroke: #000000; stroke-width: 0.8\"/>\n      </g>\n     </g>\n     <g id=\"text_9\">\n      <!-- 4.2 -->\n      <g transform=\"translate(7.2 87.909305) scale(0.1 -0.1)\">\n       <use xlink:href=\"#DejaVuSans-34\"/>\n       <use xlink:href=\"#DejaVuSans-2e\" x=\"63.623047\"/>\n       <use xlink:href=\"#DejaVuSans-32\" x=\"95.410156\"/>\n      </g>\n     </g>\n    </g>\n    <g id=\"ytick_4\">\n     <g id=\"line2d_9\">\n      <g>\n       <use xlink:href=\"#m9511763dd0\" x=\"30.103125\" y=\"60.357326\" style=\"stroke: #000000; stroke-width: 0.8\"/>\n      </g>\n     </g>\n     <g id=\"text_10\">\n      <!-- 4.4 -->\n      <g transform=\"translate(7.2 64.156545) scale(0.1 -0.1)\">\n       <use xlink:href=\"#DejaVuSans-34\"/>\n       <use xlink:href=\"#DejaVuSans-2e\" x=\"63.623047\"/>\n       <use xlink:href=\"#DejaVuSans-34\" x=\"95.410156\"/>\n      </g>\n     </g>\n    </g>\n    <g id=\"ytick_5\">\n     <g id=\"line2d_10\">\n      <g>\n       <use xlink:href=\"#m9511763dd0\" x=\"30.103125\" y=\"36.604565\" style=\"stroke: #000000; stroke-width: 0.8\"/>\n      </g>\n     </g>\n     <g id=\"text_11\">\n      <!-- 4.6 -->\n      <g transform=\"translate(7.2 40.403784) scale(0.1 -0.1)\">\n       <defs>\n        <path id=\"DejaVuSans-36\" d=\"M 2113 2584 \nQ 1688 2584 1439 2293 \nQ 1191 2003 1191 1497 \nQ 1191 994 1439 701 \nQ 1688 409 2113 409 \nQ 2538 409 2786 701 \nQ 3034 994 3034 1497 \nQ 3034 2003 2786 2293 \nQ 2538 2584 2113 2584 \nz\nM 3366 4563 \nL 3366 3988 \nQ 3128 4100 2886 4159 \nQ 2644 4219 2406 4219 \nQ 1781 4219 1451 3797 \nQ 1122 3375 1075 2522 \nQ 1259 2794 1537 2939 \nQ 1816 3084 2150 3084 \nQ 2853 3084 3261 2657 \nQ 3669 2231 3669 1497 \nQ 3669 778 3244 343 \nQ 2819 -91 2113 -91 \nQ 1303 -91 875 529 \nQ 447 1150 447 2328 \nQ 447 3434 972 4092 \nQ 1497 4750 2381 4750 \nQ 2619 4750 2861 4703 \nQ 3103 4656 3366 4563 \nz\n\" transform=\"scale(0.015625)\"/>\n       </defs>\n       <use xlink:href=\"#DejaVuSans-34\"/>\n       <use xlink:href=\"#DejaVuSans-2e\" x=\"63.623047\"/>\n       <use xlink:href=\"#DejaVuSans-36\" x=\"95.410156\"/>\n      </g>\n     </g>\n    </g>\n    <g id=\"ytick_6\">\n     <g id=\"line2d_11\">\n      <g>\n       <use xlink:href=\"#m9511763dd0\" x=\"30.103125\" y=\"12.851805\" style=\"stroke: #000000; stroke-width: 0.8\"/>\n      </g>\n     </g>\n     <g id=\"text_12\">\n      <!-- 4.8 -->\n      <g transform=\"translate(7.2 16.651024) scale(0.1 -0.1)\">\n       <use xlink:href=\"#DejaVuSans-34\"/>\n       <use xlink:href=\"#DejaVuSans-2e\" x=\"63.623047\"/>\n       <use xlink:href=\"#DejaVuSans-38\" x=\"95.410156\"/>\n      </g>\n     </g>\n    </g>\n   </g>\n   <g id=\"line2d_12\">\n    <path d=\"M 41.546484 35.126865 \n\" clip-path=\"url(#pfc9e7480fc)\" style=\"fill: none; stroke: #1f77b4; stroke-width: 1.5; stroke-linecap: square\"/>\n   </g>\n   <g id=\"line2d_13\">\n    <path d=\"M 41.546484 35.126865 \nL 65.958984 13.5 \n\" clip-path=\"url(#pfc9e7480fc)\" style=\"fill: none; stroke: #1f77b4; stroke-width: 1.5; stroke-linecap: square\"/>\n   </g>\n   <g id=\"line2d_14\">\n    <path d=\"M 41.546484 35.126865 \nL 65.958984 13.5 \n\" clip-path=\"url(#pfc9e7480fc)\" style=\"fill: none; stroke: #1f77b4; stroke-width: 1.5; stroke-linecap: square\"/>\n   </g>\n   <g id=\"line2d_15\">\n    <path d=\"M 78.928125 40.624675 \n\" clip-path=\"url(#pfc9e7480fc)\" style=\"fill: none; stroke-dasharray: 5.55,2.4; stroke-dashoffset: 0; stroke: #ff7f0e; stroke-width: 1.5\"/>\n   </g>\n   <g id=\"line2d_16\">\n    <path d=\"M 41.546484 35.126865 \nL 65.958984 13.5 \nL 90.371484 63.704391 \n\" clip-path=\"url(#pfc9e7480fc)\" style=\"fill: none; stroke: #1f77b4; stroke-width: 1.5; stroke-linecap: square\"/>\n   </g>\n   <g id=\"line2d_17\">\n    <path d=\"M 78.928125 40.624675 \n\" clip-path=\"url(#pfc9e7480fc)\" style=\"fill: none; stroke-dasharray: 5.55,2.4; stroke-dashoffset: 0; stroke: #ff7f0e; stroke-width: 1.5\"/>\n   </g>\n   <g id=\"line2d_18\">\n    <path d=\"M 41.546484 35.126865 \nL 65.958984 13.5 \nL 90.371484 63.704391 \nL 114.783984 56.95997 \n\" clip-path=\"url(#pfc9e7480fc)\" style=\"fill: none; stroke: #1f77b4; stroke-width: 1.5; stroke-linecap: square\"/>\n   </g>\n   <g id=\"line2d_19\">\n    <path d=\"M 78.928125 40.624675 \n\" clip-path=\"url(#pfc9e7480fc)\" style=\"fill: none; stroke-dasharray: 5.55,2.4; stroke-dashoffset: 0; stroke: #ff7f0e; stroke-width: 1.5\"/>\n   </g>\n   <g id=\"line2d_20\">\n    <path d=\"M 41.546484 35.126865 \nL 65.958984 13.5 \nL 90.371484 63.704391 \nL 114.783984 56.95997 \n\" clip-path=\"url(#pfc9e7480fc)\" style=\"fill: none; stroke: #1f77b4; stroke-width: 1.5; stroke-linecap: square\"/>\n   </g>\n   <g id=\"line2d_21\">\n    <path d=\"M 78.928125 40.624675 \nL 127.753125 73.784826 \n\" clip-path=\"url(#pfc9e7480fc)\" style=\"fill: none; stroke-dasharray: 5.55,2.4; stroke-dashoffset: 0; stroke: #ff7f0e; stroke-width: 1.5\"/>\n   </g>\n   <g id=\"line2d_22\">\n    <path d=\"M 41.546484 35.126865 \nL 65.958984 13.5 \nL 90.371484 63.704391 \nL 114.783984 56.95997 \nL 139.196484 89.848816 \n\" clip-path=\"url(#pfc9e7480fc)\" style=\"fill: none; stroke: #1f77b4; stroke-width: 1.5; stroke-linecap: square\"/>\n   </g>\n   <g id=\"line2d_23\">\n    <path d=\"M 78.928125 40.624675 \nL 127.753125 73.784826 \n\" clip-path=\"url(#pfc9e7480fc)\" style=\"fill: none; stroke-dasharray: 5.55,2.4; stroke-dashoffset: 0; stroke: #ff7f0e; stroke-width: 1.5\"/>\n   </g>\n   <g id=\"line2d_24\">\n    <path d=\"M 41.546484 35.126865 \nL 65.958984 13.5 \nL 90.371484 63.704391 \nL 114.783984 56.95997 \nL 139.196484 89.848816 \nL 163.608984 95.326361 \n\" clip-path=\"url(#pfc9e7480fc)\" style=\"fill: none; stroke: #1f77b4; stroke-width: 1.5; stroke-linecap: square\"/>\n   </g>\n   <g id=\"line2d_25\">\n    <path d=\"M 78.928125 40.624675 \nL 127.753125 73.784826 \n\" clip-path=\"url(#pfc9e7480fc)\" style=\"fill: none; stroke-dasharray: 5.55,2.4; stroke-dashoffset: 0; stroke: #ff7f0e; stroke-width: 1.5\"/>\n   </g>\n   <g id=\"line2d_26\">\n    <path d=\"M 41.546484 35.126865 \nL 65.958984 13.5 \nL 90.371484 63.704391 \nL 114.783984 56.95997 \nL 139.196484 89.848816 \nL 163.608984 95.326361 \n\" clip-path=\"url(#pfc9e7480fc)\" style=\"fill: none; stroke: #1f77b4; stroke-width: 1.5; stroke-linecap: square\"/>\n   </g>\n   <g id=\"line2d_27\">\n    <path d=\"M 78.928125 40.624675 \nL 127.753125 73.784826 \nL 176.578125 106.798198 \n\" clip-path=\"url(#pfc9e7480fc)\" style=\"fill: none; stroke-dasharray: 5.55,2.4; stroke-dashoffset: 0; stroke: #ff7f0e; stroke-width: 1.5\"/>\n   </g>\n   <g id=\"line2d_28\">\n    <path d=\"M 41.546484 35.126865 \nL 65.958984 13.5 \nL 90.371484 63.704391 \nL 114.783984 56.95997 \nL 139.196484 89.848816 \nL 163.608984 95.326361 \nL 188.021484 120.965493 \n\" clip-path=\"url(#pfc9e7480fc)\" style=\"fill: none; stroke: #1f77b4; stroke-width: 1.5; stroke-linecap: square\"/>\n   </g>\n   <g id=\"line2d_29\">\n    <path d=\"M 78.928125 40.624675 \nL 127.753125 73.784826 \nL 176.578125 106.798198 \n\" clip-path=\"url(#pfc9e7480fc)\" style=\"fill: none; stroke-dasharray: 5.55,2.4; stroke-dashoffset: 0; stroke: #ff7f0e; stroke-width: 1.5\"/>\n   </g>\n   <g id=\"line2d_30\">\n    <path d=\"M 41.546484 35.126865 \nL 65.958984 13.5 \nL 90.371484 63.704391 \nL 114.783984 56.95997 \nL 139.196484 89.848816 \nL 163.608984 95.326361 \nL 188.021484 120.965493 \nL 212.433984 134.113794 \n\" clip-path=\"url(#pfc9e7480fc)\" style=\"fill: none; stroke: #1f77b4; stroke-width: 1.5; stroke-linecap: square\"/>\n   </g>\n   <g id=\"line2d_31\">\n    <path d=\"M 78.928125 40.624675 \nL 127.753125 73.784826 \nL 176.578125 106.798198 \n\" clip-path=\"url(#pfc9e7480fc)\" style=\"fill: none; stroke-dasharray: 5.55,2.4; stroke-dashoffset: 0; stroke: #ff7f0e; stroke-width: 1.5\"/>\n   </g>\n   <g id=\"line2d_32\">\n    <path d=\"M 41.546484 35.126865 \nL 65.958984 13.5 \nL 90.371484 63.704391 \nL 114.783984 56.95997 \nL 139.196484 89.848816 \nL 163.608984 95.326361 \nL 188.021484 120.965493 \nL 212.433984 134.113794 \n\" clip-path=\"url(#pfc9e7480fc)\" style=\"fill: none; stroke: #1f77b4; stroke-width: 1.5; stroke-linecap: square\"/>\n   </g>\n   <g id=\"line2d_33\">\n    <path d=\"M 78.928125 40.624675 \nL 127.753125 73.784826 \nL 176.578125 106.798198 \nL 225.403125 139.5 \n\" clip-path=\"url(#pfc9e7480fc)\" style=\"fill: none; stroke-dasharray: 5.55,2.4; stroke-dashoffset: 0; stroke: #ff7f0e; stroke-width: 1.5\"/>\n   </g>\n   <g id=\"patch_3\">\n    <path d=\"M 30.103125 145.8 \nL 30.103125 7.2 \n\" style=\"fill: none; stroke: #000000; stroke-width: 0.8; stroke-linejoin: miter; stroke-linecap: square\"/>\n   </g>\n   <g id=\"patch_4\">\n    <path d=\"M 225.403125 145.8 \nL 225.403125 7.2 \n\" style=\"fill: none; stroke: #000000; stroke-width: 0.8; stroke-linejoin: miter; stroke-linecap: square\"/>\n   </g>\n   <g id=\"patch_5\">\n    <path d=\"M 30.103125 145.8 \nL 225.403125 145.8 \n\" style=\"fill: none; stroke: #000000; stroke-width: 0.8; stroke-linejoin: miter; stroke-linecap: square\"/>\n   </g>\n   <g id=\"patch_6\">\n    <path d=\"M 30.103125 7.2 \nL 225.403125 7.2 \n\" style=\"fill: none; stroke: #000000; stroke-width: 0.8; stroke-linejoin: miter; stroke-linecap: square\"/>\n   </g>\n   <g id=\"legend_1\">\n    <g id=\"patch_7\">\n     <path d=\"M 138.8125 45.1125 \nL 218.403125 45.1125 \nQ 220.403125 45.1125 220.403125 43.1125 \nL 220.403125 14.2 \nQ 220.403125 12.2 218.403125 12.2 \nL 138.8125 12.2 \nQ 136.8125 12.2 136.8125 14.2 \nL 136.8125 43.1125 \nQ 136.8125 45.1125 138.8125 45.1125 \nz\n\" style=\"fill: #ffffff; opacity: 0.8; stroke: #cccccc; stroke-linejoin: miter\"/>\n    </g>\n    <g id=\"line2d_34\">\n     <path d=\"M 140.8125 20.298438 \nL 150.8125 20.298438 \nL 160.8125 20.298438 \n\" style=\"fill: none; stroke: #1f77b4; stroke-width: 1.5; stroke-linecap: square\"/>\n    </g>\n    <g id=\"text_13\">\n     <!-- train_loss -->\n     <g transform=\"translate(168.8125 23.798438) scale(0.1 -0.1)\">\n      <defs>\n       <path id=\"DejaVuSans-74\" d=\"M 1172 4494 \nL 1172 3500 \nL 2356 3500 \nL 2356 3053 \nL 1172 3053 \nL 1172 1153 \nQ 1172 725 1289 603 \nQ 1406 481 1766 481 \nL 2356 481 \nL 2356 0 \nL 1766 0 \nQ 1100 0 847 248 \nQ 594 497 594 1153 \nL 594 3053 \nL 172 3053 \nL 172 3500 \nL 594 3500 \nL 594 4494 \nL 1172 4494 \nz\n\" transform=\"scale(0.015625)\"/>\n       <path id=\"DejaVuSans-72\" d=\"M 2631 2963 \nQ 2534 3019 2420 3045 \nQ 2306 3072 2169 3072 \nQ 1681 3072 1420 2755 \nQ 1159 2438 1159 1844 \nL 1159 0 \nL 581 0 \nL 581 3500 \nL 1159 3500 \nL 1159 2956 \nQ 1341 3275 1631 3429 \nQ 1922 3584 2338 3584 \nQ 2397 3584 2469 3576 \nQ 2541 3569 2628 3553 \nL 2631 2963 \nz\n\" transform=\"scale(0.015625)\"/>\n       <path id=\"DejaVuSans-61\" d=\"M 2194 1759 \nQ 1497 1759 1228 1600 \nQ 959 1441 959 1056 \nQ 959 750 1161 570 \nQ 1363 391 1709 391 \nQ 2188 391 2477 730 \nQ 2766 1069 2766 1631 \nL 2766 1759 \nL 2194 1759 \nz\nM 3341 1997 \nL 3341 0 \nL 2766 0 \nL 2766 531 \nQ 2569 213 2275 61 \nQ 1981 -91 1556 -91 \nQ 1019 -91 701 211 \nQ 384 513 384 1019 \nQ 384 1609 779 1909 \nQ 1175 2209 1959 2209 \nL 2766 2209 \nL 2766 2266 \nQ 2766 2663 2505 2880 \nQ 2244 3097 1772 3097 \nQ 1472 3097 1187 3025 \nQ 903 2953 641 2809 \nL 641 3341 \nQ 956 3463 1253 3523 \nQ 1550 3584 1831 3584 \nQ 2591 3584 2966 3190 \nQ 3341 2797 3341 1997 \nz\n\" transform=\"scale(0.015625)\"/>\n       <path id=\"DejaVuSans-69\" d=\"M 603 3500 \nL 1178 3500 \nL 1178 0 \nL 603 0 \nL 603 3500 \nz\nM 603 4863 \nL 1178 4863 \nL 1178 4134 \nL 603 4134 \nL 603 4863 \nz\n\" transform=\"scale(0.015625)\"/>\n       <path id=\"DejaVuSans-6e\" d=\"M 3513 2113 \nL 3513 0 \nL 2938 0 \nL 2938 2094 \nQ 2938 2591 2744 2837 \nQ 2550 3084 2163 3084 \nQ 1697 3084 1428 2787 \nQ 1159 2491 1159 1978 \nL 1159 0 \nL 581 0 \nL 581 3500 \nL 1159 3500 \nL 1159 2956 \nQ 1366 3272 1645 3428 \nQ 1925 3584 2291 3584 \nQ 2894 3584 3203 3211 \nQ 3513 2838 3513 2113 \nz\n\" transform=\"scale(0.015625)\"/>\n       <path id=\"DejaVuSans-5f\" d=\"M 3263 -1063 \nL 3263 -1509 \nL -63 -1509 \nL -63 -1063 \nL 3263 -1063 \nz\n\" transform=\"scale(0.015625)\"/>\n       <path id=\"DejaVuSans-6c\" d=\"M 603 4863 \nL 1178 4863 \nL 1178 0 \nL 603 0 \nL 603 4863 \nz\n\" transform=\"scale(0.015625)\"/>\n       <path id=\"DejaVuSans-73\" d=\"M 2834 3397 \nL 2834 2853 \nQ 2591 2978 2328 3040 \nQ 2066 3103 1784 3103 \nQ 1356 3103 1142 2972 \nQ 928 2841 928 2578 \nQ 928 2378 1081 2264 \nQ 1234 2150 1697 2047 \nL 1894 2003 \nQ 2506 1872 2764 1633 \nQ 3022 1394 3022 966 \nQ 3022 478 2636 193 \nQ 2250 -91 1575 -91 \nQ 1294 -91 989 -36 \nQ 684 19 347 128 \nL 347 722 \nQ 666 556 975 473 \nQ 1284 391 1588 391 \nQ 1994 391 2212 530 \nQ 2431 669 2431 922 \nQ 2431 1156 2273 1281 \nQ 2116 1406 1581 1522 \nL 1381 1569 \nQ 847 1681 609 1914 \nQ 372 2147 372 2553 \nQ 372 3047 722 3315 \nQ 1072 3584 1716 3584 \nQ 2034 3584 2315 3537 \nQ 2597 3491 2834 3397 \nz\n\" transform=\"scale(0.015625)\"/>\n      </defs>\n      <use xlink:href=\"#DejaVuSans-74\"/>\n      <use xlink:href=\"#DejaVuSans-72\" x=\"39.208984\"/>\n      <use xlink:href=\"#DejaVuSans-61\" x=\"80.322266\"/>\n      <use xlink:href=\"#DejaVuSans-69\" x=\"141.601562\"/>\n      <use xlink:href=\"#DejaVuSans-6e\" x=\"169.384766\"/>\n      <use xlink:href=\"#DejaVuSans-5f\" x=\"232.763672\"/>\n      <use xlink:href=\"#DejaVuSans-6c\" x=\"282.763672\"/>\n      <use xlink:href=\"#DejaVuSans-6f\" x=\"310.546875\"/>\n      <use xlink:href=\"#DejaVuSans-73\" x=\"371.728516\"/>\n      <use xlink:href=\"#DejaVuSans-73\" x=\"423.828125\"/>\n     </g>\n    </g>\n    <g id=\"line2d_35\">\n     <path d=\"M 140.8125 35.254688 \nL 150.8125 35.254688 \nL 160.8125 35.254688 \n\" style=\"fill: none; stroke-dasharray: 5.55,2.4; stroke-dashoffset: 0; stroke: #ff7f0e; stroke-width: 1.5\"/>\n    </g>\n    <g id=\"text_14\">\n     <!-- val_loss -->\n     <g transform=\"translate(168.8125 38.754688) scale(0.1 -0.1)\">\n      <defs>\n       <path id=\"DejaVuSans-76\" d=\"M 191 3500 \nL 800 3500 \nL 1894 563 \nL 2988 3500 \nL 3597 3500 \nL 2284 0 \nL 1503 0 \nL 191 3500 \nz\n\" transform=\"scale(0.015625)\"/>\n      </defs>\n      <use xlink:href=\"#DejaVuSans-76\"/>\n      <use xlink:href=\"#DejaVuSans-61\" x=\"59.179688\"/>\n      <use xlink:href=\"#DejaVuSans-6c\" x=\"120.458984\"/>\n      <use xlink:href=\"#DejaVuSans-5f\" x=\"148.242188\"/>\n      <use xlink:href=\"#DejaVuSans-6c\" x=\"198.242188\"/>\n      <use xlink:href=\"#DejaVuSans-6f\" x=\"226.025391\"/>\n      <use xlink:href=\"#DejaVuSans-73\" x=\"287.207031\"/>\n      <use xlink:href=\"#DejaVuSans-73\" x=\"339.306641\"/>\n     </g>\n    </g>\n   </g>\n  </g>\n </g>\n <defs>\n  <clipPath id=\"pfc9e7480fc\">\n   <rect x=\"30.103125\" y=\"7.2\" width=\"195.3\" height=\"138.6\"/>\n  </clipPath>\n </defs>\n</svg>\n"
          },
          "metadata": {}
        }
      ],
      "source": [
        "model = LinearRegressionScratch(2, lr=0.012)\n",
        "data = d2l.SyntheticRegressionData(w=torch.tensor([2, -3.4]), b=4.2)\n",
        "trainer = d2l.Trainer(max_epochs=4)\n",
        "trainer.fit(model, data)"
      ]
    },
    {
      "cell_type": "markdown",
      "id": "07628bb6",
      "metadata": {
        "origin_pos": 31,
        "id": "07628bb6"
      },
      "source": [
        "Because we synthesized the dataset ourselves,\n",
        "we know precisely what the true parameters are.\n",
        "Thus, we can [**evaluate our success in training\n",
        "by comparing the true parameters\n",
        "with those that we learned**] through our training loop.\n",
        "Indeed they turn out to be very close to each other.\n"
      ]
    },
    {
      "cell_type": "code",
      "execution_count": 19,
      "id": "5a72b404",
      "metadata": {
        "attributes": {
          "classes": [],
          "id": "",
          "n": "21"
        },
        "execution": {
          "iopub.execute_input": "2023-08-18T19:42:56.334422Z",
          "iopub.status.busy": "2023-08-18T19:42:56.333858Z",
          "iopub.status.idle": "2023-08-18T19:42:56.340281Z",
          "shell.execute_reply": "2023-08-18T19:42:56.339444Z"
        },
        "origin_pos": 32,
        "tab": [
          "pytorch"
        ],
        "colab": {
          "base_uri": "https://localhost:8080/"
        },
        "id": "5a72b404",
        "outputId": "1eec125c-e31a-41e1-d13c-dfaac4d59e3b"
      },
      "outputs": [
        {
          "output_type": "stream",
          "name": "stdout",
          "text": [
            "error in estimating w: tensor([ 0.1157, -0.1548])\n",
            "error in estimating b: tensor([0.2032])\n"
          ]
        }
      ],
      "source": [
        "with torch.no_grad():\n",
        "    print(f'error in estimating w: {data.w - model.w.reshape(data.w.shape)}')\n",
        "    print(f'error in estimating b: {data.b - model.b}')"
      ]
    },
    {
      "cell_type": "markdown",
      "id": "39644e44",
      "metadata": {
        "origin_pos": 35,
        "id": "39644e44"
      },
      "source": [
        "We should not take the ability to exactly recover\n",
        "the ground truth parameters for granted.\n",
        "In general, for deep models unique solutions\n",
        "for the parameters do not exist,\n",
        "and even for linear models,\n",
        "exactly recovering the parameters\n",
        "is only possible when no feature\n",
        "is linearly dependent on the others.\n",
        "However, in machine learning,\n",
        "we are often less concerned\n",
        "with recovering true underlying parameters,\n",
        "but rather with parameters\n",
        "that lead to highly accurate prediction :cite:`Vapnik.1992`.\n",
        "Fortunately, even on difficult optimization problems,\n",
        "stochastic gradient descent can often find remarkably good solutions,\n",
        "owing partly to the fact that, for deep networks,\n",
        "there exist many configurations of the parameters\n",
        "that lead to highly accurate prediction.\n",
        "\n",
        "\n",
        "## Summary\n",
        "\n",
        "In this section, we took a significant step\n",
        "towards designing deep learning systems\n",
        "by implementing a fully functional\n",
        "neural network model and training loop.\n",
        "In this process, we built a data loader,\n",
        "a model, a loss function, an optimization procedure,\n",
        "and a visualization and monitoring tool.\n",
        "We did this by composing a Python object\n",
        "that contains all relevant components for training a model.\n",
        "While this is not yet a professional-grade implementation\n",
        "it is perfectly functional and code like this\n",
        "could already help you to solve small problems quickly.\n",
        "In the coming sections, we will see how to do this\n",
        "both *more concisely* (avoiding boilerplate code)\n",
        "and *more efficiently* (using our GPUs to their full potential).\n",
        "\n",
        "\n",
        "\n",
        "## Exercises\n",
        "\n",
        "1. What would happen if we were to initialize the weights to zero. Would the algorithm still work? What if we\n",
        "   initialized the parameters with variance $1000$ rather than $0.01$?\n",
        "1. Assume that you are [Georg Simon Ohm](https://en.wikipedia.org/wiki/Georg_Ohm) trying to come up\n",
        "   with a model for resistance that relates voltage and current. Can you use automatic\n",
        "   differentiation to learn the parameters of your model?\n",
        "1. Can you use [Planck's Law](https://en.wikipedia.org/wiki/Planck%27s_law) to determine the temperature of an object\n",
        "   using spectral energy density? For reference, the spectral density $B$ of radiation emanating from a black body is\n",
        "   $B(\\lambda, T) = \\frac{2 hc^2}{\\lambda^5} \\cdot \\left(\\exp \\frac{h c}{\\lambda k T} - 1\\right)^{-1}$. Here\n",
        "   $\\lambda$ is the wavelength, $T$ is the temperature, $c$ is the speed of light, $h$ is Planck's constant, and $k$ is the\n",
        "   Boltzmann constant. You measure the energy for different wavelengths $\\lambda$ and you now need to fit the spectral\n",
        "   density curve to Planck's law.\n",
        "1. What are the problems you might encounter if you wanted to compute the second derivatives of the loss? How would\n",
        "   you fix them?\n",
        "1. Why is the `reshape` method needed in the `loss` function?\n",
        "1. Experiment using different learning rates to find out how quickly the loss function value drops. Can you reduce the\n",
        "   error by increasing the number of epochs of training?\n",
        "1. If the number of examples cannot be divided by the batch size, what happens to `data_iter` at the end of an epoch?\n",
        "1. Try implementing a different loss function, such as the absolute value loss `(y_hat - d2l.reshape(y, y_hat.shape)).abs().sum()`.\n",
        "    1. Check what happens for regular data.\n",
        "    1. Check whether there is a difference in behavior if you actively perturb some entries, such as $y_5 = 10000$, of $\\mathbf{y}$.\n",
        "    1. Can you think of a cheap solution for combining the best aspects of squared loss and absolute value loss?\n",
        "       Hint: how can you avoid really large gradient values?\n",
        "1. Why do we need to reshuffle the dataset? Can you design a case where a maliciously constructed dataset would break the optimization algorithm otherwise?\n"
      ]
    },
    {
      "cell_type": "code",
      "source": [
        "#1\n",
        "'''\n",
        "it would not work if the weights were initialized at zero. this is because every element will be zero once matmul'd with the design matrix\n",
        "as such, this is effectively the same as the design matrix being zero rank, as all columns are the same, and thus linearly dependent\n",
        "\n",
        "initializing the parameters with a higher variance could likely disrupt the convergence rate in some cases. this is because when initalized\n",
        "with a low variance, the weights for each feature are similar. thus, they move from a similar point to try and find the true value.\n",
        "however, with greater variance, it is possible on initation many weights are very far apart from their optimal values, which increases\n",
        "convergence time. small values break symmetry, and provide stable values for gradients.\n",
        "'''\n",
        "\n",
        "#2\n",
        "'''\n",
        "yes. two features voltage and current with learnable parameter resistance.\n",
        "'''\n",
        "\n",
        "#3\n",
        "'''\n",
        "the same as 2. every variable except t is a feature. t is a learnable scalar parameter\n",
        "'''\n",
        "\n",
        "#4\n",
        "'''\n",
        "a problem with calculating the 2nd derivative could be because of the degree of the loss function. with the assumption that our\n",
        "loss is mae, the gradient is constant. so a second derivative for mae atleast would not work.\n",
        "this can be fixed by using a higher degree/exponential loss function or just a better one than mae\n",
        "\n",
        "there is also an exponential size increase of the second derivative, as it is the square of the first one. very computationally expensive.\n",
        "\n",
        "higher order derivatives are also more sensitive. this is a bad thing, as it means if you use 2nd order or greator deriv for loss,\n",
        "it can be too sensitive to changes.\n",
        "'''\n",
        "\n",
        "#5\n",
        "'''\n",
        "reshape just to ensure that the tensor shapes are the same\n",
        "'''\n",
        "\n",
        "#6\n",
        "'''\n",
        "from 0.03, increasing it sees a significant increase in how fast loss drops, up to about 2. however, going lower than\n",
        "0.03 slows down how fast loss drops. in both these cases, where lr is roughly greater than 2, or roughly less than 0.03,\n",
        "the loss becomes more volatile and oscillates.\n",
        "\n",
        "increasing the number of epochs does result in values outside the optimal range converging,\n",
        "but only for the learning rates below 0.03, not for the very high ones.\n",
        "'''\n",
        "\n",
        "#7\n",
        "'''\n",
        "you just have a smaller batch. this isn't an issue (for this case atleast) because gradients are an average of the samples within a minibatch\n",
        "'''\n",
        "\n",
        "#8\n",
        "'''\n",
        "8.1\n",
        "implemented mean absolute error. mean absolute error is much more finicky. it oscillates much more while it converges,\n",
        "which is expected because gradient change is absolute and not relative. the values which have a fast convergence\n",
        "also falls into a far more narrow band compared to mse.\n",
        "\n",
        "8.2\n",
        "mae begins to perform better when there are extreme outliers. this makes sense as outliers do not affect the gradient\n",
        "more strongly in mae.\n",
        "\n",
        "8.3\n",
        "the cheapest solution is just to ignore outlier gradient values while using mse.\n",
        "alternatively can use either mse or mae depending on how big the loss is\n",
        "'''\n",
        "\n",
        "#9\n",
        "'''\n",
        "theoretically, a dataset can be designed so that each minibatch produces an average gradient change of 0. this would\n",
        "break the optimization function. randomizing sample selection would elliminate this particular concern.\n",
        "this can also be done outside of a single minibatch, so the loss oscillates upwards and downwards, resulting\n",
        "in minimal or no convergence.\n",
        "'''"
      ],
      "metadata": {
        "id": "9OECYNKGcRA9"
      },
      "id": "9OECYNKGcRA9",
      "execution_count": null,
      "outputs": []
    },
    {
      "cell_type": "markdown",
      "id": "d533576d",
      "metadata": {
        "origin_pos": 37,
        "tab": [
          "pytorch"
        ],
        "id": "d533576d"
      },
      "source": [
        "[Discussions](https://discuss.d2l.ai/t/43)\n"
      ]
    }
  ],
  "metadata": {
    "kernelspec": {
      "display_name": "Python 3",
      "name": "python3"
    },
    "language_info": {
      "name": "python"
    },
    "required_libs": [],
    "colab": {
      "provenance": []
    }
  },
  "nbformat": 4,
  "nbformat_minor": 5
}